{
 "cells": [
  {
   "cell_type": "markdown",
   "metadata": {},
   "source": [
    "# Dataset Extraction\n",
    "\n",
    "### Date: January 6, 2020"
   ]
  },
  {
   "cell_type": "code",
   "execution_count": 1,
   "metadata": {},
   "outputs": [],
   "source": [
    "import warnings\n",
    "warnings.filterwarnings('ignore')\n",
    "import concurrent.futures\n",
    "import time\n",
    "from classification import *\n",
    "from processing import *\n",
    "from dataset_extraction import *\n",
    "from multiprocessing import Pool"
   ]
  },
  {
   "cell_type": "code",
   "execution_count": 24,
   "metadata": {},
   "outputs": [],
   "source": [
    "def get_data_sources(path):\n",
    "    try:\n",
    "        pap = Paper(''.join(['Papers/', path]))\n",
    "        raw_text = pap.get_text(cleaned=False)\n",
    "    except: return\n",
    "    datasets = set()\n",
    "    try: datasets.add(re.search(r'data of \\\\cite{(.*)\\}', raw_text).group()[15:-1])\n",
    "    except: pass\n",
    "    try: datasets.add(re.search(r'data \\\\cite{(.*)\\}', raw_text).group()[13:-1])\n",
    "    except: pass\n",
    "    try: datasets.add(re.search(r'data of Ref.\\\\cite{(.*)\\}', raw_text).group()[19:-1])\n",
    "    except: pass\n",
    "    try: datasets.add(re.search(r'data of\\nRef.\\\\cite{(.*)\\}', raw_text).group()[20:-1])\n",
    "    except: pass\n",
    "    try : datasets.add(re.search(r'datas\\\\cite{(.*)\\}', raw_text).group()[12:-1])\n",
    "    except: pass\n",
    "    try: datasets.add(re.search(r'data\\\\cite{(.*)\\}', raw_text).group()[11:-1])\n",
    "    except: pass\n",
    "    try: datasets.add(re.search(r'data\\n\\\\cite{(.*)\\}', raw_text).group()[13:-1])\n",
    "    except: pass\n",
    "    try: datasets.add(re.search(r'datas\\n\\\\cite{(.*)\\}', raw_text).group()[14:-1])\n",
    "    except: pass\n",
    "    if not os.path.exists('data_sources'): os.makedirs('data_sources', exist_ok=True)\n",
    "    nme = 'data_sources/{}.json'.format(path)\n",
    "    with open(nme, 'w') as raw: \n",
    "        json.dump(list(datasets), raw, indent=4, sort_keys=False)\n",
    "    return datasets"
   ]
  },
  {
   "cell_type": "markdown",
   "metadata": {},
   "source": [
    "example for a paper that have datasets mentioned this way:"
   ]
  },
  {
   "cell_type": "code",
   "execution_count": 25,
   "metadata": {},
   "outputs": [
    {
     "data": {
      "text/plain": [
       "{'enderson_transverse_optics_organics',\n",
       " 'ser_conductivite_1d,moser_thesis',\n",
       " 'urbonnais_rmn_2,wzietek_nmr'}"
      ]
     },
     "execution_count": 25,
     "metadata": {},
     "output_type": "execute_result"
    }
   ],
   "source": [
    "get_data_sources(path='cond-mat0001063.gz')"
   ]
  },
  {
   "cell_type": "code",
   "execution_count": 26,
   "metadata": {},
   "outputs": [],
   "source": [
    "start = time.perf_counter()\n",
    "p = Pool(8)\n",
    "papers_paths = [filename for filename in os.listdir('Papers')]\n",
    "p.map(get_data_sources, papers_paths)\n",
    "finish = time.perf_counter()"
   ]
  },
  {
   "cell_type": "code",
   "execution_count": 27,
   "metadata": {},
   "outputs": [
    {
     "name": "stdout",
     "output_type": "stream",
     "text": [
      "Finished in 2.3 second(s)\n"
     ]
    }
   ],
   "source": [
    "print(f'Finished in {round(finish-start, 2)} second(s)')"
   ]
  },
  {
   "cell_type": "markdown",
   "metadata": {},
   "source": [
    "## TODO \n",
    "Would it works if there are several datasets mentioned using the same formula?"
   ]
  },
  {
   "cell_type": "code",
   "execution_count": 28,
   "metadata": {},
   "outputs": [],
   "source": [
    "#re.search('data of (?:\\\\cite\\{|(?<!^)\\G),?\\s*([^,}]+', raw_text).group()"
   ]
  },
  {
   "cell_type": "code",
   "execution_count": 29,
   "metadata": {},
   "outputs": [],
   "source": [
    "#re.search('data of \\\\cite{(.*)\\}', raw_text).group()"
   ]
  }
 ],
 "metadata": {
  "kernelspec": {
   "display_name": "Python 3",
   "language": "python",
   "name": "python3"
  },
  "language_info": {
   "codemirror_mode": {
    "name": "ipython",
    "version": 3
   },
   "file_extension": ".py",
   "mimetype": "text/x-python",
   "name": "python",
   "nbconvert_exporter": "python",
   "pygments_lexer": "ipython3",
   "version": "3.7.5"
  }
 },
 "nbformat": 4,
 "nbformat_minor": 2
}
