{
 "cells": [
  {
   "cell_type": "markdown",
   "metadata": {},
   "source": [
    "# Named Entity Recognition\n",
    "\n",
    "## Date: February 4, 2020\n",
    "\n",
    "Link: https://confusedcoders.com/data-science/deep-learning/how-to-create-custom-ner-in-spacy"
   ]
  },
  {
   "cell_type": "code",
   "execution_count": 7,
   "metadata": {},
   "outputs": [],
   "source": [
    "import os\n",
    "os.chdir('Documents/Projects/AI4Good/data_aiminer/pages_selected_bis_archived')"
   ]
  },
  {
   "cell_type": "code",
   "execution_count": 6,
   "metadata": {},
   "outputs": [],
   "source": [
    "os.chdir('..')"
   ]
  },
  {
   "cell_type": "code",
   "execution_count": 8,
   "metadata": {},
   "outputs": [],
   "source": [
    "import json"
   ]
  },
  {
   "cell_type": "code",
   "execution_count": 9,
   "metadata": {},
   "outputs": [],
   "source": [
    "with open('Analyses on characteristics of currents around Maoming Harbor.pdf_page_102.json') as f:\n",
    "    dct = json.load(f)"
   ]
  },
  {
   "cell_type": "code",
   "execution_count": 10,
   "metadata": {},
   "outputs": [
    {
     "data": {
      "text/plain": [
       "'Oral Presentations on 15 December  101surface compare favorably with experimental data. Numerical results are also presented for the instantaneous flow field, recirculation regions, vortex tubes, and maximal bed shear stress. The results indicate that the flow phenomena are very complicated after the bore breaks.  14:45 Internal generation of waves on an arced band in an unstructured grid system G. KIM Division of Ocean System Engineering, Mokpo National Maritime University, Mokpo City, Jeollanam-do, 530-729, Republic of Korea C. LEE Department of Civil and Environmental Engineering, Sejong University, 98 Gunja-Dong, Gwangjin-Gu, Seoul, 143-747, Korea In this study, we developed Gaussian source functions on an arced band to generate incident waves in the extended mild-slope equation. Numerical experiments were conducted for waves propagating on a flat bottom and also waves scattered by a vertical cylinder. The numerical results showed that the technique of wave generation using on an arced band causes negligible diffraction problem near the sponge layer.  15:00 Numerical study on the water exchange of the Bohai Sea under the combined action of wave, tide and surge BO XIA School of Civil Engineering, Tianjin University, Tianjin, 300072, China Changsha University of Science and Technology, Changsha, Hunan, 410114, China; QINGHE ZHANG School of Civil Engineering, Tianjin University, Tianjin, 300072, China YUAN LI, CHANGBO JIANG Changsha University of Science and Technology, Changsha, Hunan, 410114, China The Bohai Sea is a semi-enclosed inland sea in northern China which has been polluted these years. The wave, tide and storm surge are the most important dynamic processes in the Bohai Sea, these three dynamic factors play an important role in the water exchange of the Bohai Sea, but few researches has been done about the influence of the wind on the water exchange in the Bohai Sea. In this study, some concepts and models for water exchange in the coastal sea are introduced. Half-life time, simulated by a dispersion model, is chose to represent the exchange ability of the Bohai Sea. Based on the FVM method and unstructured triangular mesh, a high resolution numerical model is established to study the tide and storm surge. This model coupled with SWAN model is applied to study the combined action of wave, tide and storm surge. The coupled model, verified by measured data from the southwest coast of the Bohai Sea, is used to simulate the water exchange process of the Bohai Sea. The results show that the wind in the Bohai Sea has significant influences on water exchange results. A coupled numerical model of wave, tide and storm surge should be used when the water exchange process is simulated in the Bohai Sea.   15:45 Prediction of long-term topographic changes of Tenryu River Delta associated with sand bypassing at dam in upper basin assuming no coastal facilities S. MIYAHARA Coastal Engineering Laboratory Co., Ltd.,  1-22-301 Wakaba, Shinjuku, Tokyo 160-0011, Japan T. UDAT. ISHIKAWAPublic Works Research Center, 1-6-4 Taito, Taito, Tokyo 110-0016, Japan K. FURUIKEM. SERIZAWA Coastal Engineering Laboratory Co., Ltd.,  1-22-301 Wakaba, Shinjuku, Tokyo 160-0011, Japan The long-term topographic changes of the Tenryu River delta were predicted using the contour-line-change model, in which changes in grain size are taken into account. Given the annual discharge of sediment with three grain sizes, the recovery of the delta topography and the effect of nourishment on the nearby coast were predicted. Under the hypothetical condition that no coastal structures had been constructed along the coast, the effect of artificial sand supply from the river mouth was studied. The model was applied to the coast with a 10 km length extending on each side of the river mouth, and the beach changes up to 100 years from the present were predicted.  16:00 Beach profile changes under the action of solitary waves: Boussinesq modeling and comparison with laboratorial measurements J. CHEN1,2, Z.H. HUANG3,4, C.B. JIANG2, L.L. LI4, H.T. NIE1 1DHI-NTU Water & Environment Research Centre & Education Hub, Nanyang Technological University, Singapore 639798, Republic of Singapore 2School of Hydraulic Engineering, Changsha University of Science & Technology, Changsha 410004, P.R. China 3School of Civil and Environmental Engineering, Nanyang Technological University, Singapore 639798, Republic of Singapore 4Earth of Observatory of Singapore, Nanyang Technological University, Singapore 639798, Republic of Singapore A 1D numerical model is reported that has the capability of modeling solitary wave runup and rundown an erodible bed. We couple the highly nonlinear and weakly dispersive Boussinesq equations with a sediment transport module and morphological evolution module to study the sediment transport and morphological changes under solitary waves. The combined model is validated using available laboratory experiments on solitary waves attacking sandy beaches. Parallel Session 6 Thursday, 15 December Beach Erosion and Morphodynamics II Ballroom C Chair: Yongjun Lu, Zheng Bing Wang '"
      ]
     },
     "execution_count": 10,
     "metadata": {},
     "output_type": "execute_result"
    }
   ],
   "source": [
    "dct"
   ]
  },
  {
   "cell_type": "code",
   "execution_count": 11,
   "metadata": {},
   "outputs": [],
   "source": [
    "import spacy\n",
    "from spacy.matcher import PhraseMatcher\n",
    "from spacy.gold import GoldParse\n",
    "from spacy.scorer import Scorer\n",
    "import plac\n",
    "from pathlib import Path\n",
    "import random"
   ]
  },
  {
   "cell_type": "code",
   "execution_count": 12,
   "metadata": {},
   "outputs": [],
   "source": [
    "import plac\n",
    "import random\n",
    "from pathlib import Path\n",
    "from tqdm import tqdm"
   ]
  },
  {
   "cell_type": "code",
   "execution_count": 13,
   "metadata": {},
   "outputs": [],
   "source": [
    "nlp = spacy.load('en')"
   ]
  },
  {
   "cell_type": "code",
   "execution_count": 14,
   "metadata": {},
   "outputs": [],
   "source": [
    "doc_ = nlp(dct)"
   ]
  },
  {
   "cell_type": "code",
   "execution_count": 15,
   "metadata": {},
   "outputs": [
    {
     "name": "stdout",
     "output_type": "stream",
     "text": [
      "15 22 24 CARDINAL\n",
      "December 25 33 DATE\n",
      "14:45 316 321 TIME\n",
      "G. KIM Division 399 414 PERSON\n",
      "Ocean System Engineering 418 442 ORG\n",
      "Mokpo National Maritime University 444 478 ORG\n",
      "Mokpo City 480 490 GPE\n",
      "Jeollanam 492 501 GPE\n",
      "530 506 509 CARDINAL\n",
      "Republic of Korea C. LEE Department of Civil and Environmental Engineering 515 589 ORG\n",
      "Sejong University 591 608 ORG\n",
      "98 610 612 CARDINAL\n",
      "Gunja 613 618 ORG\n",
      "Gwangjin 625 633 GPE\n",
      "Seoul 638 643 GPE\n",
      "143 645 648 CARDINAL\n",
      "Korea 654 659 GPE\n",
      "Gaussian 688 696 NORP\n",
      "15:00 1072 1077 CARDINAL\n",
      "the Bohai Sea 1119 1132 LOC\n",
      "BO XIA School of Civil Engineering 1183 1217 ORG\n",
      "Tianjin University 1219 1237 ORG\n",
      "Tianjin 1239 1246 GPE\n",
      "300072 1248 1254 DATE\n",
      "China Changsha University of Science and Technology 1256 1307 ORG\n",
      "Changsha 1309 1317 GPE\n",
      "Hunan 1319 1324 GPE\n",
      "410114 1326 1332 DATE\n",
      "China 1334 1339 GPE\n",
      "QINGHE ZHANG School of Civil Engineering 1341 1381 ORG\n",
      "Tianjin University 1383 1401 ORG\n",
      "Tianjin 1403 1410 GPE\n",
      "300072 1412 1418 DATE\n",
      "China 1420 1425 GPE\n",
      "CHANGBO JIANG Changsha University of Science and Technology 1435 1494 ORG\n",
      "Changsha 1496 1504 GPE\n",
      "Hunan 1506 1511 GPE\n",
      "410114 1513 1519 DATE\n",
      "China 1521 1526 GPE\n",
      "The Bohai Sea 1527 1540 LOC\n",
      "China 1583 1588 GPE\n",
      "these years 1613 1624 DATE\n",
      "the Bohai Sea 1701 1714 LOC\n",
      "three 1722 1727 CARDINAL\n",
      "the Bohai Sea 1792 1805 LOC\n",
      "the Bohai Sea 1897 1910 LOC\n",
      "Half 2006 2010 CARDINAL\n",
      "the Bohai Sea 2101 2114 LOC\n",
      "FVM 2129 2132 ORG\n",
      "SWAN 2282 2286 ORG\n",
      "the Bohai Sea 2437 2450 LOC\n",
      "the Bohai Sea 2502 2515 LOC\n",
      "the Bohai Sea 2551 2564 LOC\n",
      "the Bohai Sea 2738 2751 LOC\n",
      "Tenryu River Delta 2808 2826 LOC\n",
      "S. MIYAHARA Coastal Engineering Laboratory Co., Ltd. 2911 2963 ORG\n",
      " 1-22-301 Wakaba 2965 2981 ORG\n",
      "Shinjuku 2983 2991 ORG\n",
      "Tokyo 2993 2998 GPE\n",
      "160-0011 2999 3007 DATE\n",
      "Japan 3009 3014 GPE\n",
      "ISHIKAWAPublic Works Research Center 3024 3060 ORG\n",
      "1 3062 3063 CARDINAL\n",
      "Taito 3068 3073 ORG\n",
      "Taito 3075 3080 GPE\n",
      "Tokyo 3082 3087 GPE\n",
      "110-0016 3088 3096 DATE\n",
      "Japan 3098 3103 GPE\n",
      "K. FURUIKEM 3104 3115 PERSON\n",
      "SERIZAWA Coastal Engineering Laboratory Co., Ltd. 3117 3166 ORG\n",
      "Wakaba 3178 3184 GPE\n",
      "Shinjuku 3186 3194 ORG\n",
      "Tokyo 3196 3201 GPE\n",
      "160-0011 3202 3210 DATE\n",
      "Japan 3212 3217 GPE\n",
      "Tenryu River 3259 3271 LOC\n",
      "annual 3395 3401 DATE\n",
      "three 3429 3434 CARDINAL\n",
      "10 km 3762 3767 QUANTITY\n",
      "100 years 3846 3855 DATE\n",
      "16:00 Beach 3890 3901 GPE\n",
      "Boussinesq 3954 3964 NORP\n",
      "J. CHEN1,2 4020 4030 PERSON\n",
      "Z.H. HUANG3,4 4032 4045 ORG\n",
      "C.B. 4047 4051 GPE\n",
      "L.L. LI4 4060 4068 ORG\n",
      "H.T. 4070 4074 GPE\n",
      "1DHI-NTU Water & Environment Research Centre & Education Hub 4080 4140 ORG\n",
      "Nanyang Technological University 4142 4174 ORG\n",
      "Singapore 4176 4185 GPE\n",
      "639798 4186 4192 DATE\n",
      ", Republic of Singapore 4192 4215 GPE\n",
      "Hydraulic Engineering 4227 4248 ORG\n",
      "Changsha University of Science & Technology 4250 4293 ORG\n",
      "Changsha 4295 4303 GPE\n",
      "410004 4304 4310 DATE\n",
      "P.R. China 4312 4322 ORG\n",
      "Civil and Environmental Engineering 4334 4369 ORG\n",
      "Nanyang Technological University 4371 4403 ORG\n",
      "Singapore 4405 4414 GPE\n",
      "639798 4415 4421 DATE\n",
      "Republic of Singapore 4Earth of Observatory 4423 4466 ORG\n",
      "Singapore 4470 4479 GPE\n",
      "Nanyang Technological University 4481 4513 ORG\n",
      "Singapore 4515 4524 GPE\n",
      "639798 4525 4531 DATE\n",
      ", Republic of Singapore 4531 4554 GPE\n",
      "Boussinesq 4726 4736 GPE\n",
      "Parallel Session 6 5009 5027 EVENT\n",
      "Thursday 5028 5036 DATE\n",
      "15 5038 5040 CARDINAL\n",
      "December 5041 5049 DATE\n",
      "Beach Erosion 5050 5063 ORG\n",
      "Yongjun Lu 5104 5114 PERSON\n",
      "Zheng Bing Wang 5116 5131 PERSON\n"
     ]
    }
   ],
   "source": [
    "for token in doc_.ents:\n",
    "    print(token.text, token.start_char, token.end_char, token.label_)"
   ]
  },
  {
   "cell_type": "code",
   "execution_count": 16,
   "metadata": {},
   "outputs": [],
   "source": [
    "model = None\n",
    "output_dir = Path('models')\n",
    "n_iter = 20"
   ]
  },
  {
   "cell_type": "markdown",
   "metadata": {},
   "source": [
    "#### Load the model"
   ]
  },
  {
   "cell_type": "code",
   "execution_count": 17,
   "metadata": {},
   "outputs": [],
   "source": [
    "if model is not None:\n",
    "    nlp = spacy.load(model)\n",
    "else:\n",
    "    nlp = spacy.blank('en')"
   ]
  },
  {
   "cell_type": "markdown",
   "metadata": {},
   "source": [
    "#### Set Up the Pipeline"
   ]
  },
  {
   "cell_type": "code",
   "execution_count": 18,
   "metadata": {},
   "outputs": [],
   "source": [
    "if 'ner' not in nlp.pipe_names:\n",
    "    ner = nlp.create_pipe('ner')\n",
    "    nlp.add_pipe(ner)\n",
    "else:\n",
    "    ner = nlp.get_pipe('ner')"
   ]
  },
  {
   "cell_type": "markdown",
   "metadata": {},
   "source": [
    "Labels we want to identify, and definition of what we want those labels to include:\n",
    "- **ORG**: Organisation: *companies, universities, government agencies...* \n",
    "- **PERSON**: People\n",
    "- **NMB**: Numbers\n",
    "- **DATE**: Date\n",
    "- **LOC**: Localisation: *everyting that refers to a particular place*"
   ]
  },
  {
   "cell_type": "code",
   "execution_count": 37,
   "metadata": {},
   "outputs": [],
   "source": [
    "#Labels = ['ORG', 'PERSON', 'NMB', 'DATE', 'LOC']"
   ]
  },
  {
   "cell_type": "code",
   "execution_count": 20,
   "metadata": {},
   "outputs": [],
   "source": [
    "# Add new entity labels to entity recognizer\n",
    "#for i in Labels:\n",
    "#    ner.add_label(i)"
   ]
  },
  {
   "cell_type": "code",
   "execution_count": 21,
   "metadata": {},
   "outputs": [],
   "source": [
    "#matcher = PhraseMatcher(nlp.vocab)\n",
    "#for element in ['Tokyo', 'Japan']:\n",
    "#    matcher.add(Labels[4], None, nlp(element))"
   ]
  },
  {
   "cell_type": "code",
   "execution_count": 22,
   "metadata": {},
   "outputs": [],
   "source": [
    "#test = nlp(dct)\n",
    "#matches = matcher(test)"
   ]
  },
  {
   "cell_type": "code",
   "execution_count": 38,
   "metadata": {},
   "outputs": [],
   "source": [
    "#[match for match in matches]"
   ]
  },
  {
   "cell_type": "code",
   "execution_count": 39,
   "metadata": {},
   "outputs": [],
   "source": [
    "#test[613]"
   ]
  },
  {
   "cell_type": "markdown",
   "metadata": {},
   "source": [
    "#### Building a small training set"
   ]
  },
  {
   "cell_type": "code",
   "execution_count": 28,
   "metadata": {},
   "outputs": [],
   "source": [
    "train_data = [\n",
    "    ('Half-life time, simulated by a dispersion model, is chose to represent the exchange ability of the Bohai Sea', \n",
    "     {\n",
    "        'entities':[(99,108, 'LOC')]\n",
    "    }),\n",
    "    ('Parallel Session 6 Thursday, 15 December Beach Erosion and Morphodynamics II Ballroom C Chair: Yongjun Lu, Zheng Bing Wang', \n",
    "     {\n",
    "        'entities':[(19, 39, 'DATE'), (95, 105, 'PERSON'), (107, 121, 'PERSON')]\n",
    "    }),\n",
    "    ('The Bohai Sea is a semi-enclosed inland sea in northern China which has been polluted these years', {\n",
    "        'entities':[(0, 12, 'LOC'), (47, 61, 'LOC'), (86, 97, 'DATE')]\n",
    "    }),\n",
    "]"
   ]
  },
  {
   "cell_type": "code",
   "execution_count": 29,
   "metadata": {},
   "outputs": [],
   "source": [
    "#adding the labels from our train data\n",
    "for _, annotations in train_data:\n",
    "    for ent in annotations.get('entities'):\n",
    "        ner.add_label(ent[2])"
   ]
  },
  {
   "cell_type": "markdown",
   "metadata": {},
   "source": [
    "#### Train the model\n",
    "\n",
    "The number of iteration refers to the number of time the model will see the training data. The training data is shuffled in order to avoid a bias toward the order of the data. "
   ]
  },
  {
   "cell_type": "code",
   "execution_count": 30,
   "metadata": {},
   "outputs": [
    {
     "name": "stdout",
     "output_type": "stream",
     "text": [
      "Warning: Unnamed vectors -- this won't allow multiple vectors models to be loaded. (Shape: (0, 0))\n"
     ]
    },
    {
     "name": "stderr",
     "output_type": "stream",
     "text": [
      "100%|██████████| 3/3 [00:00<00:00, 12.97it/s]\n",
      "100%|██████████| 3/3 [00:00<00:00, 21.54it/s]\n",
      "  0%|          | 0/3 [00:00<?, ?it/s]"
     ]
    },
    {
     "name": "stdout",
     "output_type": "stream",
     "text": [
      "{'ner': 45.566320328973234}\n",
      "{'ner': 9.889341731335511}\n"
     ]
    },
    {
     "name": "stderr",
     "output_type": "stream",
     "text": [
      "100%|██████████| 3/3 [00:00<00:00, 19.39it/s]\n",
      "100%|██████████| 3/3 [00:00<00:00, 20.97it/s]\n",
      "  0%|          | 0/3 [00:00<?, ?it/s]"
     ]
    },
    {
     "name": "stdout",
     "output_type": "stream",
     "text": [
      "{'ner': 11.691314076310212}\n",
      "{'ner': 5.199264682064583}\n"
     ]
    },
    {
     "name": "stderr",
     "output_type": "stream",
     "text": [
      "100%|██████████| 3/3 [00:00<00:00, 17.00it/s]\n",
      "100%|██████████| 3/3 [00:00<00:00, 18.00it/s]\n",
      "  0%|          | 0/3 [00:00<?, ?it/s]"
     ]
    },
    {
     "name": "stdout",
     "output_type": "stream",
     "text": [
      "{'ner': 5.77715517847445}\n",
      "{'ner': 0.8514046666991749}\n"
     ]
    },
    {
     "name": "stderr",
     "output_type": "stream",
     "text": [
      "100%|██████████| 3/3 [00:00<00:00, 19.09it/s]\n",
      "100%|██████████| 3/3 [00:00<00:00, 20.73it/s]\n",
      "  0%|          | 0/3 [00:00<?, ?it/s]"
     ]
    },
    {
     "name": "stdout",
     "output_type": "stream",
     "text": [
      "{'ner': 2.7082378478128475}\n",
      "{'ner': 0.012655483930215285}\n"
     ]
    },
    {
     "name": "stderr",
     "output_type": "stream",
     "text": [
      "100%|██████████| 3/3 [00:00<00:00, 17.94it/s]\n",
      "100%|██████████| 3/3 [00:00<00:00, 19.24it/s]\n",
      "  0%|          | 0/3 [00:00<?, ?it/s]"
     ]
    },
    {
     "name": "stdout",
     "output_type": "stream",
     "text": [
      "{'ner': 0.0015213495490211944}\n",
      "{'ner': 0.0004185526784822161}\n"
     ]
    },
    {
     "name": "stderr",
     "output_type": "stream",
     "text": [
      "100%|██████████| 3/3 [00:00<00:00, 19.53it/s]\n",
      "100%|██████████| 3/3 [00:00<00:00, 19.54it/s]\n",
      "  0%|          | 0/3 [00:00<?, ?it/s]"
     ]
    },
    {
     "name": "stdout",
     "output_type": "stream",
     "text": [
      "{'ner': 0.0004013056592174934}\n",
      "{'ner': 2.6524812822905887e-09}\n"
     ]
    },
    {
     "name": "stderr",
     "output_type": "stream",
     "text": [
      "100%|██████████| 3/3 [00:00<00:00, 17.90it/s]\n",
      "100%|██████████| 3/3 [00:00<00:00, 16.91it/s]\n",
      "  0%|          | 0/3 [00:00<?, ?it/s]"
     ]
    },
    {
     "name": "stdout",
     "output_type": "stream",
     "text": [
      "{'ner': 3.388976786677231e-10}\n",
      "{'ner': 2.7484268761184016e-09}\n"
     ]
    },
    {
     "name": "stderr",
     "output_type": "stream",
     "text": [
      "100%|██████████| 3/3 [00:00<00:00, 14.97it/s]\n",
      "100%|██████████| 3/3 [00:00<00:00, 15.85it/s]\n",
      "  0%|          | 0/3 [00:00<?, ?it/s]"
     ]
    },
    {
     "name": "stdout",
     "output_type": "stream",
     "text": [
      "{'ner': 1.1146543916894273e-08}\n",
      "{'ner': 0.0008324269694142593}\n"
     ]
    },
    {
     "name": "stderr",
     "output_type": "stream",
     "text": [
      "100%|██████████| 3/3 [00:00<00:00, 17.00it/s]\n",
      "100%|██████████| 3/3 [00:00<00:00, 16.65it/s]\n",
      "  0%|          | 0/3 [00:00<?, ?it/s]"
     ]
    },
    {
     "name": "stdout",
     "output_type": "stream",
     "text": [
      "{'ner': 1.6627832951830777}\n",
      "{'ner': 1.5975698022512891e-09}\n"
     ]
    },
    {
     "name": "stderr",
     "output_type": "stream",
     "text": [
      "100%|██████████| 3/3 [00:00<00:00, 17.77it/s]\n",
      " 67%|██████▋   | 2/3 [00:00<00:00, 14.25it/s]"
     ]
    },
    {
     "name": "stdout",
     "output_type": "stream",
     "text": [
      "{'ner': 1.0092140370588723e-05}\n"
     ]
    },
    {
     "name": "stderr",
     "output_type": "stream",
     "text": [
      "\r",
      "100%|██████████| 3/3 [00:00<00:00, 13.61it/s]"
     ]
    },
    {
     "name": "stdout",
     "output_type": "stream",
     "text": [
      "{'ner': 9.279715538013932e-09}\n"
     ]
    },
    {
     "name": "stderr",
     "output_type": "stream",
     "text": [
      "\n"
     ]
    }
   ],
   "source": [
    "other_pipes = [pipe for pipe in nlp.pipe_names if pipe != 'ner']\n",
    "#we are only focusing on the NER\n",
    "with nlp.disable_pipes(*other_pipes):  \n",
    "    optimizer = nlp.begin_training()\n",
    "    for itn in range(n_iter):\n",
    "        random.shuffle(train_data)\n",
    "        losses = {}\n",
    "        for text, annotations in tqdm(train_data):\n",
    "            nlp.update(\n",
    "            [text],\n",
    "            [annotations],\n",
    "            drop=0.2,\n",
    "            sgd=optimizer,\n",
    "            losses=losses)\n",
    "        print(losses)"
   ]
  },
  {
   "cell_type": "markdown",
   "metadata": {},
   "source": [
    "#### Save the model"
   ]
  },
  {
   "cell_type": "code",
   "execution_count": 34,
   "metadata": {},
   "outputs": [],
   "source": [
    "if not os.path.exists(output_dir): os.mkdir(output_dir)"
   ]
  },
  {
   "cell_type": "code",
   "execution_count": 35,
   "metadata": {},
   "outputs": [
    {
     "name": "stdout",
     "output_type": "stream",
     "text": [
      "The model is saved to:  models\n"
     ]
    }
   ],
   "source": [
    "if output_dir is not None:\n",
    "    output_dir = Path(output_dir)\n",
    "    if not output_dir.exists():\n",
    "        output_dir.mkdir()\n",
    "    nlp.to_disk(output_dir)\n",
    "    print('The model is saved to: ', output_dir)"
   ]
  },
  {
   "cell_type": "markdown",
   "metadata": {},
   "source": [
    "#### ReLoad the model"
   ]
  },
  {
   "cell_type": "code",
   "execution_count": 36,
   "metadata": {},
   "outputs": [],
   "source": [
    "nlp2 = spacy.load(output_dir)"
   ]
  },
  {
   "cell_type": "markdown",
   "metadata": {},
   "source": [
    "Evaluation of the model:"
   ]
  },
  {
   "cell_type": "code",
   "execution_count": 54,
   "metadata": {},
   "outputs": [],
   "source": [
    "def evaluate(model, examples):\n",
    "    scorer = Scorer()\n",
    "    for input_, annot in examples:\n",
    "        doc_gold_text = model.make_doc(input_)\n",
    "        gold = GoldParse(doc_gold_text, entities=annot['entities'])\n",
    "        pred_value = model(input_)\n",
    "        scorer.score(pred_value, gold)\n",
    "    return scorer.scores"
   ]
  },
  {
   "cell_type": "code",
   "execution_count": 40,
   "metadata": {},
   "outputs": [],
   "source": [
    "#test_result = evaluate(new_model, test_data)"
   ]
  },
  {
   "cell_type": "markdown",
   "metadata": {},
   "source": [
    "## TODO: Manually tag a large dataset to train the Named Entity Recognition model on (Prodigy)"
   ]
  },
  {
   "cell_type": "code",
   "execution_count": null,
   "metadata": {},
   "outputs": [],
   "source": []
  }
 ],
 "metadata": {
  "kernelspec": {
   "display_name": "Python 3",
   "language": "python",
   "name": "python3"
  }
 },
 "nbformat": 4,
 "nbformat_minor": 2
}
