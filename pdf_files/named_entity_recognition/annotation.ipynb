{
 "cells": [
  {
   "cell_type": "markdown",
   "metadata": {},
   "source": [
    "# Annotation Binary Classifier\n",
    "\n",
    "## Date: May 25, 2020"
   ]
  },
  {
   "cell_type": "markdown",
   "metadata": {},
   "source": [
    "## 1. Annotation with initial patterns"
   ]
  },
  {
   "cell_type": "code",
   "execution_count": 7,
   "metadata": {},
   "outputs": [
    {
     "name": "stdout",
     "output_type": "stream",
     "text": [
      "Using 1 label(s): DATASET_NAME\n",
      "\n",
      "✨  Starting the web server at http://localhost:8080 ...\n",
      "Open the app in your browser and start annotating!\n",
      "\n",
      "^C\n",
      "\n",
      "\u001b[38;5;2m✔ Saved 39 annotations to database SQLite\u001b[0m\n",
      "Dataset: dataset_names_ner_with_init\n",
      "Session ID: 2020-05-28_20-34-17\n",
      "\n"
     ]
    }
   ],
   "source": [
    "!prodigy ner.manual dataset_names_ner_with_init blank:en prodigy_processed_file.jsonl \\\n",
    "    --label DATASET_NAME --patterns dataset_names_patterns.jsonl"
   ]
  },
  {
   "cell_type": "markdown",
   "metadata": {},
   "source": [
    "## 2. Pretrain several models\n",
    "\n",
    "### 2.1 en_vectors_web_lg"
   ]
  },
  {
   "cell_type": "code",
   "execution_count": 33,
   "metadata": {},
   "outputs": [],
   "source": [
    "import en_vectors_web_lg"
   ]
  },
  {
   "cell_type": "code",
   "execution_count": 34,
   "metadata": {},
   "outputs": [
    {
     "name": "stdout",
     "output_type": "stream",
     "text": [
      "\u001b[2K\u001b[38;5;2m✔ Loaded model 'en_vectors_web_lg'\u001b[0m\n",
      "Created and merged data for 39 total examples\n",
      "Using 32 train / 7 eval (split 20%)\n",
      "Component: ner | Batch size: compounding | Dropout: 0.2 | Iterations: 10\n",
      "\u001b[38;5;4mℹ Baseline accuracy: 0.000\u001b[0m\n",
      "\u001b[1m\n",
      "=========================== ✨  Training the model ===========================\u001b[0m\n",
      "\n",
      "#    Loss       Precision   Recall     F-Score \n",
      "--   --------   ---------   --------   --------\n",
      " 1     647.08       0.000      0.000      0.000                                 \n",
      " 2    1111.53     100.000      5.263     10.000                                 \n",
      " 3     111.43      76.923     52.632     62.500                                 \n",
      " 4      75.47      90.000     47.368     62.069                                 \n",
      " 5     173.09      66.667     52.632     58.824                                 \n",
      " 6      57.11      64.706     57.895     61.111                                 \n",
      " 7      46.54      85.714     63.158     72.727                                 \n",
      " 8      39.49      75.000     63.158     68.571                                 \n",
      " 9      34.75      70.588     63.158     66.667                                 \n",
      "10     166.88      68.750     57.895     62.857                                 \n",
      "\u001b[1m\n",
      "============================= ✨  Results summary =============================\u001b[0m\n",
      "\n",
      "Label          Precision   Recall   F-Score\n",
      "------------   ---------   ------   -------\n",
      "DATASET_NAME      85.714   63.158    72.727\n",
      "\n",
      "\n",
      "Best F-Score   \u001b[38;5;2m72.727\u001b[0m\n",
      "Baseline       0.000              \n",
      "\n"
     ]
    }
   ],
   "source": [
    "!prodigy train ner dataset_names_ner_with_init en_vectors_web_lg --eval-split 0.2"
   ]
  },
  {
   "cell_type": "markdown",
   "metadata": {},
   "source": [
    "## 2.2 en_core_web_lg"
   ]
  },
  {
   "cell_type": "code",
   "execution_count": 35,
   "metadata": {},
   "outputs": [
    {
     "name": "stdout",
     "output_type": "stream",
     "text": [
      "\u001b[2K\u001b[38;5;2m✔ Loaded model 'en_core_web_lg'\u001b[0m\n",
      "Created and merged data for 39 total examples\n",
      "Using 32 train / 7 eval (split 20%)\n",
      "Component: ner | Batch size: compounding | Dropout: 0.2 | Iterations: 10\n",
      "\u001b[38;5;4mℹ Baseline accuracy: 0.000\u001b[0m\n",
      "\u001b[1m\n",
      "=========================== ✨  Training the model ===========================\u001b[0m\n",
      "\n",
      "#    Loss       Precision   Recall     F-Score \n",
      "--   --------   ---------   --------   --------\n",
      " 1    1567.56       0.000      0.000      0.000                                 \n",
      " 2    1921.20       0.000      0.000      0.000                                 \n",
      " 3    1689.51       0.000      0.000      0.000                                 \n",
      " 4    1652.34       0.000      0.000      0.000                                 \n",
      " 5    1632.75       0.000      0.000      0.000                                 \n",
      " 6    1598.42       0.000      0.000      0.000                                 \n",
      " 7    1552.77     100.000      5.263     10.000                                 \n",
      " 8    1557.28     100.000     15.789     27.273                                 \n",
      " 9    1548.44     100.000     15.789     27.273                                 \n",
      "10    1555.87     100.000     26.316     41.667                                 \n",
      "\u001b[1m\n",
      "============================= ✨  Results summary =============================\u001b[0m\n",
      "\n",
      "Label          Precision   Recall   F-Score\n",
      "------------   ---------   ------   -------\n",
      "DATASET_NAME     100.000   26.316    41.667\n",
      "\n",
      "\n",
      "Best F-Score   \u001b[38;5;2m41.667\u001b[0m\n",
      "Baseline       0.000              \n",
      "\n"
     ]
    }
   ],
   "source": [
    "!prodigy train ner dataset_names_ner_with_init en_core_web_lg --eval-split 0.2"
   ]
  },
  {
   "cell_type": "code",
   "execution_count": null,
   "metadata": {},
   "outputs": [],
   "source": []
  }
 ],
 "metadata": {
  "kernelspec": {
   "display_name": "Python 3",
   "language": "python",
   "name": "python3"
  },
  "language_info": {
   "codemirror_mode": {
    "name": "ipython",
    "version": 3
   },
   "file_extension": ".py",
   "mimetype": "text/x-python",
   "name": "python",
   "nbconvert_exporter": "python",
   "pygments_lexer": "ipython3",
   "version": "3.7.4"
  }
 },
 "nbformat": 4,
 "nbformat_minor": 4
}
