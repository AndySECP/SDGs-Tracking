{
 "cells": [
  {
   "cell_type": "markdown",
   "metadata": {},
   "source": [
    "# Dataset Extraction\n",
    "\n",
    "### Date: January 12, 2020\n",
    "\n",
    "The goal of this notebook is to experiment on how to extract dataset from research papers. The steps to get there are: selecting the relevant papers, dowloading them, extracting part of them with mention of dataset...\n",
    "\n",
    "To perform this task, we are going to use an active learning approach: firstly extracting pages with the mention of the word: \"data\", \"dataset\", \"datasets\". Save those pages into json in order to handlabel them as relevant or not. This would then provide us with a usable training set that could be the basis of a supervised binary classification model."
   ]
  },
  {
   "cell_type": "code",
   "execution_count": 1,
   "metadata": {},
   "outputs": [],
   "source": [
    "import warnings\n",
    "warnings.filterwarnings('ignore')\n",
    "import concurrent.futures\n",
    "import time\n",
    "from multiprocessing import Pool\n",
    "from urllib.request import urlretrieve\n",
    "import re\n",
    "import textract\n",
    "import PyPDF4\n",
    "import json\n",
    "import os\n",
    "os.chdir(os.curdir)\n",
    "os.chdir(\"..\")\n",
    "import fitz\n",
    "from zipfile import *"
   ]
  },
  {
   "cell_type": "markdown",
   "metadata": {},
   "source": [
    "### Experiments\n",
    "\n",
    "Here we experiment on using the available open source library for parsing pdf. This is done with a small subset of papers published in nature."
   ]
  },
  {
   "cell_type": "code",
   "execution_count": 2,
   "metadata": {},
   "outputs": [],
   "source": [
    "path_1 = 'pdf_samples/nature1.pdf'\n",
    "path_2 = 'pdf_samples/nature2.pdf'\n",
    "path_3 = 'pdf_samples/nature3.pdf'\n",
    "path_4 = 'pdf_samples/nature4.pdf'\n",
    "path_5 = 'pdf_samples/nature5.pdf'"
   ]
  },
  {
   "cell_type": "markdown",
   "metadata": {},
   "source": [
    "##### textract library"
   ]
  },
  {
   "cell_type": "code",
   "execution_count": 3,
   "metadata": {},
   "outputs": [],
   "source": [
    "#read the content of pdf as text\n",
    "text = textract.process(path_1)\n",
    "#use four space as paragraph delimiter to convert the text into list of paragraphs.\n",
    "prg = re.split('\\s{4,}', text.decode(\"utf-8\"))"
   ]
  },
  {
   "cell_type": "code",
   "execution_count": 4,
   "metadata": {},
   "outputs": [
    {
     "data": {
      "text/plain": [
       "'Climate change now detectable from any single \\nday of weather at global scale\\n\\nSebastian Sippel'"
      ]
     },
     "execution_count": 4,
     "metadata": {},
     "output_type": "execute_result"
    }
   ],
   "source": [
    "prg[0]"
   ]
  },
  {
   "cell_type": "code",
   "execution_count": 5,
   "metadata": {},
   "outputs": [
    {
     "data": {
      "text/plain": [
       "'1,2,3*, Nicolai Meinshausen2, Erich M. Fischer'"
      ]
     },
     "execution_count": 5,
     "metadata": {},
     "output_type": "execute_result"
    }
   ],
   "source": [
    "prg[1]"
   ]
  },
  {
   "cell_type": "code",
   "execution_count": 6,
   "metadata": {},
   "outputs": [
    {
     "data": {
      "text/plain": [
       "'1, Enikő Székely'"
      ]
     },
     "execution_count": 6,
     "metadata": {},
     "output_type": "execute_result"
    }
   ],
   "source": [
    "prg[2]"
   ]
  },
  {
   "cell_type": "markdown",
   "metadata": {},
   "source": [
    "Here, the structure of the document is not well kept."
   ]
  },
  {
   "cell_type": "markdown",
   "metadata": {},
   "source": [
    "##### fitz library"
   ]
  },
  {
   "cell_type": "code",
   "execution_count": 7,
   "metadata": {},
   "outputs": [
    {
     "name": "stdout",
     "output_type": "stream",
     "text": [
      "number of pages: 13\n",
      "{'format': 'PDF 1.4', 'title': 'Climate change now detectable from any single day of weather at global scale', 'author': 'Sebastian Sippel', 'subject': 'Nature Climate Change, doi:10.1038/s41558-019-0666-7', 'keywords': None, 'creator': 'Springer', 'producer': None, 'creationDate': \"D:20191220113831+05'30'\", 'modDate': \"D:20191220113925+05'30'\", 'encryption': None}\n"
     ]
    }
   ],
   "source": [
    "doc = fitz.open(path_1)\n",
    "print (\"number of pages: %i\" % doc.pageCount)\n",
    "print(doc.metadata)"
   ]
  },
  {
   "cell_type": "markdown",
   "metadata": {},
   "source": [
    "It can be a useful library for metadata extraction."
   ]
  },
  {
   "cell_type": "markdown",
   "metadata": {},
   "source": [
    "##### pyPDF4 library"
   ]
  },
  {
   "cell_type": "code",
   "execution_count": 8,
   "metadata": {},
   "outputs": [],
   "source": [
    "#open the pdf we just downloaded\n",
    "path = 'pdf_samples/saalberg2016.pdf'\n",
    "doc = open(path_1, mode='rb')"
   ]
  },
  {
   "cell_type": "code",
   "execution_count": 9,
   "metadata": {},
   "outputs": [
    {
     "data": {
      "text/plain": [
       "'variations in surface climate. We conclude that physically consistent  forced climate signals can be picked up from the spatial pattern of   daily surface temperature and humidity even if the global mean sig - nal is removed. We assess whether climate change is detected at short timescales  by projecting in˜situ observations, reanalyses output and CMIP5  model simulations onto the fingerprints. This step yields a time  series of the AGMT test statistic for each day in a given year (Fig.  3 )   that is assessed against a proxy of natural climate variability. Here   we use the 2.5thŒ97.5th percentile range of the test statistic distri - bution in CMIP5 models in 1870Œ1950. The proxy is conservative   because of forced early twentieth-century warming 28  and exceeds  the ‚extremely likely™ 95% level in Intergovernmental Panel on   Climate Change terminology 29 . CMIP5 models predict that forced climate change can be  detected at a daily basis from the early 2000s onwards, where the  range of daily AGMT estimates emerges from natural variability  (Fig.  3a,b ). The reanalyses average indicates that since the end  of 2001 the majority of days in any given year lies outside natu - ral variability irrespective of whether the global mean trend sig - nal has been removed or not (Fig.  3 ; 97.7% (‚mean included™) and  83.6% (‚mean removed™) of days detected individually from 2001   up to August 2019). Since late March 2012, every single day is  detected individually (Fig.  4a , ‚mean included™), and all but 3.5%  of days in the ‚mean removed™ case (Fig.  4b ). In observations, every   month individually is outside natural variability since 2001 with    data available up to December 2018 (‚mean included™). In an    experimental daily observational dataset, every day would be    0 20 40 60 80 100 Days emerged (%) Mean included Mean removed a 0 20 40 60 80 100 Months emerged (%) Year emerged? No Yes c e Reanalysis avg. OISST + BEST (daily, experimental) 0 20 40 60 80 100 Days emerged (%) Reanalysis avg. b Observational avg. 0 20 40 60 80 100 Months emerged (%) Observational avg. Observational avg. 5-yr rolling avg. 1950 1960 1970 1980 1990 2000 2010 2020 1950 1960 1970 1980 Year Year Year Year Year Year 1990 2000 2010 2020 1950 1960 1970 1980 1990 2000 2010 2020 1950 1960 1970 1980 1990 2000 2010 2020 Year emerged? No Ye s Observational avg. 5-yr rolling avg. d f 1950 1960 1970 1980 1990 2000 2010 2020 1950 1960 1970 1980 1990 2000 2010 2020 Fig. 4  |   Emergence of externally forced climate change in ‚global weather™ from the noise of natural variability.   a Œ d , The fraction of days in reanalysis  datasets ( a , b ), daily observations ( a , experimental and illustrative alone) and months in observations ( c , d ) that have emerged from daily natural variability   (that is, exceeding the 97.5th percentile in the CMIP5 1870Œ1950 distribution). The estimates are based on the spatial pattern of temperature with the   mean signal included ( a , c , e ) and the joint spatial pattern of temperature and land humidity with the mean signal removed ( b , d , f ).  e , f , The emergence of   observations based on individual years. NATU RE  CLI M AT E  CHA N G E  | VOL 10 |  J AN U AR Y  2020 | 35Œ41 |  www.nature.com/natureclimatechange 39 '"
      ]
     },
     "execution_count": 9,
     "metadata": {},
     "output_type": "execute_result"
    }
   ],
   "source": [
    "pdf_document = PyPDF4.PdfFileReader(doc)\n",
    "first_page = pdf_document.getPage(4)\n",
    "first_page_ = re.sub(r'\\n', ' ', first_page.extractText())\n",
    "first_page_"
   ]
  },
  {
   "cell_type": "markdown",
   "metadata": {},
   "source": [
    "This is probably the current best open source library to use for pdf parsing. As a result, this is the one that we are going to use."
   ]
  },
  {
   "cell_type": "markdown",
   "metadata": {},
   "source": [
    "## Pages extraction\n",
    "\n",
    "Here we are extracting the relevant pages for our task: those that contain the mention of \"data\".\n",
    "- Extrating the url of the paper from the dictionary\n",
    "- Downloading the paper from the url\n",
    "- Looking at each page from the paper and extracting those with the mention of \"data\"\n",
    "- Storing them in a json file\n",
    "- Deleting the pdf paper\n",
    "\n",
    "Functions to make:\n",
    "- get_url: extract url of paper\n",
    "- download_paper: download the paper from the url\n",
    "- get_page: get the relevant pages out of a paper\n",
    "- delete_paper: delete the paper\n",
    "- parallelize: serialize and parallelize the process of those functions"
   ]
  },
  {
   "cell_type": "code",
   "execution_count": 10,
   "metadata": {},
   "outputs": [],
   "source": [
    "def get_pages(path):\n",
    "    '''\n",
    "    This function will look at each page of the paper and if it find the occurence of \n",
    "    the word data in the corresponding page, it will store it in the json file so we can\n",
    "    later on, hand label it as relevant or unrelevant to our task\n",
    "    path: the path of the paper we are interested in\n",
    "    '''\n",
    "    doc_ = open(path, mode='rb')\n",
    "    doc = PyPDF4.PdfFileReader(doc_)\n",
    "    for i in range(doc.getNumPages()):\n",
    "        page = doc.getPage(i)\n",
    "        page = re.sub(r'\\n', '', page.extractText())\n",
    "        if 'data' in page or 'dataset' in page or 'datasets' in page:\n",
    "            if not os.path.exists('pages_selected_bis'): os.makedirs('pages_selected_bis', exist_ok=True)\n",
    "            nme = 'pages_selected_bis/{}_page_{}.json'.format(path, i)\n",
    "            with open(nme, 'w') as raw: \n",
    "                json.dump(page, raw, indent=4, sort_keys=False)\n",
    "    return"
   ]
  },
  {
   "cell_type": "code",
   "execution_count": 11,
   "metadata": {},
   "outputs": [],
   "source": [
    "#get_pages('test_pdf.pdf')"
   ]
  },
  {
   "cell_type": "code",
   "execution_count": 12,
   "metadata": {},
   "outputs": [],
   "source": [
    "os.chdir('/Users/spezzata/Documents/Projects/AI4Good/data_aiminer')"
   ]
  },
  {
   "cell_type": "code",
   "execution_count": 13,
   "metadata": {},
   "outputs": [
    {
     "name": "stdout",
     "output_type": "stream",
     "text": [
      "An intrinsic characterization of p-symmetric Heegaard splittings.pdf\r\n",
      "Computational Analysis for the Malfunction of Turbine Casing.pdf\r\n",
      "Poly(silyl ester)s: A new route of synthesis via the condensation of Di-tert-butyl ester of dicarboxylic acid with dichlorosilane.pdf\r\n",
      "Sugar Cane to Fuel-Ethanol... to green power? clean water? recycle sludge? reclaim soils?.pdf\r\n",
      "Sympathetic skin response in patients with myasthenia gravis: A comparative analysis.pdf\r\n",
      "The Indian Summer Monsoon and its Sensitivity to the Mean SSTs: Simulations with the ECHAM4 AGCM at T106 Horizontal Resolution..pdf\r\n",
      "\u001b[34maminer_papers_0\u001b[m\u001b[m\r\n",
      "aminer_papers_0.zip\r\n",
      "aminer_papers_1.zip\r\n",
      "aminer_papers_2.zip\r\n",
      "aminer_papers_3.zip\r\n",
      "download.pdf\r\n",
      "my_pdf.pdf\r\n",
      "\u001b[34mpapers\u001b[m\u001b[m\r\n"
     ]
    }
   ],
   "source": [
    "!ls"
   ]
  },
  {
   "cell_type": "code",
   "execution_count": 14,
   "metadata": {},
   "outputs": [
    {
     "name": "stdout",
     "output_type": "stream",
     "text": [
      "File Name                                             Modified             Size\n",
      "aminer_papers_4.txt                            2019-01-20 21:57:08  10000004774\n",
      "aminer_papers_5.txt                            2019-01-20 22:12:26  10000003508\n",
      "aminer_papers_6.txt                            2019-01-20 22:39:02  10000004818\n",
      "aminer_papers_7.txt                            2019-01-20 22:54:18  10000003416\n"
     ]
    }
   ],
   "source": [
    "with ZipFile('aminer_papers_1.zip', 'r') as zip: \n",
    "    # printing all the contents of the zip file \n",
    "    zip.printdir()"
   ]
  },
  {
   "cell_type": "code",
   "execution_count": 15,
   "metadata": {},
   "outputs": [],
   "source": [
    "file1 = open(\"aminer_papers_0/aminer_papers_1.txt\",\"r\")"
   ]
  },
  {
   "cell_type": "code",
   "execution_count": 16,
   "metadata": {},
   "outputs": [
    {
     "name": "stdout",
     "output_type": "stream",
     "text": [
      "{\"id\": \"53e99e61b7602d97027281bf\", \"title\": \"Anti-cancer mechanism of survivin siRNA plasmid mU6/survivin\", \"authors\": [{\"name\": \"LI Li-ping\", \"org\": \"Institute of Biochemistry and Molecular Biology,Guangdong Medical College,Zhanjiang ,China\", \"id\": \"542a1880dabfae849f6a9f12\"}, {\"name\": \"LIANG Nian-ci\", \"org\": \"Institute of Biochemistry and Molecular Biology,Guangdong Medical College,Zhanjiang ,China\", \"id\": \"54299e8fdabfaec70819b838\"}, {\"name\": \"ZHANG Zhi-zhen\", \"org\": \"Institute of Biochemistry and Molecular Biology,Guangdong Medical College,Zhanjiang ,China\", \"id\": \"542aac66dabfae646d57e62f\"}, {\"name\": \"LUO Chao-quan\", \"org\": \"Department of Biochemistry,Zhongshan Medical College,Sun Yat-Sen University,Guangzhou ,China\", \"id\": \"542c2658dabfae1bbfd21929\"}], \"venue\": {\"raw\": \"Journal of Modern Oncology\", \"id\": \"5451a5b9e0cf0b02b5f34e9c\"}, \"year\": 2009, \"keywords\": [\"siRNA plasmid\", \"survivin\", \"breast cancer cells\", \"mitotic cell death\"], \"n_citation\": 1, \"page_start\": \"40\", \"page_end\": \"44\", \"lang\": \"zh\", \"issue\": \"11\", \"abstract\": \"Objective:To study inhibitory effects of survivin siRNA plasmid(mU6/survivin)constructed and reported on proliferation of breast cancer cells MCF-7 and its mechanism.Methods:Effect of plasmid mU6/survivin on the cell proliferation was analysed by MTT assay,on the cell cycle by flow cytometry,on the cell morphology by Hoechst staining,and then the activity of caspase-3 change was determined by its substrate Ac-DEVD-pNA,and some related proteins expression were detected by Western blot.Results:After transfected with plasmid mU6/survivin,the proliferation of MCF-7 cells were inhibited significantly,cell cycle arrested in G1 phase during 36 h,cells turned to be multinuclear and macronucleus.Protein caspase-3 expressed increasely and was activated,proteins I \\u03baB\\u03b1 \\u3001Cyt C and p21waf1 expressed increasely,however,no changes were found in expression of protein NF-\\u03baB(p65).Conclusion:RNA interference of survivin on MCF-7 cells played a crucial role in cell proliferation and cell cycle progression,and its mechanisms might be related to the caspase cascade,mitochondria apoptosis pathway and cell cycle regulation process,and mitotic cell death might be the main cause of the cell death.\"}\n",
      "\n",
      "{\"id\": \"53e99e61b7602d97027281c0\", \"title\": \"Studies on the Biotransformation of the Progestagen Dienogest in the Rabbit<sup>*</sup>)\", \"authors\": [{\"name\": \"G. Hobe\", \"id\": \"53f7d8b0dabfae92b40ea60e\"}, {\"name\": \"Renate Sch\\u00f6n\", \"id\": \"53f4778bdabfaee4dc89245b\"}, {\"name\": \"K. Wehrberger\", \"id\": \"53f3af81dabfae4b34b1350b\"}, {\"name\": \"W. Schade\", \"id\": \"5603a58e45cedb33961fd893\"}, {\"name\": \"Petra Ritter\", \"id\": \"54067ac2dabfae92b4209905\"}, {\"name\": \"H. G. Hillesheim\", \"id\": \"53f382e8dabfae4b34a00a9a\"}], \"venue\": {\"raw\": \"Experimental and Clinical Endocrinology & Diabetes\", \"id\": \"5451a5c4e0cf0b02b5f37ffc\"}, \"year\": 1989, \"n_citation\": 0, \"page_start\": \"203\", \"page_end\": \"210\", \"lang\": \"en\", \"volume\": \"94\", \"issue\": \"04/05\", \"doi\": \"10.1055/s-0029-1210898\"}\n",
      "\n",
      "{\"id\": \"53e99e61b7602d97027281c1\", \"title\": \"Epilepsy, Crime and Delinquency: A Sociological Account\", \"authors\": [{\"name\": \"M. J. Oliver\", \"id\": \"53f46e0bdabfaedd74e88464\"}], \"venue\": {\"raw\": \"Sociology-the Journal of The British Sociological Association\", \"id\": \"5451a5c6e0cf0b02b5f3a5bc\"}, \"year\": 1980, \"n_citation\": 0, \"page_start\": \"417\", \"page_end\": \"440\", \"lang\": \"en\", \"volume\": \"14\", \"issue\": \"3\", \"doi\": \"10.1177/003803858001400304\", \"url\": [\"http://dx.doi.org/10.1177/003803858001400304\"]}\n",
      "\n",
      "{\"id\": \"53e99e61b7602d97027281c2\", \"title\": \"Study on the Immunofunction in Eldery Patients with Multiple Organ Disfunction Syndrome\", \"authors\": [{\"name\": \"Su Yong\", \"org\": \" Geriatric Department,Kunming General Hospital of Chengdu Military Command,Kunming%%#%%#,China\", \"id\": \"542a9a67dabfae2b4e11f916\"}, {\"name\": \"Shen Zhu-fu\", \"org\": \" Geriatric Department,Kunming General Hospital of Chengdu Military Command,Kunming%%#%%#,China\", \"id\": \"542ef21adabfae4a9e4996f2\"}, {\"name\": \"Hua Pi-hong\", \"org\": \" Geriatric Department,Kunming General Hospital of Chengdu Military Command,Kunming%%#%%#,China\", \"id\": \"5448eb5bdabfae1e0413df51\"}, {\"name\": \"Zhou Yu-liang\", \"org\": \" Geriatric Department,Kunming General Hospital of Chengdu Military Command,Kunming%%#%%#,China\", \"id\": \"53f4305adabfaee43ebeb40f\"}, {\"name\": \"Yang Yu\", \"org\": \" Geriatric Department,Kunming General Hospital of Chengdu Military Command,Kunming%%#%%#,China\", \"id\": \"542b749cdabfae2b4e16b37f\"}, {\"name\": \"Yang Hai-jie\", \"org\": \" Geriatric Department,Kunming General Hospital of Chengdu Military Command,Kunming%%#%%#,China\", \"id\": \"542d9695dabfae11fc48553d\"}], \"venue\": {\"raw\": \"Journal of Radioimmunology\", \"id\": \"5451a5bce0cf0b02b5f3527c\"}, \"year\": 2012, \"keywords\": [\"multiple organ disfunction syndrome(MODS)\", \"cellular immunity\", \"immunity\", \"humoral immunity\"], \"n_citation\": 0, \"page_start\": \"75\", \"page_end\": \"77\", \"lang\": \"zh\", \"issue\": \"01\", \"abstract\": \"Objective To study the corraletion between the level of immunity and diseases through detecting the indices of cellular immunity and humoral immunity of MODSE.Methods A total of 86 patients were divided into the group of MODSE(46 cases) and the group of antitheses(40 cases) according to the results of diagnoses.Double-colored/tri-colored immunofluorescence sign the whole blood hemolysis were used to determine CD3~+,CD3 ~+ CD4~+,CD3~ + CD8~ +,CD4~ + /CD8~+,NK,CIK;The concentration of C3,C4, CH50,IgG,IgA,IgM were measured by ITM immunoturbidimetry.Results Compared with the antitheses group of in the MODSE group,the levels of NK and IgA increased,the contents of CD3 declined.Conclusion The level of immunity decreased in the MODSE group.\"}\n",
      "\n",
      "{\"id\": \"53e99e61b7602d97027281c3\", \"title\": \"To Respect the Subjectivity of Party Members and Guarantee Their Democratic Rights:the Way of Realizing Inner-party Harmony\", \"authors\": [{\"name\": \"ZENG Zhi-gang\", \"org\": \"Jiangxi Provincial Party School,Nanchang,Jiangxi,,China\", \"id\": \"542a0d31dabfaec7081d9f3e\"}, {\"name\": \"HUANG Ming-zhe\", \"org\": \"Ganzhou Municipal Party School,Ganzhou,Jiangxi,,China\", \"id\": \"53f63416dabfae3fc7c71645\"}], \"venue\": {\"raw\": \"Journal of Yanbian University(Social Sciences)\", \"id\": \"5451a5b8e0cf0b02b5f34d26\"}, \"year\": 2008, \"keywords\": [\"democratic rights\", \"subjectivity of Party member\", \"inner-party harmony\"], \"n_citation\": 3, \"page_start\": \"7\", \"page_end\": \"14\", \"lang\": \"zh\", \"issue\": \"06\", \"abstract\": \"To respect the subjectivity of Party members and guarantee their democratic rights not only is key to promote the inner-party democracy and social solidarity,but also embodies the implementing of the scientific concept of development in the construction of a harmonious Party.It will also be the criterion to judge whether a harmonious Party has been improved by inner-party democracy.Party leaders'democratic ideology as well as the harmonious ties between the leaders and Party members should be strengthened;the inner-party election and governance must be open so as to conform Party's activities to the Party systems,and make Party's organization and Party members to be in perfect harmony by ways of enhancing the inner-party supervision and establishing the inner-party mutual aid system.Only in this way,could the subjectivity of Party members be respected and the democratic rights be guaranteed so that the inner-party harmony will be realized.\"}\n",
      "\n"
     ]
    }
   ],
   "source": [
    "for i in range(5):\n",
    "    fileline = file1.readline()\n",
    "    print(fileline)"
   ]
  },
  {
   "cell_type": "code",
   "execution_count": 17,
   "metadata": {},
   "outputs": [
    {
     "data": {
      "text/plain": [
       "{'id': '53e99e61b7602d97027281c3',\n",
       " 'title': 'To Respect the Subjectivity of Party Members and Guarantee Their Democratic Rights:the Way of Realizing Inner-party Harmony',\n",
       " 'authors': [{'name': 'ZENG Zhi-gang',\n",
       "   'org': 'Jiangxi Provincial Party School,Nanchang,Jiangxi,,China',\n",
       "   'id': '542a0d31dabfaec7081d9f3e'},\n",
       "  {'name': 'HUANG Ming-zhe',\n",
       "   'org': 'Ganzhou Municipal Party School,Ganzhou,Jiangxi,,China',\n",
       "   'id': '53f63416dabfae3fc7c71645'}],\n",
       " 'venue': {'raw': 'Journal of Yanbian University(Social Sciences)',\n",
       "  'id': '5451a5b8e0cf0b02b5f34d26'},\n",
       " 'year': 2008,\n",
       " 'keywords': ['democratic rights',\n",
       "  'subjectivity of Party member',\n",
       "  'inner-party harmony'],\n",
       " 'n_citation': 3,\n",
       " 'page_start': '7',\n",
       " 'page_end': '14',\n",
       " 'lang': 'zh',\n",
       " 'issue': '06',\n",
       " 'abstract': \"To respect the subjectivity of Party members and guarantee their democratic rights not only is key to promote the inner-party democracy and social solidarity,but also embodies the implementing of the scientific concept of development in the construction of a harmonious Party.It will also be the criterion to judge whether a harmonious Party has been improved by inner-party democracy.Party leaders'democratic ideology as well as the harmonious ties between the leaders and Party members should be strengthened;the inner-party election and governance must be open so as to conform Party's activities to the Party systems,and make Party's organization and Party members to be in perfect harmony by ways of enhancing the inner-party supervision and establishing the inner-party mutual aid system.Only in this way,could the subjectivity of Party members be respected and the democratic rights be guaranteed so that the inner-party harmony will be realized.\"}"
      ]
     },
     "execution_count": 17,
     "metadata": {},
     "output_type": "execute_result"
    }
   ],
   "source": [
    "d = eval(fileline)\n",
    "d"
   ]
  },
  {
   "cell_type": "markdown",
   "metadata": {},
   "source": [
    "As we can see above, the url provided are rarely pdf. As a result, it might be better to use the title to make a google search, look for pdf results and download them from here."
   ]
  },
  {
   "cell_type": "markdown",
   "metadata": {},
   "source": [
    "### Downloading papers from Google"
   ]
  },
  {
   "cell_type": "code",
   "execution_count": 18,
   "metadata": {},
   "outputs": [],
   "source": [
    "from googlesearch import search"
   ]
  },
  {
   "cell_type": "code",
   "execution_count": 19,
   "metadata": {},
   "outputs": [],
   "source": [
    "query = \"filetype:pdf Persistent soil seed banks in Phacelia secunda (Hydrophyllaceae): experimental detection of variation along an altitudinal gradient in the Andes of central Chile (33 S)\""
   ]
  },
  {
   "cell_type": "markdown",
   "metadata": {},
   "source": [
    "Using the google library, we are extracting the top 5 results. The pause argument corresponds to the lapse to wait between HTTP requests. Lapse too short may cause Google to block your IP. Keeping significant lapse will make your program slow but its safe and better option. When we will parallelize our document extraction, this might be a limitation of our algorithm (in term of scaling)."
   ]
  },
  {
   "cell_type": "code",
   "execution_count": 20,
   "metadata": {},
   "outputs": [
    {
     "name": "stdout",
     "output_type": "stream",
     "text": [
      "https://www.jstor.org/stable/3072115\n",
      "https://besjournals.onlinelibrary.wiley.com/doi/pdf/10.1046/j.1365-2745.2001.00514.x\n",
      "http://citeseerx.ist.psu.edu/viewdoc/download?doi=10.1.1.853.7675&rep=rep1&type=pdf\n",
      "https://bioone.org/journalArticle/Download?fullDOI=10.1658%2F1100-9233(2003)014%5B0253%3ASBDITG%5D2.0.CO%3B2\n",
      "https://pdfs.semanticscholar.org/eb4c/179206eeb88c3403628a26466f60eebee04d.pdf\n"
     ]
    }
   ],
   "source": [
    "for j in search(query, tld=\"co.in\", num=5, stop=5, pause=2): \n",
    "    print(j)"
   ]
  },
  {
   "cell_type": "markdown",
   "metadata": {},
   "source": [
    "Storing those url as a list, and selecting only those that are pdf:"
   ]
  },
  {
   "cell_type": "code",
   "execution_count": 21,
   "metadata": {},
   "outputs": [],
   "source": [
    "url_list = [url for url in search(query, tld=\"com\", num=5, stop=5, pause=2) if url[-3:]=='pdf']"
   ]
  },
  {
   "cell_type": "code",
   "execution_count": 22,
   "metadata": {},
   "outputs": [
    {
     "data": {
      "text/plain": [
       "['http://citeseerx.ist.psu.edu/viewdoc/download?doi=10.1.1.853.7675&rep=rep1&type=pdf',\n",
       " 'https://pdfs.semanticscholar.org/eb4c/179206eeb88c3403628a26466f60eebee04d.pdf']"
      ]
     },
     "execution_count": 22,
     "metadata": {},
     "output_type": "execute_result"
    }
   ],
   "source": [
    "url_list"
   ]
  },
  {
   "cell_type": "markdown",
   "metadata": {},
   "source": [
    "Then, we can take the first pdf link that we have and download it:"
   ]
  },
  {
   "cell_type": "code",
   "execution_count": 23,
   "metadata": {},
   "outputs": [],
   "source": [
    "url_to_download = url_list[0]"
   ]
  },
  {
   "cell_type": "code",
   "execution_count": 24,
   "metadata": {},
   "outputs": [
    {
     "data": {
      "text/plain": [
       "'http://citeseerx.ist.psu.edu/viewdoc/download?doi=10.1.1.853.7675&rep=rep1&type=pdf'"
      ]
     },
     "execution_count": 24,
     "metadata": {},
     "output_type": "execute_result"
    }
   ],
   "source": [
    "url_to_download"
   ]
  },
  {
   "cell_type": "code",
   "execution_count": 25,
   "metadata": {},
   "outputs": [
    {
     "data": {
      "text/plain": [
       "('download_test.pdf', <http.client.HTTPMessage at 0x10f71cd50>)"
      ]
     },
     "execution_count": 25,
     "metadata": {},
     "output_type": "execute_result"
    }
   ],
   "source": [
    "#download pdf from online url\n",
    "urlretrieve(url_to_download, \"download_test.pdf\")"
   ]
  },
  {
   "cell_type": "code",
   "execution_count": 26,
   "metadata": {},
   "outputs": [],
   "source": [
    "doc_test = open(\"download_test.pdf\", mode='rb')"
   ]
  },
  {
   "cell_type": "code",
   "execution_count": 27,
   "metadata": {},
   "outputs": [
    {
     "data": {
      "text/plain": [
       "'African Journal of Agricultural Research Vol. 6(10), pp . 2329-2340, 18 May, 2011  Available online at http://www.academicjournals.org/AJA R  DOI: 10.5897/AJAR10.1099   ISSN 1991-637X ©2011 Academic Journals          Full Length Research Paper    Persistent soil seed banks along altitudinal gradie nts in  the Qilian Mountains in China and their significanc e for  conservation management    Qiuyan Li 1 , Haiyan Fang 2 *and Qiangguo Cai 2    1 College of Water Conservancy and Civil Engineering, C hina Agricultural University, Beijing, 100083, China .  2 Institute of Geographic Sciences and Natural Resources  Research, Chinese Academy of Sciences,   Beijing, 100101, China.    Accepted 31 January, 2011    The qualitative and quantitative parameters of pers istent soil seed bank, including species compositio n,  seed density, vertical distribution and the relatio nship of soil seed bank and vegetation, were assess ed  along an altitudinal gradient in seven communities  in shady slope, sunny slope and summit plain of  Qilian Mountains. The highest density of soil seed  bank of 3946 seeds m -2  was found in grassland in  summit plain, and lowest of 225 seeds m -2  in the dwarf scrub grassland in shady slope, while  the  highest numbers of species of 21 species in per sam pled area of 962 cm 2  was found in grassland in  sunny slope and lowest of 5 species in per sampled  area of 962 cm 2  in scrub land in shady slope. Of the  species 18% were annuals and 73% perennial herbs, o nly 1 shrub of  Salix gilashanica  was recorded.  Considerably more seeds were concentrated in the up per layer (0 to 5 cm), and seed density declined  by 71.10% in the lower layer (5 to 10 cm). There wa s a tendency for the soil seed bank to decrease in  density with increasing elevation in both shady slo pe and sunny slope, although this pattern is  complicated by the occurrence of different plant co mmunities and species at different altitudes.  Sorensen similarity index between soil seed bank an d vegetation of the seven habitats was very low,  and  Picea crassifolia  was absent in the soil seed bank despite being a p rominent component of the  surface vegetation at woodlands; thus,  P. crassifolia  has no persistent seed bank. It will be important  to  maintain the existing vegetation in the future mana gement.     Key words:  Soil seed bank, seed density, altitudinal gradients,  slopes, conservation.        INTRODUCTION     The soil seed bank is defined as the mature viable s eeds  stock existing in the soil surface, or buried in the so il, duff  or litter, in a determinate moment and place (Walck et  al.,  2005; Martins and Engel, 2007). The soil seed bank p lays  an important role in the composition of different pl ant  communities and thus in their conservation (Grubb, 19 77;  Leck et al., 1989; Wisheu and Keddy, 1991). Seed bank   composition can be used to predict the initial composit ion  of post-recruitment vegetation and yield information  on  the species composition of previous and new vegetatio n,            *Corresponding author. E-mail: lqymily@163.com,   fanghy@igsnrr.ac.cn.  the relative abundance of recently recruited species an d  the potential distribution of each species (Major and    Pyott, 1966; Donelan and Thompson, 1980; Welling et   al., 1988). Besides, it represents a store of evolut ionary  memory (Harper, 1977). Thus, knowledge of the seed   bank and an understanding of the population dynamics o f  buried viable seeds is of practical importance in   agriculture, forestry and conservation (Onaindia and   Amezaga, 2000). The capacity to form persistent seed   banks allows species to survive episodes of disturbance   and destruction (Thompson, 2000). Many species have   this capacity and many do not (Thompson et al., 1997).   An understanding of persistent seed banks is the key  to  many aspects of practical management for agriculture   and conservation, and  to  effective  conservation  of   rare     '"
      ]
     },
     "execution_count": 27,
     "metadata": {},
     "output_type": "execute_result"
    }
   ],
   "source": [
    "pdf_document = PyPDF4.PdfFileReader(doc_test)\n",
    "first_page = pdf_document.getPage(0)\n",
    "first_page_ = re.sub(r'\\n', ' ', first_page.extractText())\n",
    "first_page_"
   ]
  },
  {
   "cell_type": "code",
   "execution_count": 28,
   "metadata": {},
   "outputs": [
    {
     "name": "stdout",
     "output_type": "stream",
     "text": [
      "An intrinsic characterization of p-symmetric Heegaard splittings.pdf\r\n",
      "Computational Analysis for the Malfunction of Turbine Casing.pdf\r\n",
      "Poly(silyl ester)s: A new route of synthesis via the condensation of Di-tert-butyl ester of dicarboxylic acid with dichlorosilane.pdf\r\n",
      "Sugar Cane to Fuel-Ethanol... to green power? clean water? recycle sludge? reclaim soils?.pdf\r\n",
      "Sympathetic skin response in patients with myasthenia gravis: A comparative analysis.pdf\r\n",
      "The Indian Summer Monsoon and its Sensitivity to the Mean SSTs: Simulations with the ECHAM4 AGCM at T106 Horizontal Resolution..pdf\r\n",
      "\u001b[34maminer_papers_0\u001b[m\u001b[m\r\n",
      "aminer_papers_0.zip\r\n",
      "aminer_papers_1.zip\r\n",
      "aminer_papers_2.zip\r\n",
      "aminer_papers_3.zip\r\n",
      "download.pdf\r\n",
      "download_test.pdf\r\n",
      "my_pdf.pdf\r\n",
      "\u001b[34mpapers\u001b[m\u001b[m\r\n"
     ]
    }
   ],
   "source": [
    "!ls"
   ]
  },
  {
   "cell_type": "markdown",
   "metadata": {},
   "source": [
    "Then, deleting the file:"
   ]
  },
  {
   "cell_type": "code",
   "execution_count": 29,
   "metadata": {},
   "outputs": [],
   "source": [
    "os.remove(\"download_test.pdf\")"
   ]
  },
  {
   "cell_type": "code",
   "execution_count": 30,
   "metadata": {},
   "outputs": [
    {
     "name": "stdout",
     "output_type": "stream",
     "text": [
      "An intrinsic characterization of p-symmetric Heegaard splittings.pdf\r\n",
      "Computational Analysis for the Malfunction of Turbine Casing.pdf\r\n",
      "Poly(silyl ester)s: A new route of synthesis via the condensation of Di-tert-butyl ester of dicarboxylic acid with dichlorosilane.pdf\r\n",
      "Sugar Cane to Fuel-Ethanol... to green power? clean water? recycle sludge? reclaim soils?.pdf\r\n",
      "Sympathetic skin response in patients with myasthenia gravis: A comparative analysis.pdf\r\n",
      "The Indian Summer Monsoon and its Sensitivity to the Mean SSTs: Simulations with the ECHAM4 AGCM at T106 Horizontal Resolution..pdf\r\n",
      "\u001b[34maminer_papers_0\u001b[m\u001b[m\r\n",
      "aminer_papers_0.zip\r\n",
      "aminer_papers_1.zip\r\n",
      "aminer_papers_2.zip\r\n",
      "aminer_papers_3.zip\r\n",
      "download.pdf\r\n",
      "my_pdf.pdf\r\n",
      "\u001b[34mpapers\u001b[m\u001b[m\r\n"
     ]
    }
   ],
   "source": [
    "!ls"
   ]
  },
  {
   "cell_type": "markdown",
   "metadata": {},
   "source": [
    "Now, we are creating a function that can process all of those actions:"
   ]
  },
  {
   "cell_type": "code",
   "execution_count": 31,
   "metadata": {},
   "outputs": [],
   "source": [
    "def process_paper(fileline):\n",
    "    '''\n",
    "    This function extract the relevant pages from the papers\n",
    "    '''\n",
    "    title = eval(fileline)['title']\n",
    "    print(title)\n",
    "    query = 'filetype:pdf ' + title\n",
    "    url_list = [url for url in search(query, tld=\"com\", num=5, stop=5, pause=2) if url[-3:]=='pdf']\n",
    "    \n",
    "    #if there is at least one pdf link among the top 5 google search results, we can extract it \n",
    "    try: url_to_download = url_list[0]\n",
    "    except: return\n",
    "    \n",
    "    #download pdf from online url\n",
    "    urlretrieve(url_to_download, '{}.pdf'.format(title))\n",
    "    print('doc_downloaded')\n",
    "    #we extract the relevant pages\n",
    "    get_pages(path='{}.pdf'.format(title))\n",
    "    print('pages_parsed')\n",
    "    #finally, we remove the downloaded document\n",
    "    os.remove('{}.pdf'.format(title))\n",
    "    print('doc_removed')\n",
    "    \n",
    "    return"
   ]
  },
  {
   "cell_type": "markdown",
   "metadata": {},
   "source": [
    "Parallelizing using Pool and map:"
   ]
  },
  {
   "cell_type": "code",
   "execution_count": 32,
   "metadata": {},
   "outputs": [],
   "source": [
    "count = 0\n",
    "doc_txt = 'aminer_papers_0/aminer_papers_1.txt'\n",
    "for line in open(doc_txt): count += 1"
   ]
  },
  {
   "cell_type": "code",
   "execution_count": 33,
   "metadata": {},
   "outputs": [
    {
     "data": {
      "text/plain": [
       "6755748"
      ]
     },
     "execution_count": 33,
     "metadata": {},
     "output_type": "execute_result"
    }
   ],
   "source": [
    "count"
   ]
  },
  {
   "cell_type": "code",
   "execution_count": 34,
   "metadata": {},
   "outputs": [],
   "source": [
    "doc_txt = 'aminer_papers_0/aminer_papers_1.txt'\n",
    "with open(doc_txt) as myfile:\n",
    "    lines_list = [next(myfile) for x in range(count)]"
   ]
  },
  {
   "cell_type": "code",
   "execution_count": 36,
   "metadata": {},
   "outputs": [
    {
     "data": {
      "text/plain": [
       "['{\"id\": \"53e99e61b7602d97027281bf\", \"title\": \"Anti-cancer mechanism of survivin siRNA plasmid mU6/survivin\", \"authors\": [{\"name\": \"LI Li-ping\", \"org\": \"Institute of Biochemistry and Molecular Biology,Guangdong Medical College,Zhanjiang ,China\", \"id\": \"542a1880dabfae849f6a9f12\"}, {\"name\": \"LIANG Nian-ci\", \"org\": \"Institute of Biochemistry and Molecular Biology,Guangdong Medical College,Zhanjiang ,China\", \"id\": \"54299e8fdabfaec70819b838\"}, {\"name\": \"ZHANG Zhi-zhen\", \"org\": \"Institute of Biochemistry and Molecular Biology,Guangdong Medical College,Zhanjiang ,China\", \"id\": \"542aac66dabfae646d57e62f\"}, {\"name\": \"LUO Chao-quan\", \"org\": \"Department of Biochemistry,Zhongshan Medical College,Sun Yat-Sen University,Guangzhou ,China\", \"id\": \"542c2658dabfae1bbfd21929\"}], \"venue\": {\"raw\": \"Journal of Modern Oncology\", \"id\": \"5451a5b9e0cf0b02b5f34e9c\"}, \"year\": 2009, \"keywords\": [\"siRNA plasmid\", \"survivin\", \"breast cancer cells\", \"mitotic cell death\"], \"n_citation\": 1, \"page_start\": \"40\", \"page_end\": \"44\", \"lang\": \"zh\", \"issue\": \"11\", \"abstract\": \"Objective:To study inhibitory effects of survivin siRNA plasmid(mU6/survivin)constructed and reported on proliferation of breast cancer cells MCF-7 and its mechanism.Methods:Effect of plasmid mU6/survivin on the cell proliferation was analysed by MTT assay,on the cell cycle by flow cytometry,on the cell morphology by Hoechst staining,and then the activity of caspase-3 change was determined by its substrate Ac-DEVD-pNA,and some related proteins expression were detected by Western blot.Results:After transfected with plasmid mU6/survivin,the proliferation of MCF-7 cells were inhibited significantly,cell cycle arrested in G1 phase during 36 h,cells turned to be multinuclear and macronucleus.Protein caspase-3 expressed increasely and was activated,proteins I \\\\u03baB\\\\u03b1 \\\\u3001Cyt C and p21waf1 expressed increasely,however,no changes were found in expression of protein NF-\\\\u03baB(p65).Conclusion:RNA interference of survivin on MCF-7 cells played a crucial role in cell proliferation and cell cycle progression,and its mechanisms might be related to the caspase cascade,mitochondria apoptosis pathway and cell cycle regulation process,and mitotic cell death might be the main cause of the cell death.\"}\\n',\n",
       " '{\"id\": \"53e99e61b7602d97027281c0\", \"title\": \"Studies on the Biotransformation of the Progestagen Dienogest in the Rabbit<sup>*</sup>)\", \"authors\": [{\"name\": \"G. Hobe\", \"id\": \"53f7d8b0dabfae92b40ea60e\"}, {\"name\": \"Renate Sch\\\\u00f6n\", \"id\": \"53f4778bdabfaee4dc89245b\"}, {\"name\": \"K. Wehrberger\", \"id\": \"53f3af81dabfae4b34b1350b\"}, {\"name\": \"W. Schade\", \"id\": \"5603a58e45cedb33961fd893\"}, {\"name\": \"Petra Ritter\", \"id\": \"54067ac2dabfae92b4209905\"}, {\"name\": \"H. G. Hillesheim\", \"id\": \"53f382e8dabfae4b34a00a9a\"}], \"venue\": {\"raw\": \"Experimental and Clinical Endocrinology & Diabetes\", \"id\": \"5451a5c4e0cf0b02b5f37ffc\"}, \"year\": 1989, \"n_citation\": 0, \"page_start\": \"203\", \"page_end\": \"210\", \"lang\": \"en\", \"volume\": \"94\", \"issue\": \"04/05\", \"doi\": \"10.1055/s-0029-1210898\"}\\n',\n",
       " '{\"id\": \"53e99e61b7602d97027281c1\", \"title\": \"Epilepsy, Crime and Delinquency: A Sociological Account\", \"authors\": [{\"name\": \"M. J. Oliver\", \"id\": \"53f46e0bdabfaedd74e88464\"}], \"venue\": {\"raw\": \"Sociology-the Journal of The British Sociological Association\", \"id\": \"5451a5c6e0cf0b02b5f3a5bc\"}, \"year\": 1980, \"n_citation\": 0, \"page_start\": \"417\", \"page_end\": \"440\", \"lang\": \"en\", \"volume\": \"14\", \"issue\": \"3\", \"doi\": \"10.1177/003803858001400304\", \"url\": [\"http://dx.doi.org/10.1177/003803858001400304\"]}\\n']"
      ]
     },
     "execution_count": 36,
     "metadata": {},
     "output_type": "execute_result"
    }
   ],
   "source": [
    "lines_list[:3]"
   ]
  },
  {
   "cell_type": "code",
   "execution_count": 37,
   "metadata": {},
   "outputs": [
    {
     "name": "stdout",
     "output_type": "stream",
     "text": [
      "Anti-cancer mechanism of survivin siRNA plasmid mU6/survivin\n",
      "Computational Analysis for the Malfunction of Turbine Casing\n",
      "An intrinsic characterization of p-symmetric Heegaard splittings\n",
      "Sympathetic skin response in patients with myasthenia gravis: A comparative analysis\n",
      "Poly(silyl ester)s: A new route of synthesis via the condensation of Di-tert-butyl ester of dicarboxylic acid with dichlorosilane\n",
      "doc_downloaded\n",
      "doc_downloaded\n",
      "Nitric oxide is involved in lithium-induced immediate early gene expressions in the adrenal medulla\n",
      "doc_downloaded\n",
      "Sugar Cane to Fuel-Ethanol... to green power? clean water? recycle sludge? reclaim soils?\n",
      "doc_downloaded\n",
      "Infection en réanimation : un défi permanent de prévention et de prise en charge\n",
      "Anodisches Verhalten der Edelmetall-Legierungen und die Frage der Resistenzgrenzen\n",
      "Effect of ranitidine on basal and bicarbonate enhanced intragastric PCO2: a tonometric study.\n",
      "doc_downloaded\n",
      "The Indian Summer Monsoon and its Sensitivity to the Mean SSTs: Simulations with the ECHAM4 AGCM at T106 Horizontal Resolution.\n",
      "pages_parsed\n",
      "doc_removed\n",
      "The actions of a D-1 agonist in MPTP treated primates show dependence on both D-1 and D-2 receptor function and tolerance on repeated administration\n",
      "pages_parsed\n",
      "doc_removed\n",
      "Reverse design of car engine hood and its quality evaluation based on CATIA\n",
      "doc_downloaded\n",
      "doc_downloaded\n",
      "doc_downloaded\n",
      "doc_downloaded\n",
      "doc_downloaded\n",
      "Analysis of 40 Cases of the Treatment of Metastatic Breast with Navelbine(NVB) Plus Cisplatin\n",
      "doc_downloaded\n",
      "Process for Mananging Uncertainty with COntingency Planning\n",
      "The metabolism of injected Na2S35O4II. Effect of cortisol pretreatment on the association of S35O4 with perchloric acid soluble serum proteins, albumin and alpha-globulin\n",
      "doc_downloaded\n",
      "The Ethics of Management Control Systems: Developing Technical and Moral Values\n",
      "Candida-associated denture stomatitis in patients after immunosuppression therapy.\n",
      "doc_downloaded\n",
      "doc_downloaded\n",
      "Pertussis toxin suppresses long-term potentiation of hippocampal mossy fiber synapses.\n",
      "The Infrastructure Construction and Poverty Reduction in Rural China: A Simulation Analysis within a CGE Model Framework\n",
      "doc_downloaded\n",
      "pages_parsed\n",
      "pages_parsed\n",
      "doc_removed\n",
      "doc_removed\n",
      "pages_parsed\n",
      "doc_removed\n",
      "pages_parsed\n",
      "Analysis on the Application of Cloud Storage Technology in the Management of CD Attached with Books in the Library\n",
      "doc_removed\n",
      "Reconnaissance de la Croix-Rouge du Nigéria\n",
      "Atomistic Failure Mechanism of Single Wall Carbon Nanotubes with Small Diameters\n",
      "Development of pectin matrix tablets for colonic delivery of model drug ropivacaine\n",
      "pages_parsed\n",
      "doc_removed\n",
      "Simvastatin beneficial in CHD with and without metabolic syndrome\n",
      "doc_downloaded\n",
      "doc_downloaded\n",
      "doc_downloaded\n",
      "doc_downloaded\n",
      "pages_parsed\n",
      "doc_removed\n",
      "Is there a risk–return trade-off? Evidence from high-frequency data\n",
      "pages_parsed\n",
      "doc_removed\n",
      "Contemporary Art For the Majority or the Minority?\n",
      "doc_downloaded\n",
      "doc_downloaded\n",
      "doc_downloaded\n",
      "pages_parsed\n",
      "doc_removed\n",
      "Reconnaissance de la Croix-Rouge du Népal\n",
      "doc_downloaded\n",
      "pages_parsed\n",
      "doc_removed\n",
      "Reconnaissance de la Croix-Rouge du Niger\n",
      "doc_downloaded\n",
      "pages_parsed\n",
      "doc_removed\n",
      "Evaluation of competing tests for the diagnosis of pulmonary embolism and deep vein thrombosis, part I\n",
      "pages_parsed\n",
      "doc_removed\n",
      "Thema: Wie schreibe ich eine formal korrekte Seminararbeit?\n",
      "pages_parsed\n",
      "doc_removed\n",
      "INTERACTIONS BETWEEN THE INDIAN RIVER LAGOON BLUE CRAB FISHERY AND THE BOTTLENOSE DOLPHIN, TURSIOPS TRUNCATUS\n",
      "pages_parsed\n",
      "doc_removed\n",
      "Concentration phenomena of solutions for some singularly perturbed elliptic equations\n",
      "pages_parsed\n",
      "doc_removed\n",
      "Extended left hepatectomy with an inferior right liver vein: improved operation planning by 3-D reconstruction and computer-assisted imaging.\n",
      "pages_parsed\n",
      "doc_removed\n",
      "Exploring super-radiant phase transitions via coherent control of a\n",
      "  multi-qubit--cavity system\n",
      "doc_downloaded\n",
      "doc_downloaded\n",
      "On the Numerical Solution of the Transportation Problem\n",
      "doc_downloaded\n",
      "Research on User Clustering of Recommendation System in E-commerce\n",
      "doc_downloaded\n",
      "pages_parsed\n",
      "doc_removed\n",
      "Should We Change Our Prophylactic Antimicrobial Regimen for Prostate Biopsy?\n",
      "doc_downloaded\n",
      "EPR studies of Er3+, Nd3+ and Ce3+ in YAlO3 single crystals\n",
      "doc_downloaded\n",
      "pages_parsed\n",
      "doc_removed\n",
      "Die Bedeutung der Nebennieren für die Pathogenese und Therapie des Krampfes<sup>1</sup>)\n",
      "S.T.E.P.: Students transitioning effectively into practice\n",
      "Structure of the extremely slow GTPase Rab6A in the GTP bound form at 1.8A resolution.\n",
      "Recycling bovine embryos for nuclear transfer.\n",
      "doc_downloaded\n",
      "doc_downloaded\n",
      "Molecular methods for exploring the intestinal ecosystem.\n",
      "doc_downloaded\n",
      "pages_parsed\n",
      "doc_removed\n",
      "Reversible blindness associated with alcoholic ketoacidosis.\n",
      "Rehabilitating the Superfluous Man: The Films in the Life of Nikita Mikhalkov\n",
      "doc_downloaded\n",
      "Myelomatosis terminating in acute myelogenic leukaemia.\n",
      "Research on Path Optimization of Group Holes Machining\n",
      "doc_downloaded\n",
      "pages_parsed\n",
      "doc_removed\n",
      "Synthesis of N-methylmorpholinium 6-oxo-3,5-dicyano-1,4,5,6-tetrahydro-4-(spirocyclopentane)pyridine-2-thiolate with the Michael reaction\n",
      "doc_downloaded\n",
      "Selective peripheral denervation and myotomy for spasmodic torticollis, with results of 400 cases\n",
      "Changes in Tanzanian Rural Development Policy 1975-1978\n",
      "doc_downloaded\n",
      "pages_parsed\n",
      "doc_removed\n",
      "Confocal laser microscopic imaging of conspicuous facial pores in vivo: relation between the appearance and the internal structure of skin.\n",
      "pages_parsed\n",
      "doc_removed\n",
      "Therapeutic effect of infusion of oxygen-enriched liquid on acute lung injury\n",
      "pages_parsed\n",
      "doc_removed\n",
      "1553B data bus protocol analysis and application\n",
      "doc_downloaded\n",
      "pages_parsed\n",
      "doc_removed\n",
      "Analyzing the Surface Temperature Depression in Hot Stage Atomic Force Microscopy with Unheated Cantilevers:  Application to the Crystallization of Poly(ethylene oxide)\n",
      "doc_downloaded\n",
      "Precipitation on growth ledges of planar, low energy interphase boundaries in Fe-C-X alloys\n",
      "doc_downloaded\n",
      "Salsalate and salicylate binding to and their displacement of thyroxine from thyroxine-binding globulin, transthyrin, and albumin.\n",
      "Discussion on the Government Support in the Development of Farmer Cooperative\n",
      "doc_downloaded\n",
      "Temporal variance of disturbance did not affect diversity and structure of a marine fouling community in north-eastern New Zealand\n",
      "doc_downloaded\n",
      "doc_downloaded\n",
      "pages_parsed\n",
      "doc_removed\n",
      "Comparative Analysis of the Time Series of Surface Air Temperature over China for the Last 100 Years\n",
      "doc_downloaded\n",
      "pages_parsed\n",
      "doc_removed\n",
      "pages_parsed\n",
      "Comparison of Two Novel List Sphere Detector Algorithms for MIMO-OFDM Systems\n",
      "doc_removed\n",
      "Nitrogen Removal from Landfill Leachate Using an Infiltration Bed Coupled with a Denitrification Barrier\n",
      "pages_parsed\n",
      "doc_removed\n",
      "Undersampled elliptical centric view-order for improved spatial resolution in contrast-enhanced MR angiography\n",
      "pages_parsed\n",
      "doc_removed\n",
      "Gastronomy as an Attractive Issue for Luxury Tourism\n",
      "pages_parsed\n",
      "doc_removed\n",
      "The fractionation of wheat starch. II. The reducing powers of starch fractions\n",
      "Trichlorosilyl and dichloromethylsilyl derivatives of ruthenium carbonyl\n",
      "pages_parsed\n",
      "doc_removed\n",
      "Expression of inflammation factor in quadriceps femoris muscle of diabetic rats and the relationship with apoptosis-related factors\n",
      "doc_downloaded\n",
      "doc_downloaded\n",
      "doc_downloaded\n",
      "doc_downloaded\n",
      "pages_parsed\n",
      "doc_removed\n",
      "Endurance training limits the functional alterations of heart rat mitochondria submitted to in vitro anoxia-reoxygenation\n",
      "doc_downloaded\n",
      "pages_parsed\n",
      "doc_removed\n",
      "Clinical analogies for the management of toxic trauma\n",
      "pages_parsed\n",
      "doc_removed\n",
      "Routing on Asymptotic Delays in IEEE 802.11 Wireless Ad Hoc Networks\n",
      "pages_parsed\n",
      "doc_removed\n",
      "Basolateral amygdala inactivation impairs learned (but not innate) fear response in rats\n",
      "doc_downloaded\n",
      "pages_parsed\n",
      "doc_removed\n",
      "THE LOCALIZATION TRANSITION AT FINITE TEMPERATURES: ELECTRIC AND THERMAL TRANSPORT\n",
      "doc_downloaded\n",
      "doc_downloaded\n",
      "pages_parsed\n",
      "doc_removed\n",
      "doc_downloaded\n",
      "Varied walking velocities and dynamic visual acuity during locomotion\n",
      "pages_parsed\n",
      "doc_removed\n",
      "Application of Ball Milling Technology to Carbohydrate Reactions: I. Regioselective Primary Hydroxyl Protection of Hexosides and Nucleoside by Planetary Ball Milling\n"
     ]
    },
    {
     "name": "stdout",
     "output_type": "stream",
     "text": [
      "doc_downloaded\n",
      "doc_downloaded\n",
      "pages_parsed\n",
      "doc_removed\n",
      "Sparse representation based on projection method in online least squares support vector machines\n",
      "pages_parsed\n",
      "doc_removed\n",
      "Discussion on Managerial Experience of Sucker Rod Pumping Technique in Shanshan Oil Production Plant\n",
      "doc_downloaded\n",
      "pages_parsed\n",
      "doc_removed\n",
      "A spur unfolding model for the radiolysis of water\n",
      "pages_parsed\n",
      "doc_removed\n",
      "Metabolic cost and mechanical work during walking after tibiotalar arthrodesis and the influence of footwear\n",
      "doc_downloaded\n",
      "pages_parsed\n",
      "doc_removed\n",
      "Numerical simulation of internal flow of tubular pump system\n",
      "pages_parsed\n",
      "doc_removed\n",
      "Outcome of severe adult thrombotic microangiopathies in the intensive care unit.\n",
      "doc_downloaded\n",
      "doc_downloaded\n",
      "pages_parsed\n",
      "doc_removed\n",
      "Pattern-Based Constraint Satisfaction and Logic Puzzles\n",
      "doc_downloaded\n",
      "pages_parsed\n",
      "doc_removed\n",
      "The 26th IUGG Conference on Mathematical Geophysics Sea of Galilee, Israel, 4-8 June 2006\n",
      "pages_parsed\n",
      "doc_removed\n",
      "Hydriding behaviors of Zr(FeXMn1-X)2 alloys.\n",
      "doc_downloaded\n",
      "pages_parsed\n",
      "doc_removed\n",
      "Optimizing Resources of an FPGA-based Smart Camera Architecture\n",
      "doc_downloaded\n",
      "pages_parsed\n",
      "doc_removed\n",
      "NICU Design: An Opportunity for Change\n",
      "doc_downloaded\n",
      "pages_parsed\n",
      "doc_removed\n",
      "Influenza C VirusHemagglutinin: Comparison withInfluenza A and B VirusHemagglutinins\n",
      "doc_downloaded\n",
      "pages_parsed\n",
      "doc_removed\n",
      "Nonlinear deformation analysis of flexible cable\n",
      "doc_downloaded\n",
      "pages_parsed\n",
      "doc_removed\n",
      "THE ALLOWED DIRECTIONS OF COSMIC RAYS AS AN EXISTENCE PROBLEM OF MATHEMATICAL ANALYSIS.\n"
     ]
    },
    {
     "ename": "FileNotFoundError",
     "evalue": "[Errno 2] No such file or directory: 'Anti-cancer mechanism of survivin siRNA plasmid mU6/survivin.pdf'",
     "output_type": "error",
     "traceback": [
      "\u001b[0;31m---------------------------------------------------------------------------\u001b[0m",
      "\u001b[0;31mRemoteTraceback\u001b[0m                           Traceback (most recent call last)",
      "\u001b[0;31mRemoteTraceback\u001b[0m: \n\"\"\"\nTraceback (most recent call last):\n  File \"//anaconda3/envs/ai4g/lib/python3.7/multiprocessing/pool.py\", line 121, in worker\n    result = (True, func(*args, **kwds))\n  File \"//anaconda3/envs/ai4g/lib/python3.7/multiprocessing/pool.py\", line 44, in mapstar\n    return list(map(*args))\n  File \"<ipython-input-31-ee782ed13ce8>\", line 15, in process_paper\n    urlretrieve(url_to_download, '{}.pdf'.format(title))\n  File \"//anaconda3/envs/ai4g/lib/python3.7/urllib/request.py\", line 257, in urlretrieve\n    tfp = open(filename, 'wb')\nFileNotFoundError: [Errno 2] No such file or directory: 'Anti-cancer mechanism of survivin siRNA plasmid mU6/survivin.pdf'\n\"\"\"",
      "\nThe above exception was the direct cause of the following exception:\n",
      "\u001b[0;31mFileNotFoundError\u001b[0m                         Traceback (most recent call last)",
      "\u001b[0;32m<ipython-input-37-00a40e9bb96b>\u001b[0m in \u001b[0;36m<module>\u001b[0;34m\u001b[0m\n\u001b[1;32m      2\u001b[0m \u001b[0mp\u001b[0m \u001b[0;34m=\u001b[0m \u001b[0mPool\u001b[0m\u001b[0;34m(\u001b[0m\u001b[0;36m8\u001b[0m\u001b[0;34m)\u001b[0m\u001b[0;34m\u001b[0m\u001b[0;34m\u001b[0m\u001b[0m\n\u001b[1;32m      3\u001b[0m \u001b[0mstart\u001b[0m \u001b[0;34m=\u001b[0m \u001b[0mtime\u001b[0m\u001b[0;34m.\u001b[0m\u001b[0mperf_counter\u001b[0m\u001b[0;34m(\u001b[0m\u001b[0;34m)\u001b[0m\u001b[0;34m\u001b[0m\u001b[0;34m\u001b[0m\u001b[0m\n\u001b[0;32m----> 4\u001b[0;31m \u001b[0mp\u001b[0m\u001b[0;34m.\u001b[0m\u001b[0mmap\u001b[0m\u001b[0;34m(\u001b[0m\u001b[0mprocess_paper\u001b[0m\u001b[0;34m,\u001b[0m \u001b[0mlines_list\u001b[0m\u001b[0;34m)\u001b[0m\u001b[0;34m\u001b[0m\u001b[0;34m\u001b[0m\u001b[0m\n\u001b[0m\u001b[1;32m      5\u001b[0m \u001b[0mend\u001b[0m \u001b[0;34m=\u001b[0m \u001b[0mtime\u001b[0m\u001b[0;34m.\u001b[0m\u001b[0mperf_counter\u001b[0m\u001b[0;34m(\u001b[0m\u001b[0;34m)\u001b[0m\u001b[0;34m\u001b[0m\u001b[0;34m\u001b[0m\u001b[0m\n",
      "\u001b[0;32m//anaconda3/envs/ai4g/lib/python3.7/multiprocessing/pool.py\u001b[0m in \u001b[0;36mmap\u001b[0;34m(self, func, iterable, chunksize)\u001b[0m\n\u001b[1;32m    266\u001b[0m         \u001b[0;32min\u001b[0m \u001b[0ma\u001b[0m \u001b[0mlist\u001b[0m \u001b[0mthat\u001b[0m \u001b[0;32mis\u001b[0m \u001b[0mreturned\u001b[0m\u001b[0;34m.\u001b[0m\u001b[0;34m\u001b[0m\u001b[0;34m\u001b[0m\u001b[0m\n\u001b[1;32m    267\u001b[0m         '''\n\u001b[0;32m--> 268\u001b[0;31m         \u001b[0;32mreturn\u001b[0m \u001b[0mself\u001b[0m\u001b[0;34m.\u001b[0m\u001b[0m_map_async\u001b[0m\u001b[0;34m(\u001b[0m\u001b[0mfunc\u001b[0m\u001b[0;34m,\u001b[0m \u001b[0miterable\u001b[0m\u001b[0;34m,\u001b[0m \u001b[0mmapstar\u001b[0m\u001b[0;34m,\u001b[0m \u001b[0mchunksize\u001b[0m\u001b[0;34m)\u001b[0m\u001b[0;34m.\u001b[0m\u001b[0mget\u001b[0m\u001b[0;34m(\u001b[0m\u001b[0;34m)\u001b[0m\u001b[0;34m\u001b[0m\u001b[0;34m\u001b[0m\u001b[0m\n\u001b[0m\u001b[1;32m    269\u001b[0m \u001b[0;34m\u001b[0m\u001b[0m\n\u001b[1;32m    270\u001b[0m     \u001b[0;32mdef\u001b[0m \u001b[0mstarmap\u001b[0m\u001b[0;34m(\u001b[0m\u001b[0mself\u001b[0m\u001b[0;34m,\u001b[0m \u001b[0mfunc\u001b[0m\u001b[0;34m,\u001b[0m \u001b[0miterable\u001b[0m\u001b[0;34m,\u001b[0m \u001b[0mchunksize\u001b[0m\u001b[0;34m=\u001b[0m\u001b[0;32mNone\u001b[0m\u001b[0;34m)\u001b[0m\u001b[0;34m:\u001b[0m\u001b[0;34m\u001b[0m\u001b[0;34m\u001b[0m\u001b[0m\n",
      "\u001b[0;32m//anaconda3/envs/ai4g/lib/python3.7/multiprocessing/pool.py\u001b[0m in \u001b[0;36mget\u001b[0;34m(self, timeout)\u001b[0m\n\u001b[1;32m    655\u001b[0m             \u001b[0;32mreturn\u001b[0m \u001b[0mself\u001b[0m\u001b[0;34m.\u001b[0m\u001b[0m_value\u001b[0m\u001b[0;34m\u001b[0m\u001b[0;34m\u001b[0m\u001b[0m\n\u001b[1;32m    656\u001b[0m         \u001b[0;32melse\u001b[0m\u001b[0;34m:\u001b[0m\u001b[0;34m\u001b[0m\u001b[0;34m\u001b[0m\u001b[0m\n\u001b[0;32m--> 657\u001b[0;31m             \u001b[0;32mraise\u001b[0m \u001b[0mself\u001b[0m\u001b[0;34m.\u001b[0m\u001b[0m_value\u001b[0m\u001b[0;34m\u001b[0m\u001b[0;34m\u001b[0m\u001b[0m\n\u001b[0m\u001b[1;32m    658\u001b[0m \u001b[0;34m\u001b[0m\u001b[0m\n\u001b[1;32m    659\u001b[0m     \u001b[0;32mdef\u001b[0m \u001b[0m_set\u001b[0m\u001b[0;34m(\u001b[0m\u001b[0mself\u001b[0m\u001b[0;34m,\u001b[0m \u001b[0mi\u001b[0m\u001b[0;34m,\u001b[0m \u001b[0mobj\u001b[0m\u001b[0;34m)\u001b[0m\u001b[0;34m:\u001b[0m\u001b[0;34m\u001b[0m\u001b[0;34m\u001b[0m\u001b[0m\n",
      "\u001b[0;31mFileNotFoundError\u001b[0m: [Errno 2] No such file or directory: 'Anti-cancer mechanism of survivin siRNA plasmid mU6/survivin.pdf'"
     ]
    }
   ],
   "source": [
    "from multiprocessing import Pool\n",
    "p = Pool(8)\n",
    "start = time.perf_counter()\n",
    "p.map(process_paper, lines_list)\n",
    "end = time.perf_counter()"
   ]
  },
  {
   "cell_type": "code",
   "execution_count": null,
   "metadata": {},
   "outputs": [],
   "source": [
    "print(end-start)"
   ]
  },
  {
   "cell_type": "code",
   "execution_count": 40,
   "metadata": {},
   "outputs": [
    {
     "name": "stderr",
     "output_type": "stream",
     "text": [
      "Process ForkPoolWorker-78:\n",
      "Process ForkPoolWorker-83:\n",
      "Process ForkPoolWorker-81:\n"
     ]
    },
    {
     "ename": "KeyboardInterrupt",
     "evalue": "",
     "output_type": "error",
     "traceback": [
      "\u001b[0;31m---------------------------------------------------------------------------\u001b[0m",
      "\u001b[0;31mKeyboardInterrupt\u001b[0m                         Traceback (most recent call last)",
      "\u001b[0;32m<ipython-input-40-961aca6e0263>\u001b[0m in \u001b[0;36m<module>\u001b[0;34m\u001b[0m\n\u001b[1;32m     19\u001b[0m \u001b[0;31m#create jobs\u001b[0m\u001b[0;34m\u001b[0m\u001b[0;34m\u001b[0m\u001b[0;34m\u001b[0m\u001b[0m\n\u001b[1;32m     20\u001b[0m \u001b[0;32mwith\u001b[0m \u001b[0mopen\u001b[0m\u001b[0;34m(\u001b[0m\u001b[0mdoc_txt\u001b[0m\u001b[0;34m)\u001b[0m \u001b[0;32mas\u001b[0m \u001b[0mf\u001b[0m\u001b[0;34m:\u001b[0m\u001b[0;34m\u001b[0m\u001b[0;34m\u001b[0m\u001b[0m\n\u001b[0;32m---> 21\u001b[0;31m     \u001b[0;32mfor\u001b[0m \u001b[0mID\u001b[0m\u001b[0;34m,\u001b[0m\u001b[0mline\u001b[0m \u001b[0;32min\u001b[0m \u001b[0menumerate\u001b[0m\u001b[0;34m(\u001b[0m\u001b[0mf\u001b[0m\u001b[0;34m)\u001b[0m\u001b[0;34m:\u001b[0m\u001b[0;34m\u001b[0m\u001b[0;34m\u001b[0m\u001b[0m\n\u001b[0m\u001b[1;32m     22\u001b[0m         \u001b[0mjobs\u001b[0m\u001b[0;34m.\u001b[0m\u001b[0mappend\u001b[0m\u001b[0;34m(\u001b[0m \u001b[0mpool\u001b[0m\u001b[0;34m.\u001b[0m\u001b[0mapply_async\u001b[0m\u001b[0;34m(\u001b[0m\u001b[0mprocess_wrapper\u001b[0m\u001b[0;34m,\u001b[0m\u001b[0;34m(\u001b[0m\u001b[0mID\u001b[0m\u001b[0;34m)\u001b[0m\u001b[0;34m)\u001b[0m \u001b[0;34m)\u001b[0m\u001b[0;34m\u001b[0m\u001b[0;34m\u001b[0m\u001b[0m\n\u001b[1;32m     23\u001b[0m \u001b[0;34m\u001b[0m\u001b[0m\n",
      "\u001b[0;32m//anaconda3/envs/ai4g/lib/python3.7/codecs.py\u001b[0m in \u001b[0;36mdecode\u001b[0;34m(self, input, final)\u001b[0m\n\u001b[1;32m    317\u001b[0m         \u001b[0;32mraise\u001b[0m \u001b[0mNotImplementedError\u001b[0m\u001b[0;34m\u001b[0m\u001b[0;34m\u001b[0m\u001b[0m\n\u001b[1;32m    318\u001b[0m \u001b[0;34m\u001b[0m\u001b[0m\n\u001b[0;32m--> 319\u001b[0;31m     \u001b[0;32mdef\u001b[0m \u001b[0mdecode\u001b[0m\u001b[0;34m(\u001b[0m\u001b[0mself\u001b[0m\u001b[0;34m,\u001b[0m \u001b[0minput\u001b[0m\u001b[0;34m,\u001b[0m \u001b[0mfinal\u001b[0m\u001b[0;34m=\u001b[0m\u001b[0;32mFalse\u001b[0m\u001b[0;34m)\u001b[0m\u001b[0;34m:\u001b[0m\u001b[0;34m\u001b[0m\u001b[0;34m\u001b[0m\u001b[0m\n\u001b[0m\u001b[1;32m    320\u001b[0m         \u001b[0;31m# decode input (taking the buffer into account)\u001b[0m\u001b[0;34m\u001b[0m\u001b[0;34m\u001b[0m\u001b[0;34m\u001b[0m\u001b[0m\n\u001b[1;32m    321\u001b[0m         \u001b[0mdata\u001b[0m \u001b[0;34m=\u001b[0m \u001b[0mself\u001b[0m\u001b[0;34m.\u001b[0m\u001b[0mbuffer\u001b[0m \u001b[0;34m+\u001b[0m \u001b[0minput\u001b[0m\u001b[0;34m\u001b[0m\u001b[0;34m\u001b[0m\u001b[0m\n",
      "\u001b[0;31mKeyboardInterrupt\u001b[0m: "
     ]
    },
    {
     "name": "stderr",
     "output_type": "stream",
     "text": [
      "Process ForkPoolWorker-80:\n",
      "Process ForkPoolWorker-84:\n",
      "Process ForkPoolWorker-82:\n",
      "Process ForkPoolWorker-77:\n",
      "Process ForkPoolWorker-79:\n",
      "Traceback (most recent call last):\n",
      "Traceback (most recent call last):\n",
      "Traceback (most recent call last):\n",
      "Traceback (most recent call last):\n",
      "Traceback (most recent call last):\n",
      "Traceback (most recent call last):\n",
      "Traceback (most recent call last):\n",
      "  File \"//anaconda3/envs/ai4g/lib/python3.7/multiprocessing/process.py\", line 297, in _bootstrap\n",
      "    self.run()\n",
      "Traceback (most recent call last):\n",
      "  File \"//anaconda3/envs/ai4g/lib/python3.7/multiprocessing/process.py\", line 297, in _bootstrap\n",
      "    self.run()\n",
      "  File \"//anaconda3/envs/ai4g/lib/python3.7/multiprocessing/process.py\", line 297, in _bootstrap\n",
      "    self.run()\n",
      "  File \"//anaconda3/envs/ai4g/lib/python3.7/multiprocessing/process.py\", line 297, in _bootstrap\n",
      "    self.run()\n",
      "  File \"//anaconda3/envs/ai4g/lib/python3.7/multiprocessing/process.py\", line 297, in _bootstrap\n",
      "    self.run()\n",
      "  File \"//anaconda3/envs/ai4g/lib/python3.7/multiprocessing/process.py\", line 297, in _bootstrap\n",
      "    self.run()\n",
      "  File \"//anaconda3/envs/ai4g/lib/python3.7/multiprocessing/process.py\", line 297, in _bootstrap\n",
      "    self.run()\n",
      "  File \"//anaconda3/envs/ai4g/lib/python3.7/multiprocessing/process.py\", line 297, in _bootstrap\n",
      "    self.run()\n",
      "  File \"//anaconda3/envs/ai4g/lib/python3.7/multiprocessing/process.py\", line 99, in run\n",
      "    self._target(*self._args, **self._kwargs)\n",
      "  File \"//anaconda3/envs/ai4g/lib/python3.7/multiprocessing/process.py\", line 99, in run\n",
      "    self._target(*self._args, **self._kwargs)\n",
      "  File \"//anaconda3/envs/ai4g/lib/python3.7/multiprocessing/process.py\", line 99, in run\n",
      "    self._target(*self._args, **self._kwargs)\n",
      "  File \"//anaconda3/envs/ai4g/lib/python3.7/multiprocessing/process.py\", line 99, in run\n",
      "    self._target(*self._args, **self._kwargs)\n",
      "  File \"//anaconda3/envs/ai4g/lib/python3.7/multiprocessing/process.py\", line 99, in run\n",
      "    self._target(*self._args, **self._kwargs)\n",
      "  File \"//anaconda3/envs/ai4g/lib/python3.7/multiprocessing/process.py\", line 99, in run\n",
      "    self._target(*self._args, **self._kwargs)\n",
      "  File \"//anaconda3/envs/ai4g/lib/python3.7/multiprocessing/process.py\", line 99, in run\n",
      "    self._target(*self._args, **self._kwargs)\n",
      "  File \"//anaconda3/envs/ai4g/lib/python3.7/multiprocessing/pool.py\", line 127, in worker\n",
      "    put((job, i, result))\n",
      "  File \"//anaconda3/envs/ai4g/lib/python3.7/multiprocessing/pool.py\", line 127, in worker\n",
      "    put((job, i, result))\n",
      "  File \"//anaconda3/envs/ai4g/lib/python3.7/multiprocessing/pool.py\", line 127, in worker\n",
      "    put((job, i, result))\n",
      "  File \"//anaconda3/envs/ai4g/lib/python3.7/multiprocessing/process.py\", line 99, in run\n",
      "    self._target(*self._args, **self._kwargs)\n",
      "  File \"//anaconda3/envs/ai4g/lib/python3.7/multiprocessing/pool.py\", line 127, in worker\n",
      "    put((job, i, result))\n",
      "  File \"//anaconda3/envs/ai4g/lib/python3.7/multiprocessing/pool.py\", line 127, in worker\n",
      "    put((job, i, result))\n",
      "  File \"//anaconda3/envs/ai4g/lib/python3.7/multiprocessing/pool.py\", line 127, in worker\n",
      "    put((job, i, result))\n",
      "  File \"//anaconda3/envs/ai4g/lib/python3.7/multiprocessing/queues.py\", line 363, in put\n",
      "    with self._wlock:\n",
      "  File \"//anaconda3/envs/ai4g/lib/python3.7/multiprocessing/pool.py\", line 127, in worker\n",
      "    put((job, i, result))\n",
      "  File \"//anaconda3/envs/ai4g/lib/python3.7/multiprocessing/pool.py\", line 127, in worker\n",
      "    put((job, i, result))\n",
      "  File \"//anaconda3/envs/ai4g/lib/python3.7/multiprocessing/queues.py\", line 363, in put\n",
      "    with self._wlock:\n",
      "  File \"//anaconda3/envs/ai4g/lib/python3.7/multiprocessing/queues.py\", line 363, in put\n",
      "    with self._wlock:\n",
      "  File \"//anaconda3/envs/ai4g/lib/python3.7/multiprocessing/queues.py\", line 363, in put\n",
      "    with self._wlock:\n",
      "  File \"//anaconda3/envs/ai4g/lib/python3.7/multiprocessing/queues.py\", line 363, in put\n",
      "    with self._wlock:\n",
      "  File \"//anaconda3/envs/ai4g/lib/python3.7/multiprocessing/queues.py\", line 363, in put\n",
      "    with self._wlock:\n",
      "  File \"//anaconda3/envs/ai4g/lib/python3.7/multiprocessing/queues.py\", line 363, in put\n",
      "    with self._wlock:\n",
      "  File \"//anaconda3/envs/ai4g/lib/python3.7/multiprocessing/queues.py\", line 364, in put\n",
      "    self._writer.send_bytes(obj)\n",
      "  File \"//anaconda3/envs/ai4g/lib/python3.7/multiprocessing/synchronize.py\", line 95, in __enter__\n",
      "    return self._semlock.__enter__()\n",
      "  File \"//anaconda3/envs/ai4g/lib/python3.7/multiprocessing/synchronize.py\", line 95, in __enter__\n",
      "    return self._semlock.__enter__()\n",
      "  File \"//anaconda3/envs/ai4g/lib/python3.7/multiprocessing/synchronize.py\", line 95, in __enter__\n",
      "    return self._semlock.__enter__()\n",
      "  File \"//anaconda3/envs/ai4g/lib/python3.7/multiprocessing/synchronize.py\", line 95, in __enter__\n",
      "    return self._semlock.__enter__()\n",
      "  File \"//anaconda3/envs/ai4g/lib/python3.7/multiprocessing/synchronize.py\", line 95, in __enter__\n",
      "    return self._semlock.__enter__()\n",
      "  File \"//anaconda3/envs/ai4g/lib/python3.7/multiprocessing/synchronize.py\", line 95, in __enter__\n",
      "    return self._semlock.__enter__()\n",
      "KeyboardInterrupt\n",
      "  File \"//anaconda3/envs/ai4g/lib/python3.7/multiprocessing/connection.py\", line 200, in send_bytes\n",
      "    self._send_bytes(m[offset:offset + size])\n",
      "  File \"//anaconda3/envs/ai4g/lib/python3.7/multiprocessing/synchronize.py\", line 95, in __enter__\n",
      "    return self._semlock.__enter__()\n",
      "KeyboardInterrupt\n",
      "KeyboardInterrupt\n",
      "KeyboardInterrupt\n",
      "KeyboardInterrupt\n",
      "KeyboardInterrupt\n",
      "  File \"//anaconda3/envs/ai4g/lib/python3.7/multiprocessing/connection.py\", line 404, in _send_bytes\n",
      "    self._send(header + buf)\n",
      "KeyboardInterrupt\n",
      "  File \"//anaconda3/envs/ai4g/lib/python3.7/multiprocessing/connection.py\", line 368, in _send\n",
      "    n = write(self._handle, buf)\n",
      "KeyboardInterrupt\n"
     ]
    }
   ],
   "source": [
    "import multiprocessing as mp\n",
    "\n",
    "doc_txt = 'aminer_papers_0/aminer_papers_1.txt'\n",
    "\n",
    "def process_wrapper(lineID):\n",
    "    with open(doc_txt) as f:\n",
    "        for i,line in enumerate(f):\n",
    "            if i != lineID:\n",
    "                continue\n",
    "            else:\n",
    "                process_paper(line)\n",
    "                break\n",
    "\n",
    "#init objects\n",
    "cores=8\n",
    "pool = mp.Pool(cores)\n",
    "jobs = []\n",
    "\n",
    "#create jobs\n",
    "with open(doc_txt) as f:\n",
    "    for ID,line in enumerate(f):\n",
    "        jobs.append( pool.apply_async(process_wrapper,(ID)) )\n",
    "\n",
    "#wait for all jobs to finish\n",
    "for job in jobs:\n",
    "    job.get()\n",
    "\n",
    "#clean up\n",
    "pool.close()"
   ]
  },
  {
   "cell_type": "markdown",
   "metadata": {},
   "source": [
    "Now we can process this function for the whole aiminer_papers_1.txt text file:"
   ]
  },
  {
   "cell_type": "markdown",
   "metadata": {},
   "source": [
    "import multiprocessing as mp,os\n",
    "\n",
    "doc_txt = 'aminer_papers_0/aminer_papers_1.txt'\n",
    "\n",
    "def process_wrapper(chunkStart, chunkSize):\n",
    "    with open(doc_txt) as f:\n",
    "        f.seek(chunkStart)\n",
    "        lines = f.read(chunkSize).splitlines()\n",
    "        for line in lines:\n",
    "            process_paper(line)\n",
    "\n",
    "def chunkify(fname,size=1024*1024):\n",
    "    fileEnd = os.path.getsize(fname)\n",
    "    f = open(fname,'r+')\n",
    "    chunkEnd = f.tell()\n",
    "    while True:\n",
    "        chunkStart = chunkEnd\n",
    "        f = open(fname,'ab')\n",
    "        f.seek(size,1)\n",
    "        f = open(fname,'r+')\n",
    "        f.readline()\n",
    "        chunkEnd = f.tell()\n",
    "        yield chunkStart, chunkEnd - chunkStart\n",
    "        if chunkEnd > fileEnd:\n",
    "            break\n",
    "\n",
    "#init objects\n",
    "cores = 8\n",
    "pool = mp.Pool(cores)\n",
    "jobs = []\n",
    "\n",
    "start = time.perf_counter()\n",
    "#create jobs\n",
    "for chunkStart,chunkSize in chunkify(doc_txt):\n",
    "    jobs.append( pool.apply_async(process_wrapper,(chunkStart,chunkSize)) )\n",
    "\n",
    "#wait for all jobs to finish\n",
    "for job in jobs:\n",
    "    job.get()\n",
    "\n",
    "#clean up\n",
    "pool.close()\n",
    "end = time.perf_counter()"
   ]
  },
  {
   "cell_type": "code",
   "execution_count": null,
   "metadata": {},
   "outputs": [],
   "source": []
  },
  {
   "cell_type": "code",
   "execution_count": 93,
   "metadata": {},
   "outputs": [],
   "source": [
    "def process_paper_(self, dict_):\n",
    "    #1st: Extract Metadata\n",
    "    try: self.title = dict_['title']\n",
    "    except: self.title = np.nan\n",
    "    try: self.authors = dict_['authors'].values()\n",
    "    except: self.authors = np.nan\n",
    "    try: self.year = dict_['year']\n",
    "    except: self.title = np.nan\n",
    "    try: self.citations = dict_['n_citation']\n",
    "    except: self.citations = np.nan\n",
    "        \n",
    "    #2nd: Analyse the paper and extract pages with mention of 'data'\n",
    "    self.url = dict_['url'][0]\n",
    "    os.chdir('/Users/spezzata/Documents/Projects/AI4Good/data_aiminer/papers') \n",
    "    urlretrieve(url, \"{}\".format(self.url))\n",
    "    path = \"{}\".format(self.url)\n",
    "    get_pages(path)\n",
    "    os.remove(path)\n",
    "    \n",
    "    #3rd: Store the information in a json file \n",
    "    #os.chdir(dir_for_papers) ##TODO define dir_for_info\n",
    "    #os.makedirs('{}', exist_ok=True)\n",
    "    \n",
    "    return"
   ]
  },
  {
   "cell_type": "code",
   "execution_count": 94,
   "metadata": {},
   "outputs": [],
   "source": [
    "def test_url(dict_):\n",
    "    url_ = dict_['url'][0]\n",
    "    try:\n",
    "        if url_[-3:] == 'pdf':\n",
    "            process_paper(dict_)\n",
    "        else: pass\n",
    "    except: pass\n",
    "    return"
   ]
  },
  {
   "cell_type": "code",
   "execution_count": 95,
   "metadata": {},
   "outputs": [],
   "source": [
    "#TODO: make a function that can process in parallel all of the papers from the aiminer doc that you have"
   ]
  },
  {
   "cell_type": "code",
   "execution_count": 30,
   "metadata": {},
   "outputs": [
    {
     "ename": "FileNotFoundError",
     "evalue": "[Errno 2] No such file or directory: 'aminer_papers_0/aminer_papers_0.txt'",
     "output_type": "error",
     "traceback": [
      "\u001b[0;31m---------------------------------------------------------------------------\u001b[0m",
      "\u001b[0;31mFileNotFoundError\u001b[0m                         Traceback (most recent call last)",
      "\u001b[0;32m<ipython-input-30-1f5226567eb6>\u001b[0m in \u001b[0;36m<module>\u001b[0;34m\u001b[0m\n\u001b[0;32m----> 1\u001b[0;31m \u001b[0mfile1\u001b[0m \u001b[0;34m=\u001b[0m \u001b[0mopen\u001b[0m\u001b[0;34m(\u001b[0m\u001b[0;34m\"aminer_papers_0/aminer_papers_0.txt\"\u001b[0m\u001b[0;34m,\u001b[0m\u001b[0;34m\"r\"\u001b[0m\u001b[0;34m)\u001b[0m\u001b[0;34m\u001b[0m\u001b[0;34m\u001b[0m\u001b[0m\n\u001b[0m",
      "\u001b[0;31mFileNotFoundError\u001b[0m: [Errno 2] No such file or directory: 'aminer_papers_0/aminer_papers_0.txt'"
     ]
    }
   ],
   "source": [
    "file1 = open(\"aminer_papers_0/aminer_papers_0.txt\",\"r\")"
   ]
  },
  {
   "cell_type": "code",
   "execution_count": 31,
   "metadata": {},
   "outputs": [
    {
     "ename": "FileNotFoundError",
     "evalue": "[Errno 2] No such file or directory: 'MyFile.txt'",
     "output_type": "error",
     "traceback": [
      "\u001b[0;31m---------------------------------------------------------------------------\u001b[0m",
      "\u001b[0;31mFileNotFoundError\u001b[0m                         Traceback (most recent call last)",
      "\u001b[0;32m<ipython-input-31-b15d9fd06086>\u001b[0m in \u001b[0;36m<module>\u001b[0;34m\u001b[0m\n\u001b[0;32m----> 1\u001b[0;31m \u001b[0mfile1\u001b[0m \u001b[0;34m=\u001b[0m \u001b[0mopen\u001b[0m\u001b[0;34m(\u001b[0m\u001b[0;34m\"MyFile.txt\"\u001b[0m\u001b[0;34m,\u001b[0m\u001b[0;34m\"r\"\u001b[0m\u001b[0;34m)\u001b[0m\u001b[0;34m\u001b[0m\u001b[0;34m\u001b[0m\u001b[0m\n\u001b[0m",
      "\u001b[0;31mFileNotFoundError\u001b[0m: [Errno 2] No such file or directory: 'MyFile.txt'"
     ]
    }
   ],
   "source": [
    "file1 = open(\"MyFile.txt\",\"r\")"
   ]
  },
  {
   "cell_type": "code",
   "execution_count": null,
   "metadata": {},
   "outputs": [],
   "source": [
    "file1.read()"
   ]
  },
  {
   "cell_type": "code",
   "execution_count": 7,
   "metadata": {},
   "outputs": [
    {
     "name": "stdout",
     "output_type": "stream",
     "text": [
      "Letters\n",
      "https://doi.org/10.1038/s41558-019-0666-7\n",
      "1Institute for Atmospheric and Climate Science, ETH Zurich, Zurich, Switzerland. 2Seminar for Statistics, ETH Zurich, Zurich, Switzerland. 3Norwegian Institute \n",
      "of Bioeconomy Research, Ås, Norway. 4Swiss Data Science Center, ETH Zurich and EPFL, Lausanne, Switzerland. *e-mail: sebastian.sippel@env.ethz.ch\n",
      "For generations, climate scientists have educated the public \n",
      "that ‘weather is not climate’, and climate change has been \n",
      "framed as the change in the distribution of weather that slowly \n",
      "emerges from large variability over decades1–7. However, \n",
      "weather when considered globally is now in uncharted terri-\n",
      "tory. Here we show that on the basis of a single day of globally \n",
      "observed temperature and moisture, we detect the fingerprint \n",
      "of externally driven climate change, and conclude that Earth as \n",
      "a whole is warming. Our detection approach invokes statisti-\n",
      "cal learning and climate model simulations to encapsulate the \n",
      "relationship between spatial patterns of daily temperature and \n",
      "humidity, and key climate change metrics such as annual global \n",
      "mean temperature or Earth’s energy imbalance. Observations \n",
      "are projected onto this relationship to detect climate change. \n",
      "The fingerprint of climate change is detected from any single \n",
      "day in the observed global record since early 2012, and since \n",
      "1999 on the basis of a year of data. Detection is robust even \n",
      "when ignoring the long-term global warming trend. This \n",
      "complements traditional climate change detection, but also \n",
      "opens broader perspectives for the communication of regional \n",
      "weather events, modifying the climate change narrative: while \n",
      "changes in weather locally are emerging over decades, global \n",
      "climate change is now detected instantaneously.\n",
      "“Climate is what you expect, weather is what you get”8. This \n",
      "proverbial distinction between weather and climate has served for \n",
      "a long time in public and media discourse as a starting point for \n",
      "scientists to distinguish day-to-day weather variability against the \n",
      "long-term forced response of climate change. The ‘weather versus \n",
      "climate paradigm’ is therefore typically invoked to explain phenom-\n",
      "ena that may be perceived as contradictory, such as cold winter days \n",
      "in a warming climate. However, Earth’s climate is in fact variable on \n",
      "a broad spectrum of timescales9. Variability on weather timescales \n",
      "integrates to produce internal variability on ‘climate’ timescales10. \n",
      "It is therefore well established that, locally or regionally, irreduc-\n",
      "ible uncertainties related to internal climate variability might mask \n",
      "forced climate changes in temperature or hydro-meteorological \n",
      "variables even for decades to come5,6.\n",
      "Detection and attribution (D&A) studies aim to identify exter-\n",
      "nally forced signals in the observed climate record7 such as in \n",
      "surface air temperature4, humidity11,12 or the seasonal cycle of tem-\n",
      "perature13. The confidence in the detection of a key climate change \n",
      "metric, that is the 40-yr trend in annual mean tropospheric tem-\n",
      "perature, is very high and has exceeded a 5σ detection threshold \n",
      "recently14. Nonetheless, it is often argued that long-term trends are \n",
      "needed to detect a signal. Here we test whether externally forced \n",
      "climate change can be detected on shorter timescales, or even an \n",
      "arbitrary day in the observed record, if detection is based on a global \n",
      "spatial pattern.\n",
      "We start with a simple example to illustrate the difference in \n",
      "warming experienced locally and globally (Fig. 1). The past decade \n",
      "(2009–2018) has been on average 0.7 °C warmer than an earlier \n",
      "period (1951–1980). Locally, deseasonalized daily temperature \n",
      "anomalies fluctuate due to internal weather-related variability with \n",
      "a magnitude of up to 30 °C (Fig. 1a,c), depending on region and \n",
      "season. This substantial variation implies that despite an overall \n",
      "warmer climate, cold anomalies or even cold records can still occur \n",
      "and are to be expected15. However, at the global scale, weather-\n",
      "related variations tend to cancel out, and variations in deseasonal-\n",
      "ized global daily temperature anomalies are substantially reduced \n",
      "(Fig. 1b,d). Consequently, mean warming of about 0.7 °C corre-\n",
      "sponds to a change of about 2.0σ globally, but only to around 0.25σ \n",
      "locally. This difference is consistent with the occurrence of global \n",
      "heat records in recent years despite large variability regionally16. \n",
      "Overall, the example anticipates that ‘global weather’, even in the \n",
      "form of a naive average, carries important although not the optimal \n",
      "information about climate change.\n",
      "Formal D&A of externally forced signals in Earth’s observed \n",
      "climate relies on spatial patterns, so-called ‘fingerprints’, that \n",
      "encapsulate expected physical climate responses to external forc-\n",
      "ing7. We extend an established fingerprint detection method11,13,17 \n",
      "by incorporating a regression method that improves the separa-\n",
      "tion of signal and noise based on daily data (see Methods and \n",
      "Extended Data Fig. 1). First, we define two key climate change \n",
      "metrics, annual global mean temperature (AGMT) and a decadal \n",
      "average of Earth’s energy imbalance (EEI), that serve as target \n",
      "variables for detection. AGMT characterizes climate warming \n",
      "from a surface perspective, used in policy assessments18,19, while \n",
      "EEI characterizes the state of climate change from a more physi-\n",
      "cally motivated energy balance perspective20,21. Second, we train \n",
      "regularized linear regression models, using ridge regression, \n",
      "that predict each of the two targets from daily spatial patterns of \n",
      "surface temperature and/or humidity for each month and based  \n",
      "on model simulations in the Coupled Model Intercomparison \n",
      "Project Phase 5 (CMIP5) multi-model archive driven by external \n",
      "forcing. This step yields fingerprints as maps of regression coef-\n",
      "ficients that encapsulate the relationship between global patterns \n",
      "of daily weather and each target metric while reducing ‘noise’ in \n",
      "regions with large internal variability or model disagreement. \n",
      "Finally, and similarly to established detection methods11,13,17, \n",
      "we project observations onto the model-derived fingerprints to \n",
      "obtain a prediction of each target metric. We then assess whether \n",
      "externally forced climate change is detected by testing against the \n",
      "null hypothesis that the predicted test statistic is indistinguishable \n",
      "from natural variability.\n",
      "Overall, we estimate AGMT from any given day with a root mean \n",
      "squared error (RMSE) of 0.09 °C (Pearson correlation > 0.99) across \n",
      "Climate change now detectable from any single \n",
      "day of weather at global scale\n",
      "Sebastian Sippel   1,2,3*, Nicolai Meinshausen2, Erich M. Fischer   1, Enikő Székely   4 and Reto Knutti   1\n",
      "NatuRE CliMatE ChaNgE | VOL 10 | JANuARy 2020 | 35–41 | www.nature.com/natureclimatechange\n",
      "35\n",
      "\n"
     ]
    }
   ],
   "source": [
    "start = time.perf_counter()\n",
    "page1 = doc.loadPage(0)\n",
    "page1text = page1.getText(\"page\")\n",
    "end = time.perf_counter()\n",
    "print(page1text)"
   ]
  },
  {
   "cell_type": "code",
   "execution_count": 8,
   "metadata": {},
   "outputs": [
    {
     "data": {
      "text/plain": [
       "'Letters\\nhttps://doi.org/10.1038/s41558-019-0666-7\\n1Institute for Atmospheric and Climate Science, ETH Zurich, Zurich, Switzerland. 2Seminar for Statistics, ETH Zurich, Zurich, Switzerland. 3Norwegian Institute \\nof Bioeconomy Research, Ås, Norway. 4Swiss Data Science Center, ETH Zurich and EPFL, Lausanne, Switzerland. *e-mail: sebastian.sippel@env.ethz.ch\\nFor generations, climate scientists have educated the public \\nthat ‘weather is not climate’, and climate change has been \\nframed as the change in the distribution of weather that slowly \\nemerges from large variability over decades1–7. However, \\nweather when considered globally is now in uncharted terri-\\ntory. Here we show that on the basis of a single day of globally \\nobserved temperature and moisture, we detect the fingerprint \\nof externally driven climate change, and conclude that Earth as \\na whole is warming. Our detection approach invokes statisti-\\ncal learning and climate model simulations to encapsulate the \\nrelationship between spatial patterns of daily temperature and \\nhumidity, and key climate change metrics such as annual global \\nmean temperature or Earth’s energy imbalance. Observations \\nare projected onto this relationship to detect climate change. \\nThe fingerprint of climate change is detected from any single \\nday in the observed global record since early 2012, and since \\n1999 on the basis of a year of data. Detection is robust even \\nwhen ignoring the long-term global warming trend. This \\ncomplements traditional climate change detection, but also \\nopens broader perspectives for the communication of regional \\nweather events, modifying the climate change narrative: while \\nchanges in weather locally are emerging over decades, global \\nclimate change is now detected instantaneously.\\n“Climate is what you expect, weather is what you get”8. This \\nproverbial distinction between weather and climate has served for \\na long time in public and media discourse as a starting point for \\nscientists to distinguish day-to-day weather variability against the \\nlong-term forced response of climate change. The ‘weather versus \\nclimate paradigm’ is therefore typically invoked to explain phenom-\\nena that may be perceived as contradictory, such as cold winter days \\nin a warming climate. However, Earth’s climate is in fact variable on \\na broad spectrum of timescales9. Variability on weather timescales \\nintegrates to produce internal variability on ‘climate’ timescales10. \\nIt is therefore well established that, locally or regionally, irreduc-\\nible uncertainties related to internal climate variability might mask \\nforced climate changes in temperature or hydro-meteorological \\nvariables even for decades to come5,6.\\nDetection and attribution (D&A) studies aim to identify exter-\\nnally forced signals in the observed climate record7 such as in \\nsurface air temperature4, humidity11,12 or the seasonal cycle of tem-\\nperature13. The confidence in the detection of a key climate change \\nmetric, that is the 40-yr trend in annual mean tropospheric tem-\\nperature, is very high and has exceeded a 5σ detection threshold \\nrecently14. Nonetheless, it is often argued that long-term trends are \\nneeded to detect a signal. Here we test whether externally forced \\nclimate change can be detected on shorter timescales, or even an \\narbitrary day in the observed record, if detection is based on a global \\nspatial pattern.\\nWe start with a simple example to illustrate the difference in \\nwarming experienced locally and globally (Fig. 1). The past decade \\n(2009–2018) has been on average 0.7 °C warmer than an earlier \\nperiod (1951–1980). Locally, deseasonalized daily temperature \\nanomalies fluctuate due to internal weather-related variability with \\na magnitude of up to 30 °C (Fig. 1a,c), depending on region and \\nseason. This substantial variation implies that despite an overall \\nwarmer climate, cold anomalies or even cold records can still occur \\nand are to be expected15. However, at the global scale, weather-\\nrelated variations tend to cancel out, and variations in deseasonal-\\nized global daily temperature anomalies are substantially reduced \\n(Fig. 1b,d). Consequently, mean warming of about 0.7 °C corre-\\nsponds to a change of about 2.0σ globally, but only to around 0.25σ \\nlocally. This difference is consistent with the occurrence of global \\nheat records in recent years despite large variability regionally16. \\nOverall, the example anticipates that ‘global weather’, even in the \\nform of a naive average, carries important although not the optimal \\ninformation about climate change.\\nFormal D&A of externally forced signals in Earth’s observed \\nclimate relies on spatial patterns, so-called ‘fingerprints’, that \\nencapsulate expected physical climate responses to external forc-\\ning7. We extend an established fingerprint detection method11,13,17 \\nby incorporating a regression method that improves the separa-\\ntion of signal and noise based on daily data (see Methods and \\nExtended Data Fig. 1). First, we define two key climate change \\nmetrics, annual global mean temperature (AGMT) and a decadal \\naverage of Earth’s energy imbalance (EEI), that serve as target \\nvariables for detection. AGMT characterizes climate warming \\nfrom a surface perspective, used in policy assessments18,19, while \\nEEI characterizes the state of climate change from a more physi-\\ncally motivated energy balance perspective20,21. Second, we train \\nregularized linear regression models, using ridge regression, \\nthat predict each of the two targets from daily spatial patterns of \\nsurface temperature and/or humidity for each month and based  \\non model simulations in the Coupled Model Intercomparison \\nProject Phase 5 (CMIP5) multi-model archive driven by external \\nforcing. This step yields fingerprints as maps of regression coef-\\nficients that encapsulate the relationship between global patterns \\nof daily weather and each target metric while reducing ‘noise’ in \\nregions with large internal variability or model disagreement. \\nFinally, and similarly to established detection methods11,13,17, \\nwe project observations onto the model-derived fingerprints to \\nobtain a prediction of each target metric. We then assess whether \\nexternally forced climate change is detected by testing against the \\nnull hypothesis that the predicted test statistic is indistinguishable \\nfrom natural variability.\\nOverall, we estimate AGMT from any given day with a root mean \\nsquared error (RMSE) of 0.09 °C (Pearson correlation > 0.99) across \\nClimate change now detectable from any single \\nday of weather at global scale\\nSebastian Sippel\\u200a \\u200a1,2,3*, Nicolai Meinshausen2, Erich M. Fischer\\u200a \\u200a1, Enikő Székely\\u200a \\u200a4 and Reto Knutti\\u200a \\u200a1\\nNatuRE CliMatE ChaNgE | VOL 10 | JANuARy 2020 | 35–41 | www.nature.com/natureclimatechange\\n35\\n'"
      ]
     },
     "execution_count": 8,
     "metadata": {},
     "output_type": "execute_result"
    }
   ],
   "source": [
    "page1text"
   ]
  },
  {
   "cell_type": "code",
   "execution_count": 40,
   "metadata": {},
   "outputs": [
    {
     "name": "stdout",
     "output_type": "stream",
     "text": [
      "0.022048476000236406\n"
     ]
    }
   ],
   "source": [
    "print(end-start)"
   ]
  },
  {
   "cell_type": "code",
   "execution_count": 38,
   "metadata": {},
   "outputs": [
    {
     "name": "stdout",
     "output_type": "stream",
     "text": [
      "(469.82708740234375, 26.17009925842285, 544.9070434570312, 52.01009750366211, 'Letters', 0, 0)\n",
      "(391.9768981933594, 52.054752349853516, 543.9119262695312, 62.38275146484375, 'https://doi.org/10.1038/s41558-019-0666-7', 1, 0)\n",
      "(42.51969909667969, 726.0870361328125, 552.6649780273438, 747.8230590820312, '1Institute for Atmospheric and Climate Science, ETH Zurich, Zurich, Switzerland. 2Seminar for Statistics, ETH Zurich, Zurich, Switzerland. 3Norwegian Institute \\nof Bioeconomy Research, Ås, Norway. 4Swiss Data Science Center, ETH Zurich and EPFL, Lausanne, Switzerland. *e-mail: sebastian.sippel@env.ethz.ch', 2, 0)\n",
      "(42.49089813232422, 199.68580627441406, 293.76123046875, 706.2036743164062, 'For generations, climate scientists have educated the public \\nthat ‘weather is not climate’, and climate change has been \\nframed as the change in the distribution of weather that slowly \\nemerges from large variability over decades1–7. However, \\nweather when considered globally is now in uncharted terri-\\ntory. Here we show that on the basis of a single day of globally \\nobserved temperature and moisture, we detect the fingerprint \\nof externally driven climate change, and conclude that Earth as \\na whole is warming. Our detection approach invokes statisti-\\ncal learning and climate model simulations to encapsulate the \\nrelationship between spatial patterns of daily temperature and \\nhumidity, and key climate change metrics such as annual global \\nmean temperature or Earth’s energy imbalance. Observations \\nare projected onto this relationship to detect climate change. \\nThe fingerprint of climate change is detected from any single \\nday in the observed global record since early 2012, and since \\n1999 on the basis of a year of data. Detection is robust even \\nwhen ignoring the long-term global warming trend. This \\ncomplements traditional climate change detection, but also \\nopens broader perspectives for the communication of regional \\nweather events, modifying the climate change narrative: while \\nchanges in weather locally are emerging over decades, global \\nclimate change is now detected instantaneously.\\n“Climate is what you expect, weather is what you get”8. This \\nproverbial distinction between weather and climate has served for \\na long time in public and media discourse as a starting point for \\nscientists to distinguish day-to-day weather variability against the \\nlong-term forced response of climate change. The ‘weather versus \\nclimate paradigm’ is therefore typically invoked to explain phenom-\\nena that may be perceived as contradictory, such as cold winter days \\nin a warming climate. However, Earth’s climate is in fact variable on \\na broad spectrum of timescales9. Variability on weather timescales \\nintegrates to produce internal variability on ‘climate’ timescales10. \\nIt is therefore well established that, locally or regionally, irreduc-\\nible uncertainties related to internal climate variability might mask \\nforced climate changes in temperature or hydro-meteorological \\nvariables even for decades to come5,6.\\nDetection and attribution (D&A) studies aim to identify exter-\\nnally forced signals in the observed climate record7 such as in \\nsurface air temperature4, humidity11,12 or the seasonal cycle of tem-\\nperature13. The confidence in the detection of a key climate change \\nmetric, that is the 40-yr trend in annual mean tropospheric tem-\\nperature, is very high and has exceeded a 5σ detection threshold \\nrecently14. Nonetheless, it is often argued that long-term trends are \\nneeded to detect a signal. Here we test whether externally forced \\nclimate change can be detected on shorter timescales, or even an \\narbitrary day in the observed record, if detection is based on a global \\nspatial pattern.', 3, 0)\n",
      "(303.6351013183594, 200.1534423828125, 554.9005737304688, 707.0862426757812, 'We start with a simple example to illustrate the difference in \\nwarming experienced locally and globally (Fig. 1). The past decade \\n(2009–2018) has been on average 0.7 °C warmer than an earlier \\nperiod (1951–1980). Locally, deseasonalized daily temperature \\nanomalies fluctuate due to internal weather-related variability with \\na magnitude of up to 30 °C (Fig. 1a,c), depending on region and \\nseason. This substantial variation implies that despite an overall \\nwarmer climate, cold anomalies or even cold records can still occur \\nand are to be expected15. However, at the global scale, weather-\\nrelated variations tend to cancel out, and variations in deseasonal-\\nized global daily temperature anomalies are substantially reduced \\n(Fig. 1b,d). Consequently, mean warming of about 0.7 °C corre-\\nsponds to a change of about 2.0σ globally, but only to around 0.25σ \\nlocally. This difference is consistent with the occurrence of global \\nheat records in recent years despite large variability regionally16. \\nOverall, the example anticipates that ‘global weather’, even in the \\nform of a naive average, carries important although not the optimal \\ninformation about climate change.\\nFormal D&A of externally forced signals in Earth’s observed \\nclimate relies on spatial patterns, so-called ‘fingerprints’, that \\nencapsulate expected physical climate responses to external forc-\\ning7. We extend an established fingerprint detection method11,13,17 \\nby incorporating a regression method that improves the separa-\\ntion of signal and noise based on daily data (see Methods and \\nExtended Data Fig. 1). First, we define two key climate change \\nmetrics, annual global mean temperature (AGMT) and a decadal \\naverage of Earth’s energy imbalance (EEI), that serve as target \\nvariables for detection. AGMT characterizes climate warming \\nfrom a surface perspective, used in policy assessments18,19, while \\nEEI characterizes the state of climate change from a more physi-\\ncally motivated energy balance perspective20,21. Second, we train \\nregularized linear regression models, using ridge regression, \\nthat predict each of the two targets from daily spatial patterns of \\nsurface temperature and/or humidity for each month and based  \\non model simulations in the Coupled Model Intercomparison \\nProject Phase 5 (CMIP5) multi-model archive driven by external \\nforcing. This step yields fingerprints as maps of regression coef-\\nficients that encapsulate the relationship between global patterns \\nof daily weather and each target metric while reducing ‘noise’ in \\nregions with large internal variability or model disagreement. \\nFinally, and similarly to established detection methods11,13,17, \\nwe project observations onto the model-derived fingerprints to \\nobtain a prediction of each target metric. We then assess whether \\nexternally forced climate change is detected by testing against the \\nnull hypothesis that the predicted test statistic is indistinguishable \\nfrom natural variability.\\nOverall, we estimate AGMT from any given day with a root mean \\nsquared error (RMSE) of 0.09 °C (Pearson correlation > 0.99) across ', 4, 0)\n",
      "(42.51969909667969, 95.92555236816406, 525.89892578125, 154.91754150390625, 'Climate change now detectable from any single \\nday of weather at global scale', 5, 0)\n",
      "(42.51969909667969, 167.08154296875, 551.2595825195312, 182.57354736328125, 'Sebastian Sippel\\u200a \\u200a1,2,3*, Nicolai Meinshausen2, Erich M. Fischer\\u200a \\u200a1, Enikő Székely\\u200a \\u200a4 and Reto Knutti\\u200a \\u200a1', 6, 0)\n",
      "(42.51969909667969, 757.001953125, 552.7584228515625, 767.9835205078125, 'NatuRE CliMatE ChaNgE | VOL 10 | JANuARy 2020 | 35–41 | www.nature.com/natureclimatechange\\n35', 7, 0)\n"
     ]
    }
   ],
   "source": [
    "for block in page1.getText(\"blocks\"):\n",
    "        print(block)"
   ]
  },
  {
   "cell_type": "code",
   "execution_count": 35,
   "metadata": {},
   "outputs": [
    {
     "data": {
      "text/plain": [
       "'Letters\\nhttps://doi.org/10.1038/s41558-019-0666-7\\n1Institute for Atmospheric and Climate Science, ETH Zurich, Zurich, Switzerland. 2Seminar for Statistics, ETH Zurich, Zurich, Switzerland. 3Norwegian Institute \\nof Bioeconomy Research, Ås, Norway. 4Swiss Data Science Center, ETH Zurich and EPFL, Lausanne, Switzerland. *e-mail: sebastian.sippel@env.ethz.ch\\nFor generations, climate scientists have educated the public \\nthat ‘weather is not climate’, and climate change has been \\nframed as the change in the distribution of weather that slowly \\nemerges from large variability over decades1–7. However, \\nweather when considered globally is now in uncharted terri-\\ntory. Here we show that on the basis of a single day of globally \\nobserved temperature and moisture, we detect the fingerprint \\nof externally driven climate change, and conclude that Earth as \\na whole is warming. Our detection approach invokes statisti-\\ncal learning and climate model simulations to encapsulate the \\nrelationship between spatial patterns of daily temperature and \\nhumidity, and key climate change metrics such as annual global \\nmean temperature or Earth’s energy imbalance. Observations \\nare projected onto this relationship to detect climate change. \\nThe fingerprint of climate change is detected from any single \\nday in the observed global record since early 2012, and since \\n1999 on the basis of a year of data. Detection is robust even \\nwhen ignoring the long-term global warming trend. This \\ncomplements traditional climate change detection, but also \\nopens broader perspectives for the communication of regional \\nweather events, modifying the climate change narrative: while \\nchanges in weather locally are emerging over decades, global \\nclimate change is now detected instantaneously.\\n“Climate is what you expect, weather is what you get”8. This \\nproverbial distinction between weather and climate has served for \\na long time in public and media discourse as a starting point for \\nscientists to distinguish day-to-day weather variability against the \\nlong-term forced response of climate change. The ‘weather versus \\nclimate paradigm’ is therefore typically invoked to explain phenom-\\nena that may be perceived as contradictory, such as cold winter days \\nin a warming climate. However, Earth’s climate is in fact variable on \\na broad spectrum of timescales9. Variability on weather timescales \\nintegrates to produce internal variability on ‘climate’ timescales10. \\nIt is therefore well established that, locally or regionally, irreduc-\\nible uncertainties related to internal climate variability might mask \\nforced climate changes in temperature or hydro-meteorological \\nvariables even for decades to come5,6.\\nDetection and attribution (D&A) studies aim to identify exter-\\nnally forced signals in the observed climate record7 such as in \\nsurface air temperature4, humidity11,12 or the seasonal cycle of tem-\\nperature13. The confidence in the detection of a key climate change \\nmetric, that is the 40-yr trend in annual mean tropospheric tem-\\nperature, is very high and has exceeded a 5σ detection threshold \\nrecently14. Nonetheless, it is often argued that long-term trends are \\nneeded to detect a signal. Here we test whether externally forced \\nclimate change can be detected on shorter timescales, or even an \\narbitrary day in the observed record, if detection is based on a global \\nspatial pattern.\\nWe start with a simple example to illustrate the difference in \\nwarming experienced locally and globally (Fig. 1). The past decade \\n(2009–2018) has been on average 0.7 °C warmer than an earlier \\nperiod (1951–1980). Locally, deseasonalized daily temperature \\nanomalies fluctuate due to internal weather-related variability with \\na magnitude of up to 30 °C (Fig. 1a,c), depending on region and \\nseason. This substantial variation implies that despite an overall \\nwarmer climate, cold anomalies or even cold records can still occur \\nand are to be expected15. However, at the global scale, weather-\\nrelated variations tend to cancel out, and variations in deseasonal-\\nized global daily temperature anomalies are substantially reduced \\n(Fig. 1b,d). Consequently, mean warming of about 0.7 °C corre-\\nsponds to a change of about 2.0σ globally, but only to around 0.25σ \\nlocally. This difference is consistent with the occurrence of global \\nheat records in recent years despite large variability regionally16. \\nOverall, the example anticipates that ‘global weather’, even in the \\nform of a naive average, carries important although not the optimal \\ninformation about climate change.\\nFormal D&A of externally forced signals in Earth’s observed \\nclimate relies on spatial patterns, so-called ‘fingerprints’, that \\nencapsulate expected physical climate responses to external forc-\\ning7. We extend an established fingerprint detection method11,13,17 \\nby incorporating a regression method that improves the separa-\\ntion of signal and noise based on daily data (see Methods and \\nExtended Data Fig. 1). First, we define two key climate change \\nmetrics, annual global mean temperature (AGMT) and a decadal \\naverage of Earth’s energy imbalance (EEI), that serve as target \\nvariables for detection. AGMT characterizes climate warming \\nfrom a surface perspective, used in policy assessments18,19, while \\nEEI characterizes the state of climate change from a more physi-\\ncally motivated energy balance perspective20,21. Second, we train \\nregularized linear regression models, using ridge regression, \\nthat predict each of the two targets from daily spatial patterns of \\nsurface temperature and/or humidity for each month and based  \\non model simulations in the Coupled Model Intercomparison \\nProject Phase 5 (CMIP5) multi-model archive driven by external \\nforcing. This step yields fingerprints as maps of regression coef-\\nficients that encapsulate the relationship between global patterns \\nof daily weather and each target metric while reducing ‘noise’ in \\nregions with large internal variability or model disagreement. \\nFinally, and similarly to established detection methods11,13,17, \\nwe project observations onto the model-derived fingerprints to \\nobtain a prediction of each target metric. We then assess whether \\nexternally forced climate change is detected by testing against the \\nnull hypothesis that the predicted test statistic is indistinguishable \\nfrom natural variability.\\nOverall, we estimate AGMT from any given day with a root mean \\nsquared error (RMSE) of 0.09 °C (Pearson correlation > 0.99) across \\nClimate change now detectable from any single \\nday of weather at global scale\\nSebastian Sippel\\u200a \\u200a1,2,3*, Nicolai Meinshausen2, Erich M. Fischer\\u200a \\u200a1, Enikő Székely\\u200a \\u200a4 and Reto Knutti\\u200a \\u200a1\\nNatuRE CliMatE ChaNgE | VOL 10 | JANuARy 2020 | 35–41 | www.nature.com/natureclimatechange\\n35\\n'"
      ]
     },
     "execution_count": 35,
     "metadata": {},
     "output_type": "execute_result"
    }
   ],
   "source": [
    "page1text"
   ]
  },
  {
   "cell_type": "code",
   "execution_count": 8,
   "metadata": {},
   "outputs": [
    {
     "data": {
      "text/plain": [
       "[(469.82708740234375,\n",
       "  26.17009925842285,\n",
       "  544.9070434570312,\n",
       "  52.01009750366211,\n",
       "  'Letters',\n",
       "  0,\n",
       "  0),\n",
       " (391.9768981933594,\n",
       "  52.054752349853516,\n",
       "  543.9119262695312,\n",
       "  62.38275146484375,\n",
       "  'https://doi.org/10.1038/s41558-019-0666-7',\n",
       "  1,\n",
       "  0),\n",
       " (42.51969909667969,\n",
       "  726.0870361328125,\n",
       "  552.6649780273438,\n",
       "  747.8230590820312,\n",
       "  '1Institute for Atmospheric and Climate Science, ETH Zurich, Zurich, Switzerland. 2Seminar for Statistics, ETH Zurich, Zurich, Switzerland. 3Norwegian Institute \\nof Bioeconomy Research, Ås, Norway. 4Swiss Data Science Center, ETH Zurich and EPFL, Lausanne, Switzerland. *e-mail: sebastian.sippel@env.ethz.ch',\n",
       "  2,\n",
       "  0),\n",
       " (42.49089813232422,\n",
       "  199.68580627441406,\n",
       "  293.76123046875,\n",
       "  706.2036743164062,\n",
       "  'For generations, climate scientists have educated the public \\nthat ‘weather is not climate’, and climate change has been \\nframed as the change in the distribution of weather that slowly \\nemerges from large variability over decades1–7. However, \\nweather when considered globally is now in uncharted terri-\\ntory. Here we show that on the basis of a single day of globally \\nobserved temperature and moisture, we detect the fingerprint \\nof externally driven climate change, and conclude that Earth as \\na whole is warming. Our detection approach invokes statisti-\\ncal learning and climate model simulations to encapsulate the \\nrelationship between spatial patterns of daily temperature and \\nhumidity, and key climate change metrics such as annual global \\nmean temperature or Earth’s energy imbalance. Observations \\nare projected onto this relationship to detect climate change. \\nThe fingerprint of climate change is detected from any single \\nday in the observed global record since early 2012, and since \\n1999 on the basis of a year of data. Detection is robust even \\nwhen ignoring the long-term global warming trend. This \\ncomplements traditional climate change detection, but also \\nopens broader perspectives for the communication of regional \\nweather events, modifying the climate change narrative: while \\nchanges in weather locally are emerging over decades, global \\nclimate change is now detected instantaneously.\\n“Climate is what you expect, weather is what you get”8. This \\nproverbial distinction between weather and climate has served for \\na long time in public and media discourse as a starting point for \\nscientists to distinguish day-to-day weather variability against the \\nlong-term forced response of climate change. The ‘weather versus \\nclimate paradigm’ is therefore typically invoked to explain phenom-\\nena that may be perceived as contradictory, such as cold winter days \\nin a warming climate. However, Earth’s climate is in fact variable on \\na broad spectrum of timescales9. Variability on weather timescales \\nintegrates to produce internal variability on ‘climate’ timescales10. \\nIt is therefore well established that, locally or regionally, irreduc-\\nible uncertainties related to internal climate variability might mask \\nforced climate changes in temperature or hydro-meteorological \\nvariables even for decades to come5,6.\\nDetection and attribution (D&A) studies aim to identify exter-\\nnally forced signals in the observed climate record7 such as in \\nsurface air temperature4, humidity11,12 or the seasonal cycle of tem-\\nperature13. The confidence in the detection of a key climate change \\nmetric, that is the 40-yr trend in annual mean tropospheric tem-\\nperature, is very high and has exceeded a 5σ detection threshold \\nrecently14. Nonetheless, it is often argued that long-term trends are \\nneeded to detect a signal. Here we test whether externally forced \\nclimate change can be detected on shorter timescales, or even an \\narbitrary day in the observed record, if detection is based on a global \\nspatial pattern.',\n",
       "  3,\n",
       "  0),\n",
       " (303.6351013183594,\n",
       "  200.1534423828125,\n",
       "  554.9005737304688,\n",
       "  707.0862426757812,\n",
       "  'We start with a simple example to illustrate the difference in \\nwarming experienced locally and globally (Fig. 1). The past decade \\n(2009–2018) has been on average 0.7 °C warmer than an earlier \\nperiod (1951–1980). Locally, deseasonalized daily temperature \\nanomalies fluctuate due to internal weather-related variability with \\na magnitude of up to 30 °C (Fig. 1a,c), depending on region and \\nseason. This substantial variation implies that despite an overall \\nwarmer climate, cold anomalies or even cold records can still occur \\nand are to be expected15. However, at the global scale, weather-\\nrelated variations tend to cancel out, and variations in deseasonal-\\nized global daily temperature anomalies are substantially reduced \\n(Fig. 1b,d). Consequently, mean warming of about 0.7 °C corre-\\nsponds to a change of about 2.0σ globally, but only to around 0.25σ \\nlocally. This difference is consistent with the occurrence of global \\nheat records in recent years despite large variability regionally16. \\nOverall, the example anticipates that ‘global weather’, even in the \\nform of a naive average, carries important although not the optimal \\ninformation about climate change.\\nFormal D&A of externally forced signals in Earth’s observed \\nclimate relies on spatial patterns, so-called ‘fingerprints’, that \\nencapsulate expected physical climate responses to external forc-\\ning7. We extend an established fingerprint detection method11,13,17 \\nby incorporating a regression method that improves the separa-\\ntion of signal and noise based on daily data (see Methods and \\nExtended Data Fig. 1). First, we define two key climate change \\nmetrics, annual global mean temperature (AGMT) and a decadal \\naverage of Earth’s energy imbalance (EEI), that serve as target \\nvariables for detection. AGMT characterizes climate warming \\nfrom a surface perspective, used in policy assessments18,19, while \\nEEI characterizes the state of climate change from a more physi-\\ncally motivated energy balance perspective20,21. Second, we train \\nregularized linear regression models, using ridge regression, \\nthat predict each of the two targets from daily spatial patterns of \\nsurface temperature and/or humidity for each month and based  \\non model simulations in the Coupled Model Intercomparison \\nProject Phase 5 (CMIP5) multi-model archive driven by external \\nforcing. This step yields fingerprints as maps of regression coef-\\nficients that encapsulate the relationship between global patterns \\nof daily weather and each target metric while reducing ‘noise’ in \\nregions with large internal variability or model disagreement. \\nFinally, and similarly to established detection methods11,13,17, \\nwe project observations onto the model-derived fingerprints to \\nobtain a prediction of each target metric. We then assess whether \\nexternally forced climate change is detected by testing against the \\nnull hypothesis that the predicted test statistic is indistinguishable \\nfrom natural variability.\\nOverall, we estimate AGMT from any given day with a root mean \\nsquared error (RMSE) of 0.09 °C (Pearson correlation > 0.99) across ',\n",
       "  4,\n",
       "  0),\n",
       " (42.51969909667969,\n",
       "  95.92555236816406,\n",
       "  525.89892578125,\n",
       "  154.91754150390625,\n",
       "  'Climate change now detectable from any single \\nday of weather at global scale',\n",
       "  5,\n",
       "  0),\n",
       " (42.51969909667969,\n",
       "  167.08154296875,\n",
       "  551.2595825195312,\n",
       "  182.57354736328125,\n",
       "  'Sebastian Sippel\\u200a \\u200a1,2,3*, Nicolai Meinshausen2, Erich M. Fischer\\u200a \\u200a1, Enikő Székely\\u200a \\u200a4 and Reto Knutti\\u200a \\u200a1',\n",
       "  6,\n",
       "  0),\n",
       " (42.51969909667969,\n",
       "  757.001953125,\n",
       "  552.7584228515625,\n",
       "  767.9835205078125,\n",
       "  'NatuRE CliMatE ChaNgE | VOL 10 | JANuARy 2020 | 35–41 | www.nature.com/natureclimatechange\\n35',\n",
       "  7,\n",
       "  0)]"
      ]
     },
     "execution_count": 8,
     "metadata": {},
     "output_type": "execute_result"
    }
   ],
   "source": [
    "page1.getText(\"blocks\")"
   ]
  },
  {
   "cell_type": "code",
   "execution_count": 18,
   "metadata": {},
   "outputs": [],
   "source": [
    "doc = open(path_1, mode='rb')\n",
    "pdf_document = PyPDF4.PdfFileReader(doc)"
   ]
  },
  {
   "cell_type": "code",
   "execution_count": 19,
   "metadata": {},
   "outputs": [
    {
     "data": {
      "text/plain": [
       "'1\\nInstitute for Atmospheric and Climate Science, ETH Zurich, Zurich, Switzerland. \\n2\\nSeminar for Statistics, ETH Zurich, Zurich, Switzerland. \\n3\\nNorwegian Institute \\nof Bioeconomy Research, \\n˜\\ns, Norway. \\n4\\nSwiss Data Science Center, ETH Zurich and EPFL, Lausanne, Switzerland. *e-mail: \\nsebastian.sippel@env.ethz.ch\\nFor generations, climate scientists have educated the public \\nthat ‚weather is not climate™, and climate change has been \\nframed as the change in the distribution of weather that slowly \\nemerges from large variability over decades\\n1\\nŒ\\n7\\n. However, \\nweather when considered globally is now in uncharted terri\\n-\\ntory. Here we show that on the basis of a single day of globally \\nobserved temperature and moisture, we detect the fingerprint \\n\\nof externally driven climate change, and conclude that Earth as \\na whole is warming. Our detection approach invokes statisti\\n-\\ncal learning and climate model simulations to encapsulate the \\n\\nrelationship between spatial patterns of daily temperature and \\nhumidity, and key climate change metrics such as annual global \\nmean temperature or Earth™s energy imbalance. Observations \\n\\nare projected onto this relationship to detect climate change. \\n\\nThe fingerprint of climate change is detected from any single \\nday in the observed global record since early 2012, and since \\n1999 on the basis of a year of data. Detection is robust even \\n\\nwhen ignoring the long-term global warming trend. This \\ncomplements traditional climate change detection, but also \\nopens broader perspectives for the communication of regional \\n\\nweather events, modifying the climate change narrative: while \\nchanges in weather locally are emerging over decades, global \\nclimate change is now detected instantaneously.\\nﬁClimate is what you expect, weather is what you getﬂ\\n8\\n. This \\nproverbial distinction between weather and climate has served for \\na long time in public and media discourse as a starting point for \\nscientists to distinguish day-to-day weather variability against the \\nlong-term forced response of climate change. The ‚weather versus \\n\\nclimate paradigm™ is therefore typically invoked to explain phenom\\n-\\nena that may be perceived as contradictory, such as cold winter days \\n\\nin a warming climate. However, Earth™s climate is in fact variable on \\n\\na broad spectrum of timescales\\n9\\n. Variability on weather timescales \\nintegrates to produce internal variability on ‚climate™ timescales\\n10\\n. \\nIt is therefore well established that, locally or regionally, irreduc\\n-\\nible uncertainties related to internal climate variability might mask \\n\\nforced climate changes in temperature or hydro-meteorological \\n\\nvariables even for decades to come\\n5\\n,\\n6\\n.\\nDetection and attribution (D&A) studies aim to identify exter\\n-\\nnally forced signals in the observed climate record\\n7\\n such as in \\nsurface air temperature\\n4\\n, humidity\\n11\\n,\\n12\\n or the seasonal cycle of tem\\n-\\nperature\\n13\\n. The confidence in the detection of a key climate change \\nmetric, that is the 40-yr trend in annual mean tropospheric tem\\n-\\nperature, is very high and has exceeded a 5\\n˜\\n detection threshold \\n\\nrecently\\n14\\n. Nonetheless, it is often argued that long-term trends are \\nneeded to detect a signal. Here we test whether externally forced \\n\\nclimate change can be detected on shorter timescales, or even an \\narbitrary day in the observed record, if detection is based on a global \\nspatial pattern.\\nWe start with a simple example to illustrate the difference in \\nwarming experienced locally and globally (Fig. \\n1\\n). The past decade \\n\\n(2009Œ2018) has been on average 0.7\\n \\n°C warmer than an earlier \\nperiod (1951Œ1980). Locally, deseasonalized daily temperature \\n\\nanomalies fluctuate due to internal weather-related variability with \\na magnitude of up to 30\\n \\n°C (Fig. \\n1a,c\\n), depending on region and \\nseason. This substantial variation implies that despite an overall \\nwarmer climate, cold anomalies or even cold records can still occur \\n\\nand are to be expected\\n15\\n. However, at the global scale, weather-\\nrelated variations tend to cancel out, and variations in deseasonal\\n-\\nized global daily temperature anomalies are substantially reduced \\n\\n(Fig. \\n1b,d\\n). Consequently, mean warming of about 0.7\\n \\n°C corre\\n-\\nsponds to a change of about 2.0\\n˜\\n globally, but only to around 0.25\\n˜\\n \\n\\nlocally. This difference is consistent with the occurrence of global \\n\\nheat records in recent years despite large variability regionally\\n16\\n. \\nOverall, the example anticipates that ‚global weather™, even in the \\n\\nform of a naive average, carries important although not the optimal \\ninformation about climate change.\\nFormal D&A of externally forced signals in Earth™s observed \\nclimate relies on spatial patterns, so-called ‚fingerprints™, that \\nencapsulate expected physical climate responses to external forc\\n-\\ning\\n7\\n. We extend an established fingerprint detection method\\n11\\n,\\n13\\n,\\n17\\n \\nby incorporating a regression method that improves the separa\\n-\\ntion of signal and noise based on daily data (see Methods and \\n\\nExtended Data Fig. 1). First, we define two key climate change \\n\\nmetrics, annual global mean temperature (AGMT) and a decadal \\naverage of Earth™s energy imbalance (EEI), that serve as target \\nvariables for detection. AGMT characterizes climate warming \\n\\nfrom a surface perspective, used in policy assessments\\n18\\n,\\n19\\n, while \\nEEI characterizes the state of climate change from a more physi\\n-\\ncally motivated energy balance perspective\\n20\\n,\\n21\\n. Second, we train \\nregularized linear regression models, using ridge regression, \\n\\nthat predict each of the two targets from daily spatial patterns of \\nsurface temperature and/or humidity for each month and based \\n \\non model simulations in the Coupled Model Intercomparison \\nProject Phase 5 (CMIP5) multi-model archive driven by external \\n\\nforcing. This step yields fingerprints as maps of regression coef\\n-\\nficients that encapsulate the relationship between global patterns \\n\\nof daily weather and each target metric while reducing ‚noise™ in \\n\\nregions with large internal variability or model disagreement. \\nFinally, and similarly to established detection methods\\n11\\n,\\n13\\n,\\n17\\n, \\nwe project observations onto the model-derived fingerprints to \\nobtain a prediction of each target metric. We then assess whether \\nexternally forced climate change is detected by testing against the \\nnull hypothesis that the predicted test statistic is indistinguishable \\n\\nfrom natural variability.\\nOverall, we estimate AGMT from any given day with a root mean \\nsquared error (RMSE) of 0.09\\n \\n°C (Pearson correlation\\n \\n˚\\n \\n0.99) across \\nClimate change now detectable from any single \\nday of weather at global scale\\nSebastian Sippel˜\\n˜\\n1,2,3\\n*, Nicolai Meinshausen\\n2\\n, Erich M. Fischer˜\\n˜\\n1\\n, Enik˚ Székely˜\\n˜\\n4\\n and Reto Knutti˜\\n˜\\n1\\nNATU\\nRE\\n CLI\\nM\\nAT\\nE\\n CHA\\nN\\nG\\nE\\n | VOL 10 | \\nJ\\nAN\\nU\\nAR\\nY\\n 2020 | 35Œ41 | \\nwww.nature.com/natureclimatechange\\n35\\n'"
      ]
     },
     "execution_count": 19,
     "metadata": {},
     "output_type": "execute_result"
    }
   ],
   "source": [
    "first_page = pdf_document.getPage(0)\n",
    "first_page.extractText()"
   ]
  },
  {
   "cell_type": "code",
   "execution_count": 20,
   "metadata": {},
   "outputs": [],
   "source": [
    "first_page_ = re.sub(r'\\n', '', first_page.extractText())"
   ]
  },
  {
   "cell_type": "code",
   "execution_count": 21,
   "metadata": {},
   "outputs": [
    {
     "data": {
      "text/plain": [
       "'1Institute for Atmospheric and Climate Science, ETH Zurich, Zurich, Switzerland. 2Seminar for Statistics, ETH Zurich, Zurich, Switzerland. 3Norwegian Institute of Bioeconomy Research, ˜s, Norway. 4Swiss Data Science Center, ETH Zurich and EPFL, Lausanne, Switzerland. *e-mail: sebastian.sippel@env.ethz.chFor generations, climate scientists have educated the public that ‚weather is not climate™, and climate change has been framed as the change in the distribution of weather that slowly emerges from large variability over decades1Œ7. However, weather when considered globally is now in uncharted terri-tory. Here we show that on the basis of a single day of globally observed temperature and moisture, we detect the fingerprint of externally driven climate change, and conclude that Earth as a whole is warming. Our detection approach invokes statisti-cal learning and climate model simulations to encapsulate the relationship between spatial patterns of daily temperature and humidity, and key climate change metrics such as annual global mean temperature or Earth™s energy imbalance. Observations are projected onto this relationship to detect climate change. The fingerprint of climate change is detected from any single day in the observed global record since early 2012, and since 1999 on the basis of a year of data. Detection is robust even when ignoring the long-term global warming trend. This complements traditional climate change detection, but also opens broader perspectives for the communication of regional weather events, modifying the climate change narrative: while changes in weather locally are emerging over decades, global climate change is now detected instantaneously.ﬁClimate is what you expect, weather is what you getﬂ8. This proverbial distinction between weather and climate has served for a long time in public and media discourse as a starting point for scientists to distinguish day-to-day weather variability against the long-term forced response of climate change. The ‚weather versus climate paradigm™ is therefore typically invoked to explain phenom-ena that may be perceived as contradictory, such as cold winter days in a warming climate. However, Earth™s climate is in fact variable on a broad spectrum of timescales9. Variability on weather timescales integrates to produce internal variability on ‚climate™ timescales10. It is therefore well established that, locally or regionally, irreduc-ible uncertainties related to internal climate variability might mask forced climate changes in temperature or hydro-meteorological variables even for decades to come5,6.Detection and attribution (D&A) studies aim to identify exter-nally forced signals in the observed climate record7 such as in surface air temperature4, humidity11,12 or the seasonal cycle of tem-perature13. The confidence in the detection of a key climate change metric, that is the 40-yr trend in annual mean tropospheric tem-perature, is very high and has exceeded a 5˜ detection threshold recently14. Nonetheless, it is often argued that long-term trends are needed to detect a signal. Here we test whether externally forced climate change can be detected on shorter timescales, or even an arbitrary day in the observed record, if detection is based on a global spatial pattern.We start with a simple example to illustrate the difference in warming experienced locally and globally (Fig. 1). The past decade (2009Œ2018) has been on average 0.7 °C warmer than an earlier period (1951Œ1980). Locally, deseasonalized daily temperature anomalies fluctuate due to internal weather-related variability with a magnitude of up to 30 °C (Fig. 1a,c), depending on region and season. This substantial variation implies that despite an overall warmer climate, cold anomalies or even cold records can still occur and are to be expected15. However, at the global scale, weather-related variations tend to cancel out, and variations in deseasonal-ized global daily temperature anomalies are substantially reduced (Fig. 1b,d). Consequently, mean warming of about 0.7 °C corre-sponds to a change of about 2.0˜ globally, but only to around 0.25˜ locally. This difference is consistent with the occurrence of global heat records in recent years despite large variability regionally16. Overall, the example anticipates that ‚global weather™, even in the form of a naive average, carries important although not the optimal information about climate change.Formal D&A of externally forced signals in Earth™s observed climate relies on spatial patterns, so-called ‚fingerprints™, that encapsulate expected physical climate responses to external forc-ing7. We extend an established fingerprint detection method11,13,17 by incorporating a regression method that improves the separa-tion of signal and noise based on daily data (see Methods and Extended Data Fig. 1). First, we define two key climate change metrics, annual global mean temperature (AGMT) and a decadal average of Earth™s energy imbalance (EEI), that serve as target variables for detection. AGMT characterizes climate warming from a surface perspective, used in policy assessments18,19, while EEI characterizes the state of climate change from a more physi-cally motivated energy balance perspective20,21. Second, we train regularized linear regression models, using ridge regression, that predict each of the two targets from daily spatial patterns of surface temperature and/or humidity for each month and based  on model simulations in the Coupled Model Intercomparison Project Phase 5 (CMIP5) multi-model archive driven by external forcing. This step yields fingerprints as maps of regression coef-ficients that encapsulate the relationship between global patterns of daily weather and each target metric while reducing ‚noise™ in regions with large internal variability or model disagreement. Finally, and similarly to established detection methods11,13,17, we project observations onto the model-derived fingerprints to obtain a prediction of each target metric. We then assess whether externally forced climate change is detected by testing against the null hypothesis that the predicted test statistic is indistinguishable from natural variability.Overall, we estimate AGMT from any given day with a root mean squared error (RMSE) of 0.09 °C (Pearson correlation ˚ 0.99) across Climate change now detectable from any single day of weather at global scaleSebastian Sippel˜˜1,2,3*, Nicolai Meinshausen2, Erich M. Fischer˜˜1, Enik˚ Székely˜˜4 and Reto Knutti˜˜1NATURE CLIMATE CHANGE | VOL 10 | JANUARY 2020 | 35Œ41 | www.nature.com/natureclimatechange35'"
      ]
     },
     "execution_count": 21,
     "metadata": {},
     "output_type": "execute_result"
    }
   ],
   "source": [
    "first_page_"
   ]
  },
  {
   "cell_type": "code",
   "execution_count": 50,
   "metadata": {},
   "outputs": [
    {
     "data": {
      "text/plain": [
       "3336"
      ]
     },
     "execution_count": 50,
     "metadata": {},
     "output_type": "execute_result"
    }
   ],
   "source": [
    "first_page_.find('difference')"
   ]
  },
  {
   "cell_type": "code",
   "execution_count": 52,
   "metadata": {},
   "outputs": [],
   "source": [
    "first_page_sentences = first_page_.split('.')"
   ]
  },
  {
   "cell_type": "code",
   "execution_count": 51,
   "metadata": {},
   "outputs": [
    {
     "data": {
      "text/plain": [
       "'d'"
      ]
     },
     "execution_count": 51,
     "metadata": {},
     "output_type": "execute_result"
    }
   ],
   "source": [
    "first_page_[3336:]"
   ]
  },
  {
   "cell_type": "code",
   "execution_count": 58,
   "metadata": {},
   "outputs": [
    {
     "data": {
      "text/plain": [
       "50"
      ]
     },
     "execution_count": 58,
     "metadata": {},
     "output_type": "execute_result"
    }
   ],
   "source": [
    "first_page_sentences[2].find('Norway')"
   ]
  },
  {
   "cell_type": "code",
   "execution_count": 53,
   "metadata": {},
   "outputs": [
    {
     "data": {
      "text/plain": [
       "['1Institute for Atmospheric and Climate Science, ETH Zurich, Zurich, Switzerland',\n",
       " ' 2Seminar for Statistics, ETH Zurich, Zurich, Switzerland',\n",
       " ' 3Norwegian Institute of Bioeconomy Research, ˜s, Norway',\n",
       " ' 4Swiss Data Science Center, ETH Zurich and EPFL, Lausanne, Switzerland',\n",
       " ' *e-mail: sebastian',\n",
       " 'sippel@env',\n",
       " 'ethz',\n",
       " 'chFor generations, climate scientists have educated the public that ‚weather is not climate™, and climate change has been framed as the change in the distribution of weather that slowly emerges from large variability over decades1Œ7',\n",
       " ' However, weather when considered globally is now in uncharted terri-tory',\n",
       " ' Here we show that on the basis of a single day of globally observed temperature and moisture, we detect the fingerprint of externally driven climate change, and conclude that Earth as a whole is warming',\n",
       " ' Our detection approach invokes statisti-cal learning and climate model simulations to encapsulate the relationship between spatial patterns of daily temperature and humidity, and key climate change metrics such as annual global mean temperature or Earth™s energy imbalance',\n",
       " ' Observations are projected onto this relationship to detect climate change',\n",
       " ' The fingerprint of climate change is detected from any single day in the observed global record since early 2012, and since 1999 on the basis of a year of data',\n",
       " ' Detection is robust even when ignoring the long-term global warming trend',\n",
       " ' This complements traditional climate change detection, but also opens broader perspectives for the communication of regional weather events, modifying the climate change narrative: while changes in weather locally are emerging over decades, global climate change is now detected instantaneously',\n",
       " 'ﬁClimate is what you expect, weather is what you getﬂ8',\n",
       " ' This proverbial distinction between weather and climate has served for a long time in public and media discourse as a starting point for scientists to distinguish day-to-day weather variability against the long-term forced response of climate change',\n",
       " ' The ‚weather versus climate paradigm™ is therefore typically invoked to explain phenom-ena that may be perceived as contradictory, such as cold winter days in a warming climate',\n",
       " ' However, Earth™s climate is in fact variable on a broad spectrum of timescales9',\n",
       " ' Variability on weather timescales integrates to produce internal variability on ‚climate™ timescales10',\n",
       " ' It is therefore well established that, locally or regionally, irreduc-ible uncertainties related to internal climate variability might mask forced climate changes in temperature or hydro-meteorological variables even for decades to come5,6',\n",
       " 'Detection and attribution (D&A) studies aim to identify exter-nally forced signals in the observed climate record7 such as in surface air temperature4, humidity11,12 or the seasonal cycle of tem-perature13',\n",
       " ' The confidence in the detection of a key climate change metric, that is the 40-yr trend in annual mean tropospheric tem-perature, is very high and has exceeded a 5˜ detection threshold recently14',\n",
       " ' Nonetheless, it is often argued that long-term trends are needed to detect a signal',\n",
       " ' Here we test whether externally forced climate change can be detected on shorter timescales, or even an arbitrary day in the observed record, if detection is based on a global spatial pattern',\n",
       " 'We start with a simple example to illustrate the difference in warming experienced locally and globally (Fig',\n",
       " ' 1)',\n",
       " ' The past decade (2009Œ2018) has been on average 0',\n",
       " '7 °C warmer than an earlier period (1951Œ1980)',\n",
       " ' Locally, deseasonalized daily temperature anomalies fluctuate due to internal weather-related variability with a magnitude of up to 30 °C (Fig',\n",
       " ' 1a,c), depending on region and season',\n",
       " ' This substantial variation implies that despite an overall warmer climate, cold anomalies or even cold records can still occur and are to be expected15',\n",
       " ' However, at the global scale, weather-related variations tend to cancel out, and variations in deseasonal-ized global daily temperature anomalies are substantially reduced (Fig',\n",
       " ' 1b,d)',\n",
       " ' Consequently, mean warming of about 0',\n",
       " '7 °C corre-sponds to a change of about 2',\n",
       " '0˜ globally, but only to around 0',\n",
       " '25˜ locally',\n",
       " ' This difference is consistent with the occurrence of global heat records in recent years despite large variability regionally16',\n",
       " ' Overall, the example anticipates that ‚global weather™, even in the form of a naive average, carries important although not the optimal information about climate change',\n",
       " 'Formal D&A of externally forced signals in Earth™s observed climate relies on spatial patterns, so-called ‚fingerprints™, that encapsulate expected physical climate responses to external forc-ing7',\n",
       " ' We extend an established fingerprint detection method11,13,17 by incorporating a regression method that improves the separa-tion of signal and noise based on daily data (see Methods and Extended Data Fig',\n",
       " ' 1)',\n",
       " ' First, we define two key climate change metrics, annual global mean temperature (AGMT) and a decadal average of Earth™s energy imbalance (EEI), that serve as target variables for detection',\n",
       " ' AGMT characterizes climate warming from a surface perspective, used in policy assessments18,19, while EEI characterizes the state of climate change from a more physi-cally motivated energy balance perspective20,21',\n",
       " ' Second, we train regularized linear regression models, using ridge regression, that predict each of the two targets from daily spatial patterns of surface temperature and/or humidity for each month and based  on model simulations in the Coupled Model Intercomparison Project Phase 5 (CMIP5) multi-model archive driven by external forcing',\n",
       " ' This step yields fingerprints as maps of regression coef-ficients that encapsulate the relationship between global patterns of daily weather and each target metric while reducing ‚noise™ in regions with large internal variability or model disagreement',\n",
       " ' Finally, and similarly to established detection methods11,13,17, we project observations onto the model-derived fingerprints to obtain a prediction of each target metric',\n",
       " ' We then assess whether externally forced climate change is detected by testing against the null hypothesis that the predicted test statistic is indistinguishable from natural variability',\n",
       " 'Overall, we estimate AGMT from any given day with a root mean squared error (RMSE) of 0',\n",
       " '09 °C (Pearson correlation ˚ 0',\n",
       " '99) across Climate change now detectable from any single day of weather at global scaleSebastian Sippel˜˜1,2,3*, Nicolai Meinshausen2, Erich M',\n",
       " ' Fischer˜˜1, Enik˚ Székely˜˜4 and Reto Knutti˜˜1NATURE CLIMATE CHANGE | VOL 10 | JANUARY 2020 | 35Œ41 | www',\n",
       " 'nature',\n",
       " 'com/natureclimatechange35']"
      ]
     },
     "execution_count": 53,
     "metadata": {},
     "output_type": "execute_result"
    }
   ],
   "source": [
    "first_page_sentences"
   ]
  },
  {
   "cell_type": "code",
   "execution_count": 54,
   "metadata": {},
   "outputs": [],
   "source": [
    "mentions = set()"
   ]
  },
  {
   "cell_type": "code",
   "execution_count": 55,
   "metadata": {},
   "outputs": [],
   "source": [
    "def get_extract_metion(sentence):\n",
    "    if sentence.find('data')!=-1:\n",
    "        metions.add(''.join())\n",
    "    return"
   ]
  },
  {
   "cell_type": "code",
   "execution_count": null,
   "metadata": {},
   "outputs": [],
   "source": [
    "map(get_extract_metion, first_page_sentences)"
   ]
  }
 ],
 "metadata": {
  "kernelspec": {
   "display_name": "Python 3",
   "language": "python",
   "name": "python3"
  },
  "language_info": {
   "codemirror_mode": {
    "name": "ipython",
    "version": 3
   },
   "file_extension": ".py",
   "mimetype": "text/x-python",
   "name": "python",
   "nbconvert_exporter": "python",
   "pygments_lexer": "ipython3",
   "version": "3.7.5"
  }
 },
 "nbformat": 4,
 "nbformat_minor": 2
}
