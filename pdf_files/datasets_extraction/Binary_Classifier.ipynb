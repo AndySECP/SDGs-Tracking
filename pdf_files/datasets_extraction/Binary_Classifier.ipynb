{
 "cells": [
  {
   "cell_type": "markdown",
   "metadata": {},
   "source": [
    "# Binary Classifier\n",
    "\n",
    "## Date: February 9, 2020\n",
    "\n",
    "Binary classifier to classify the pages from the the 8k+ papers extracted from aminer as metioning or not the use of a dataset.\n",
    "\n",
    "This classfier is then gradually improve using active learning strategies."
   ]
  },
  {
   "cell_type": "code",
   "execution_count": 120,
   "metadata": {},
   "outputs": [],
   "source": [
    "import json\n",
    "import os\n",
    "import pandas as pd\n",
    "import matplotlib.pyplot as plt\n",
    "import seaborn as sns\n",
    "import nltk\n",
    "from nltk.corpus import stopwords\n",
    "from sklearn.feature_selection import chi2\n",
    "import string\n",
    "from sklearn.model_selection import train_test_split\n",
    "from sklearn.feature_extraction.text import TfidfVectorizer\n",
    "import numpy as np\n",
    "import pickle"
   ]
  },
  {
   "cell_type": "code",
   "execution_count": 2,
   "metadata": {},
   "outputs": [],
   "source": [
    "with open('labeled_sample/Acoustic radiation force imaging sonoelastography for noninvasive staging of liver fibrosis..pdf_page_0.json') as json_file:\n",
    "    smp = json.load(json_file)"
   ]
  },
  {
   "cell_type": "code",
   "execution_count": 3,
   "metadata": {},
   "outputs": [
    {
     "data": {
      "text/plain": [
       "0"
      ]
     },
     "execution_count": 3,
     "metadata": {},
     "output_type": "execute_result"
    }
   ],
   "source": [
    "list(smp.values())[0]"
   ]
  },
  {
   "cell_type": "code",
   "execution_count": 4,
   "metadata": {},
   "outputs": [
    {
     "data": {
      "text/plain": [
       "'www.wjgnet.comOnline Submissions: wjg.wjgnet.com                              World J Gastroenterol  2009 November 28; 15(44): 5525-5532wjg@wjgnet.com                                                        World Journal of Gastroenterology  ISSN 1007-9327doi:10.3748/wjg.15.5525                                                                                          © 2009 The WJG Press and Baishideng. All rights reserved. ORIGINAL ARTICLES ORIGINAL ARTICLEAcoustic radiation force imaging sonoelastography for Carmen Fierbinteanu-Braticevici, Dan Andronescu, Radu Usvat, Dragos Cretoiu, Cristian Baicus, Gabriela MarinoschiCarmen Fierbinteanu-Braticevici, Dan Andronescu, Radu Usvat, Medical Clinic ˛Ÿ and Gastroenterology, University Hospital, 050094 Bucharest, RomaniaDragos Cretoiu, Department of Cellular and Molecular Medicine, ﬁCarol Davilaﬂ University of Medicine and Pharmacy, 050094 Bucharest, RomaniaCristian Baicus, Department of Internal Medicine and Réseau d™Epidémiologie Clinique International Francophone (RECIF), Colentina Hospital, 020125 Bucharest, RomaniaGabriela Marinoschi, Institute of Mathematical Statistics and Applied Mathematics, 050711 Bucharest, RomaniaAuthor contributions: Fierbinteanu-Braticevici C supervised the whole study and edited the manuscript; Andronescu D and Usvat R collected the data and reviewed the manuscript; Cretoiu D completed the searches; Baicus C performed the statistical analysis and reviewed the manuscript; Marinoschi G participated in the statistical analysis.Supported byEducation and ResearchCorrespondence to: Carmen Fierbinteanu-Braticevici, Associate Professor, Medical Clinic ˛Ÿ and Gastroenterology, University Hospital, Splaiul Independentei 169, 050094 Bucharest, Telephone: +40-21-3180571  Fax: +40-21-3180571Received: August 12, 2009     Revised: September 14, 2009Accepted: September 21, 2009Published online: November 28, 2009AbstractAIM: To investigate the diagnostic accuracy of acoustic radiation force impulse (ARFI) imaging as a in chronic hepatitis C (CHC) patients.METHODS: We performed a prospective blind com-parison of ARFI elastography, APRI index and FibroMax in a consecutive series of patients who underwent liver biopsy for CHC in University Hospital Bucharest. His-METAVIR scoring system served as the reference. A to-tal of 74 patients underwent ARFI elastography, APRI index, FibroMax and successful liver biopsy. RESULTS: The noninvasive tests had a good correlation with the liver biopsy results. The most powerful test in predicting fibrosis was ARFI elastography. The diagnostic accuracy of ARFI elastography, expressed as area under receiver operating characteristic curve (AUROC) had a validity of 90.2% (95% CI AUROC = 0.831-0.972, P 2). ARFI sonoelastography predicted even better F3 or F4 fibrosis (AUROC = 0.993, 95% CI = 0.979-1).CONCLUSION: ARFI elastography had very good superior to other noninvasive methods (APRI Index, © 2009 The WJG Press and Baishideng. All rights reserved.Key words: Elasticity imaging techniques; Hepatitis C; Peer reviewers: Giovanni Tarantino, MD, Professor, Department of Clinical and Experimental Medicine, Federico II University Medical School, Via S. Pansini, 5, Naples 80131, Italy; Dr. Ching-Chung Lin, Gastroenterology Division, Mackay Memorial Hospital, 5F, No 28, Lane 286, Shidong Road, 11154 Taipei, Taiwan, ChinaFierbinteanu-Braticevici C, Andronescu D, Usvat R, Cretoiu D, Baicus C, Marinoschi G. Acoustic radiation force imaging World J Gastroenterol 2009; 15(44): 5525-5532  Available from: URL: http://www.wjgnet.com/1007-9327/15/5525.asp  DOI: http://dx.doi.org/10.3748/wjg.15.5525INTRODUCTIONThe prognosis and clinical management of chronic liver diseases are highly dependent on the extent of liver fibrosis. This is particularly true in patients with chronic hepatitis C (CHC), which is the leading cause of cirrhosis in many countries. CHC progresses to cirrhosis through a sequence of morphological changes that [1]. Staging systems of varying complexity based on these morphological changes have been used in patient management as a guide to prognosis, and in clinical investigations as an estimate of natural history and response to therapy. '"
      ]
     },
     "execution_count": 4,
     "metadata": {},
     "output_type": "execute_result"
    }
   ],
   "source": [
    "list(smp.keys())[0]"
   ]
  },
  {
   "cell_type": "code",
   "execution_count": 5,
   "metadata": {},
   "outputs": [
    {
     "name": "stdout",
     "output_type": "stream",
     "text": [
      "pass\n",
      "pass\n"
     ]
    }
   ],
   "source": [
    "d = {}\n",
    "for filename in os.listdir('labeled_sample'):\n",
    "    with open('labeled_sample/' + filename) as sample:\n",
    "        try: smp = json.load(sample, encoding='utf-32')\n",
    "        except: print('pass')\n",
    "    try: d.update(smp)\n",
    "    except: pass"
   ]
  },
  {
   "cell_type": "code",
   "execution_count": 6,
   "metadata": {},
   "outputs": [
    {
     "data": {
      "text/plain": [
       "186"
      ]
     },
     "execution_count": 6,
     "metadata": {},
     "output_type": "execute_result"
    }
   ],
   "source": [
    "len(d)"
   ]
  },
  {
   "cell_type": "code",
   "execution_count": 7,
   "metadata": {},
   "outputs": [],
   "source": [
    "dtf = pd.DataFrame.from_dict(d, orient='index').reset_index(drop=False).rename(columns={'index':'text',\n",
    "                                                                                       0:'label'})"
   ]
  },
  {
   "cell_type": "code",
   "execution_count": 10,
   "metadata": {},
   "outputs": [
    {
     "data": {
      "text/html": [
       "<div>\n",
       "<style scoped>\n",
       "    .dataframe tbody tr th:only-of-type {\n",
       "        vertical-align: middle;\n",
       "    }\n",
       "\n",
       "    .dataframe tbody tr th {\n",
       "        vertical-align: top;\n",
       "    }\n",
       "\n",
       "    .dataframe thead th {\n",
       "        text-align: right;\n",
       "    }\n",
       "</style>\n",
       "<table border=\"1\" class=\"dataframe\">\n",
       "  <thead>\n",
       "    <tr style=\"text-align: right;\">\n",
       "      <th></th>\n",
       "      <th>text</th>\n",
       "      <th>label</th>\n",
       "    </tr>\n",
       "  </thead>\n",
       "  <tbody>\n",
       "    <tr>\n",
       "      <th>0</th>\n",
       "      <td>International Journal of Commun...</td>\n",
       "      <td>1</td>\n",
       "    </tr>\n",
       "    <tr>\n",
       "      <th>1</th>\n",
       "      <td>International Journal of Computer Applications...</td>\n",
       "      <td>0</td>\n",
       "    </tr>\n",
       "    <tr>\n",
       "      <th>2</th>\n",
       "      <td>816. Conclusions  This thesis described the t...</td>\n",
       "      <td>0</td>\n",
       "    </tr>\n",
       "  </tbody>\n",
       "</table>\n",
       "</div>"
      ],
      "text/plain": [
       "                                                text  label\n",
       "0                 International Journal of Commun...      1\n",
       "1  International Journal of Computer Applications...      0\n",
       "2   816. Conclusions  This thesis described the t...      0"
      ]
     },
     "execution_count": 10,
     "metadata": {},
     "output_type": "execute_result"
    }
   ],
   "source": [
    "dtf.head(3)"
   ]
  },
  {
   "cell_type": "code",
   "execution_count": 11,
   "metadata": {},
   "outputs": [
    {
     "data": {
      "text/plain": [
       "Text(0.5, 1.0, 'Distriution of the lenght of the texts used')"
      ]
     },
     "execution_count": 11,
     "metadata": {},
     "output_type": "execute_result"
    },
    {
     "data": {
      "image/png": "[encoded data removed]",
      "text/plain": [
       "<Figure size 1296x360 with 1 Axes>"
      ]
     },
     "metadata": {},
     "output_type": "display_data"
    }
   ],
   "source": [
    "dtf_ = dtf.copy()\n",
    "plt.style.use('fivethirtyeight')\n",
    "dtf_['lenght'] = dtf_['text'].apply(lambda x: len(x))\n",
    "plt.figure(figsize=(18,5))\n",
    "sns.kdeplot(dtf_['lenght'], shade=True)\n",
    "plt.title('Distriution of the lenght of the texts used', size=18)"
   ]
  },
  {
   "cell_type": "code",
   "execution_count": 26,
   "metadata": {},
   "outputs": [
    {
     "data": {
      "text/plain": [
       "Text(0.5, 1.0, 'Class repartition for text with (label 0) or without (label 1) a dataset mentioned')"
      ]
     },
     "execution_count": 26,
     "metadata": {},
     "output_type": "execute_result"
    },
    {
     "data": {
      "image/png": "[encoded data removed]",
      "text/plain": [
       "<Figure size 864x360 with 1 Axes>"
      ]
     },
     "metadata": {},
     "output_type": "display_data"
    }
   ],
   "source": [
    "dtf_grouped = dtf.groupby('label').count()\n",
    "plt.figure(figsize=(12,5))\n",
    "ax = sns.barplot(x=dtf_grouped.index, y=\"text\", data=dtf_grouped)\n",
    "total = float(len(dtf))\n",
    "for p in ax.patches:\n",
    "    height = p.get_height()\n",
    "    ax.text(p.get_x()+p.get_width()/2.,\n",
    "            height + 3,\n",
    "            '{:1.2f}'.format(height/total),\n",
    "            ha=\"center\") \n",
    "plt.ylabel('Number of examples')\n",
    "plt.title('Class repartition for text with (label 0) or without (label 1) a dataset mentioned', size=13)"
   ]
  },
  {
   "cell_type": "code",
   "execution_count": 13,
   "metadata": {},
   "outputs": [
    {
     "data": {
      "text/html": [
       "<div>\n",
       "<style scoped>\n",
       "    .dataframe tbody tr th:only-of-type {\n",
       "        vertical-align: middle;\n",
       "    }\n",
       "\n",
       "    .dataframe tbody tr th {\n",
       "        vertical-align: top;\n",
       "    }\n",
       "\n",
       "    .dataframe thead th {\n",
       "        text-align: right;\n",
       "    }\n",
       "</style>\n",
       "<table border=\"1\" class=\"dataframe\">\n",
       "  <thead>\n",
       "    <tr style=\"text-align: right;\">\n",
       "      <th></th>\n",
       "      <th>text</th>\n",
       "    </tr>\n",
       "    <tr>\n",
       "      <th>label</th>\n",
       "      <th></th>\n",
       "    </tr>\n",
       "  </thead>\n",
       "  <tbody>\n",
       "    <tr>\n",
       "      <th>0</th>\n",
       "      <td>136</td>\n",
       "    </tr>\n",
       "    <tr>\n",
       "      <th>1</th>\n",
       "      <td>50</td>\n",
       "    </tr>\n",
       "  </tbody>\n",
       "</table>\n",
       "</div>"
      ],
      "text/plain": [
       "       text\n",
       "label      \n",
       "0       136\n",
       "1        50"
      ]
     },
     "execution_count": 13,
     "metadata": {},
     "output_type": "execute_result"
    }
   ],
   "source": [
    "dtf_grouped"
   ]
  },
  {
   "cell_type": "markdown",
   "metadata": {},
   "source": [
    "## I. Vectorization"
   ]
  },
  {
   "cell_type": "markdown",
   "metadata": {},
   "source": [
    "### Preprocess - Cleaning\n",
    "- remove numbers\n",
    "- remove punctuation\n",
    "- convert to lowercase"
   ]
  },
  {
   "cell_type": "code",
   "execution_count": 4,
   "metadata": {},
   "outputs": [],
   "source": [
    "import string"
   ]
  },
  {
   "cell_type": "code",
   "execution_count": 46,
   "metadata": {},
   "outputs": [],
   "source": [
    "txt = list(smp.keys())[0]"
   ]
  },
  {
   "cell_type": "code",
   "execution_count": 47,
   "metadata": {},
   "outputs": [
    {
     "data": {
      "text/plain": [
       "'  AppendixEPA conducted a comprehensive analysis of the emission impacts of biodiesel using heavy-duty, in-use diesel chassis and engine exhaust emissions data.  The emission impacts on NOx, PM, HC, and CO of 20 volume percent biodiesel fuels produced from various animal- and plant-based feedstock materials tested under several cycles in this analysis. v '"
      ]
     },
     "execution_count": 47,
     "metadata": {},
     "output_type": "execute_result"
    }
   ],
   "source": [
    "txt"
   ]
  },
  {
   "cell_type": "code",
   "execution_count": 56,
   "metadata": {},
   "outputs": [],
   "source": [
    "txt = txt.replace(\"\\r\", \" \")\n",
    "txt = txt.replace(\"\\n\", \" \")\n",
    "txt = txt.replace(\"    \", \" \")\n",
    "txt = txt.replace('\"', '')\n",
    "txt = txt.lower()\n",
    "txt = txt.replace(\"'s\", \"\")\n",
    "\n",
    "#remove punctuation\n",
    "txt = txt.translate(str.maketrans('', '', string.punctuation))"
   ]
  },
  {
   "cell_type": "markdown",
   "metadata": {},
   "source": [
    "### Tokenization"
   ]
  },
  {
   "cell_type": "code",
   "execution_count": 35,
   "metadata": {},
   "outputs": [],
   "source": [
    "tokenizer = nltk.tokenize.TreebankWordTokenizer()\n",
    "tokens = tokenizer.tokenize(txt)"
   ]
  },
  {
   "cell_type": "markdown",
   "metadata": {},
   "source": [
    "### Stop Words"
   ]
  },
  {
   "cell_type": "code",
   "execution_count": 59,
   "metadata": {},
   "outputs": [],
   "source": [
    "# Loading the stop words in english\n",
    "Stopwords = set(stopwords.words('english'))\n",
    "#removing stop words\n",
    "tokens = [token for token in tokens if token not in Stopwords and len(token)>=3]"
   ]
  },
  {
   "cell_type": "markdown",
   "metadata": {},
   "source": [
    "### Token normalization (lemmatization)"
   ]
  },
  {
   "cell_type": "code",
   "execution_count": 48,
   "metadata": {},
   "outputs": [],
   "source": [
    "lem = nltk.WordNetLemmatizer()\n",
    "txt = ' '.join(lem.lemmatize(token) for token in tokens)"
   ]
  },
  {
   "cell_type": "markdown",
   "metadata": {},
   "source": [
    "### Mapping it through the dataset"
   ]
  },
  {
   "cell_type": "code",
   "execution_count": 60,
   "metadata": {},
   "outputs": [],
   "source": [
    "def preprocess_text(txt):\n",
    "    #clean text\n",
    "    txt = txt.replace(\"\\r\", \" \")\n",
    "    txt = txt.replace(\"\\n\", \" \")\n",
    "    txt = txt.replace(\"    \", \" \")\n",
    "    txt = txt.replace('\"', '')\n",
    "    txt = txt.lower()\n",
    "    txt = txt.replace(\"'s\", \"\")\n",
    "\n",
    "    #remove punctuation\n",
    "    txt = txt.translate(str.maketrans('', '', string.punctuation))\n",
    "    \n",
    "    #tokenization\n",
    "    tokenizer = nltk.tokenize.TreebankWordTokenizer()\n",
    "    tokens = tokenizer.tokenize(txt)\n",
    "    \n",
    "    #stop words\n",
    "    # Loading the stop words in english\n",
    "    Stopwords = set(stopwords.words('english'))\n",
    "    #removing stop words\n",
    "    tokens = [token for token in tokens if token not in Stopwords and len(token)>=3]\n",
    "    \n",
    "    #Lemmatization\n",
    "    lem = nltk.WordNetLemmatizer()\n",
    "    txt = ' '.join(lem.lemmatize(token) for token in tokens)\n",
    "    \n",
    "    return txt"
   ]
  },
  {
   "cell_type": "code",
   "execution_count": 61,
   "metadata": {},
   "outputs": [],
   "source": [
    "dtf['text'] = dtf['text'].apply(preprocess_text)"
   ]
  },
  {
   "cell_type": "markdown",
   "metadata": {},
   "source": [
    "## II. Baseline Model\n",
    "\n",
    "It's helpful to start a modeling experiment trying out a couple of reliable baselines. Simple is better and it is key to understand how much we are gaining in terms of performance by adding extra complexity. \n",
    "\n",
    "As a result, let us start by trying out one of the simplest models out there for text classification. That is, a sparse linear model that gives a weight to each token and adds up all of the results, regardless of the order. The fact that we don't care about the order of the words in the sentence is the reason why this method is generally known as a Bag-of-Words (BOW) approach. \n",
    "\n",
    "https://colab.research.google.com/drive/1oXjNYSJ3VsRvAsXN4ClmtsVEgPW_CX_c?hl=en#scrollTo=MwCuemrKvq94"
   ]
  },
  {
   "cell_type": "markdown",
   "metadata": {},
   "source": [
    "### Train test split\n",
    "\n",
    "W use a test set to prove the quality of our models for future use (scaling it to new unseen papers). \n",
    "\n",
    "We can do Cross Validation in the train set in order to tune the hyperparameters and then test performance on the unseen data of the test set.\n",
    "\n",
    "In the split, we make sure to stratify the split by the label categories since we have an imbalanced dataset (we don't want the training set to have a different class proportion than the test set)."
   ]
  },
  {
   "cell_type": "code",
   "execution_count": 64,
   "metadata": {},
   "outputs": [],
   "source": [
    "X_train, X_test, y_train, y_test = train_test_split(dtf['text'], \n",
    "                                                    dtf['label'], \n",
    "                                                    test_size=0.15, \n",
    "                                                    random_state=42,\n",
    "                                                    stratify=dtf['label'])"
   ]
  },
  {
   "cell_type": "markdown",
   "metadata": {},
   "source": [
    "Let's review how our classes has been separated:"
   ]
  },
  {
   "cell_type": "code",
   "execution_count": 74,
   "metadata": {},
   "outputs": [
    {
     "data": {
      "text/plain": [
       "158"
      ]
     },
     "execution_count": 74,
     "metadata": {},
     "output_type": "execute_result"
    }
   ],
   "source": [
    "len(y_train)"
   ]
  },
  {
   "cell_type": "code",
   "execution_count": 76,
   "metadata": {},
   "outputs": [
    {
     "data": {
      "text/plain": [
       "0.26582278481012656"
      ]
     },
     "execution_count": 76,
     "metadata": {},
     "output_type": "execute_result"
    }
   ],
   "source": [
    "sum(y_train)/len(y_train)"
   ]
  },
  {
   "cell_type": "code",
   "execution_count": 77,
   "metadata": {},
   "outputs": [
    {
     "data": {
      "text/plain": [
       "28"
      ]
     },
     "execution_count": 77,
     "metadata": {},
     "output_type": "execute_result"
    }
   ],
   "source": [
    "len(y_test)"
   ]
  },
  {
   "cell_type": "code",
   "execution_count": 78,
   "metadata": {},
   "outputs": [
    {
     "data": {
      "text/plain": [
       "0.2857142857142857"
      ]
     },
     "execution_count": 78,
     "metadata": {},
     "output_type": "execute_result"
    }
   ],
   "source": [
    "sum(y_test)/len(y_test)"
   ]
  },
  {
   "cell_type": "code",
   "execution_count": 79,
   "metadata": {},
   "outputs": [
    {
     "data": {
      "text/plain": [
       "8"
      ]
     },
     "execution_count": 79,
     "metadata": {},
     "output_type": "execute_result"
    }
   ],
   "source": [
    "sum(y_test)"
   ]
  },
  {
   "cell_type": "markdown",
   "metadata": {},
   "source": [
    "### Text representation\n",
    "\n",
    "Here, in a baseline model evaluation, we are going to use TF-IDF representation. \n",
    "\n",
    "**TF-IDF**: *Tf-idf stands for term frequency-inverse document frequency. This weight is a statistical measure used to evaluate how important a word is to a document in a collection or corpus. The importance increases proportionally to the number of times a word appears in the document but is offset by the frequency of the word in the corpus. Variations of the tf-idf weighting scheme are often used by search engines as a central tool in scoring and ranking a document's relevance given a user query.*\n",
    "\n",
    "Source: http://www.tfidf.com/\n",
    "\n",
    "**Parameters**:\n",
    "- **ngram_range**: We will use unigrams, bigrams and trigrams \n",
    "- **max_df**: ignore terms that have a document frequency strictly higher than the given threshold *(float in range [0.0, 1.0] or int)*\n",
    "- **min_df**: ignore terms that have a document frequency strictly lower than the given threshold *(float in range [0.0, 1.0] or int)*\n",
    "- **max_features**: only consider the top max_features ordered by term frequency across the corpus"
   ]
  },
  {
   "cell_type": "code",
   "execution_count": 113,
   "metadata": {},
   "outputs": [],
   "source": [
    "# Parameters\n",
    "ngram_range = (1,3)\n",
    "min_df = 0.05\n",
    "max_df = 1.\n",
    "max_features = 300"
   ]
  },
  {
   "cell_type": "code",
   "execution_count": 114,
   "metadata": {},
   "outputs": [
    {
     "name": "stdout",
     "output_type": "stream",
     "text": [
      "Features train shape:  (158, 300)\n",
      "Features test shape:  (28, 300)\n"
     ]
    }
   ],
   "source": [
    "#Representation\n",
    "tfidf = TfidfVectorizer(encoding='utf-8',\n",
    "                        ngram_range=ngram_range,\n",
    "                        stop_words=None,\n",
    "                        lowercase=True,\n",
    "                        max_df=max_df,\n",
    "                        min_df=min_df,\n",
    "                        max_features=max_features,\n",
    "                        norm='l2',\n",
    "                        sublinear_tf=True)\n",
    "                        \n",
    "features_train = tfidf.fit_transform(X_train).toarray()\n",
    "print('Features train shape: ', features_train.shape)\n",
    "\n",
    "features_test = tfidf.transform(X_test).toarray()\n",
    "print('Features test shape: ', features_test.shape)"
   ]
  },
  {
   "cell_type": "markdown",
   "metadata": {},
   "source": [
    "To see which unigrams, bigrams and trigrams are most correlated with each category, we use a Chi squared test:"
   ]
  },
  {
   "cell_type": "code",
   "execution_count": 104,
   "metadata": {},
   "outputs": [
    {
     "name": "stdout",
     "output_type": "stream",
     "text": [
      "0\n",
      "# 'No mention of dataset (label 0)' category:\n",
      "  . Most correlated unigrams:\n",
      ". report\n",
      ". percent\n",
      ". residue\n",
      ". environmental\n",
      ". survey\n",
      "  . Most correlated bigrams:\n",
      ". \n",
      "  . Most correlated trigrams:\n",
      ". \n",
      "1\n",
      "# 'Mention of dataset (label 1)' category:\n",
      "  . Most correlated unigrams:\n",
      ". report\n",
      ". percent\n",
      ". residue\n",
      ". environmental\n",
      ". survey\n",
      "  . Most correlated bigrams:\n",
      ". \n",
      "  . Most correlated trigrams:\n",
      ". \n"
     ]
    }
   ],
   "source": [
    "for category_id, nme in enumerate(['No mention of dataset (label 0)', 'Mention of dataset (label 1)']):\n",
    "    print(category_id)\n",
    "    features_chi2 = chi2(features_train, y_train == category_id)\n",
    "    indices = np.argsort(features_chi2[0])\n",
    "    feature_names = np.array(tfidf.get_feature_names())[indices]\n",
    "    unigrams = [v for v in feature_names if len(v.split(' ')) == 1]\n",
    "    bigrams = [v for v in feature_names if len(v.split(' ')) == 2]\n",
    "    trigrams = [v for v in feature_names if len(v.split(' ')) == 3]\n",
    "    print(\"# '{}' category:\".format(nme))\n",
    "    print(\"  . Most correlated unigrams:\\n. {}\".format('\\n. '.join(unigrams[-5:])))\n",
    "    print(\"  . Most correlated bigrams:\\n. {}\".format('\\n. '.join(bigrams[-2:])))\n",
    "    print(\"  . Most correlated trigrams:\\n. {}\".format('\\n. '.join(trigrams[-2:])))"
   ]
  },
  {
   "cell_type": "code",
   "execution_count": 115,
   "metadata": {},
   "outputs": [],
   "source": [
    "feature_names = np.array(tfidf.get_feature_names())\n",
    "unigrams = [v for v in feature_names if len(v.split(' ')) == 1]\n",
    "bigrams = [v for v in feature_names if len(v.split(' ')) == 2]\n",
    "trigrams = [v for v in feature_names if len(v.split(' ')) == 3]"
   ]
  },
  {
   "cell_type": "code",
   "execution_count": 116,
   "metadata": {},
   "outputs": [
    {
     "data": {
      "text/plain": [
       "[]"
      ]
     },
     "execution_count": 116,
     "metadata": {},
     "output_type": "execute_result"
    }
   ],
   "source": [
    "bigrams"
   ]
  },
  {
   "cell_type": "code",
   "execution_count": 117,
   "metadata": {},
   "outputs": [
    {
     "data": {
      "text/plain": [
       "[]"
      ]
     },
     "execution_count": 117,
     "metadata": {},
     "output_type": "execute_result"
    }
   ],
   "source": [
    "trigrams"
   ]
  },
  {
   "cell_type": "markdown",
   "metadata": {},
   "source": [
    "### Saving our representations"
   ]
  },
  {
   "cell_type": "code",
   "execution_count": 118,
   "metadata": {},
   "outputs": [],
   "source": [
    "if not os.path.exists('Pickles'): os.mkdir('Pickles')"
   ]
  },
  {
   "cell_type": "code",
   "execution_count": 121,
   "metadata": {},
   "outputs": [],
   "source": [
    "# X_train\n",
    "with open('Pickles/X_train.pickle', 'wb') as output:\n",
    "    pickle.dump(X_train, output)\n",
    "    \n",
    "# X_test    \n",
    "with open('Pickles/X_test.pickle', 'wb') as output:\n",
    "    pickle.dump(X_test, output)\n",
    "    \n",
    "# y_train\n",
    "with open('Pickles/y_train.pickle', 'wb') as output:\n",
    "    pickle.dump(y_train, output)\n",
    "    \n",
    "# y_test\n",
    "with open('Pickles/y_test.pickle', 'wb') as output:\n",
    "    pickle.dump(y_test, output)\n",
    "    \n",
    "# df\n",
    "with open('Pickles/dtf.pickle', 'wb') as output:\n",
    "    pickle.dump(dtf, output)\n",
    "    \n",
    "# features_train\n",
    "with open('Pickles/features_train.pickle', 'wb') as output:\n",
    "    pickle.dump(features_train, output)\n",
    "\n",
    "# labels_train\n",
    "with open('Pickles/labels_train.pickle', 'wb') as output:\n",
    "    pickle.dump(y_train, output)\n",
    "\n",
    "# features_test\n",
    "with open('Pickles/features_test.pickle', 'wb') as output:\n",
    "    pickle.dump(features_test, output)\n",
    "\n",
    "# labels_test\n",
    "with open('Pickles/labels_test.pickle', 'wb') as output:\n",
    "    pickle.dump(y_test, output)\n",
    "    \n",
    "# TF-IDF object\n",
    "with open('Pickles/tfidf.pickle', 'wb') as output:\n",
    "    pickle.dump(tfidf, output)"
   ]
  },
  {
   "cell_type": "markdown",
   "metadata": {},
   "source": [
    "## III. Evaluation"
   ]
  },
  {
   "cell_type": "code",
   "execution_count": null,
   "metadata": {},
   "outputs": [],
   "source": []
  },
  {
   "cell_type": "code",
   "execution_count": null,
   "metadata": {},
   "outputs": [],
   "source": []
  },
  {
   "cell_type": "markdown",
   "metadata": {},
   "source": [
    "## TODO\n",
    "- use POS as features in the model\n",
    "- use NER as features in the model"
   ]
  },
  {
   "cell_type": "code",
   "execution_count": null,
   "metadata": {},
   "outputs": [],
   "source": []
  }
 ],
 "metadata": {
  "kernelspec": {
   "display_name": "Python 3",
   "language": "python",
   "name": "python3"
  },
  "language_info": {
   "codemirror_mode": {
    "name": "ipython",
    "version": 3
   },
   "file_extension": ".py",
   "mimetype": "text/x-python",
   "name": "python",
   "nbconvert_exporter": "python",
   "pygments_lexer": "ipython3",
   "version": "3.7.5"
  }
 },
 "nbformat": 4,
 "nbformat_minor": 2
}
