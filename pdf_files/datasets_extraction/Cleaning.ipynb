{
 "cells": [
  {
   "cell_type": "markdown",
   "metadata": {},
   "source": [
    "# Cleaning \n",
    "## Date: February 8, 2020\n",
    "\n",
    "Few scripts to clean a little bit the data before labeling them"
   ]
  },
  {
   "cell_type": "code",
   "execution_count": 84,
   "metadata": {},
   "outputs": [],
   "source": [
    "import os\n",
    "import json\n",
    "import re"
   ]
  },
  {
   "cell_type": "code",
   "execution_count": 2,
   "metadata": {},
   "outputs": [],
   "source": [
    "os.chdir('../../../../../Documents/Projects/AI4Good/data_aiminer')"
   ]
  },
  {
   "cell_type": "code",
   "execution_count": 3,
   "metadata": {},
   "outputs": [],
   "source": [
    "if not os.path.exists('page_selected_labeled'):\n",
    "    os.mkdir('page_selected_labeled')"
   ]
  },
  {
   "cell_type": "code",
   "execution_count": 6,
   "metadata": {},
   "outputs": [],
   "source": [
    "list_pages = [filename for filename in os.listdir('pages_selected_ter')]"
   ]
  },
  {
   "cell_type": "code",
   "execution_count": 7,
   "metadata": {},
   "outputs": [
    {
     "data": {
      "text/plain": [
       "8792"
      ]
     },
     "execution_count": 7,
     "metadata": {},
     "output_type": "execute_result"
    }
   ],
   "source": [
    "len(list_pages)"
   ]
  },
  {
   "cell_type": "code",
   "execution_count": 16,
   "metadata": {},
   "outputs": [],
   "source": [
    "with open('pages_selected_ter/'+list_pages[1]) as file:\n",
    "    page = json.load(file)"
   ]
  },
  {
   "cell_type": "code",
   "execution_count": 17,
   "metadata": {},
   "outputs": [
    {
     "data": {
      "text/plain": [
       "'Dis Aquat Org 112: 17Œ28, 20143d compared to the younger fish. Mortality kinetics andfinal CPM was greater in LQ fish than in QN fish.The LD50values calculated by both methods showedthe same pattern of the lower RM point estimatefalling within the 95% CI of the GLM method(Fig.3A). The GLM LD50values were higher in largefish than small fish for both the LQ and QN popula-tions, but this was only significant for the LQ popula-tion (Fig. 3A; log scale obscures the difference in val-ues for QN where small fish LD50was 9.5 × 104(2.4 ×104to 3.7 × 105) PFU mland large fish LD50was 1.0× 105(3.6 × 104to 3.0 × 105) PFU ml). This indicatesthat significantly more Qts07 virus was necessary tocause mortality in older fish only in the more suscep-tible LQ population. Survival analysis indicated thatfish age was a significant covariate of the risk ofdeath in LQ fish only (p<0.01).Additional steelhead trout  populations vary insusceptibility to IHNV MD Qts07To determine if steelhead trout populations from re-gions with naïve, newly emerged, or endemic IHNVhistories differ in susceptibility to the mG110M typeQts07 strain, LD50experiments were performed againwith the LQ and QN as well as 3 additional steelheadtrout populations (Table 3) in 2010 in fish that were3mo old. The EW and EC populations are from thesame site in the Puget Sound where neither M nor Ugroup IHNV has ever been de tected; both derive fromthe native wild steelhead trout of the Elwha River.The SK population comes from the Columbia RiverBasin, where IHNV has been en demic for over 30 yr,and where the mG110M has been detected manytimes in small fish since 2002. Mortality in all 5 ex -periments followed a dose-response pattern, andmortality in the mock exposed control groups was nomore than 1%tality wasslightly higher overall in both LQ and QN in 2010compared to 2009, but the results were consistent inthat a clear dose response was observed, and mortal-ity was again faster, and to higher final levels, in theLQ fish. Among the other 3 fish populations, onset ofmortality occurred on Day 3 in both EW and EC fish,and on Day 8 in SK fish. Mortality kinetics was fastestin EW fish, and slower in EC fish despite reachingonly slightly lower levels of final CPM. The SK fishhad the lowest and slowest mortality. A randomly selected subset of dead fish was tested for virus: allmortalities from virus-exposed groups had detectablevirus (ranging from 2.4 × 103to 8.5 × 106PFU g), andno mock-exposed mortalities had de tectable virus.LD50values were calculated by both GLM and RMmethods where possible; in LQ fish no dose yieldedless than 50% mortality, and in SK fish no doseyielded above 50% mortality (Fig. 3B). For the other3 steelhead trout populations the RM method pro-duced LD50values that were lower than the GLMpoint-estimates, but all were within the 95% CI of theGLM estimates. The wild native steelhead trout EWpopulation was significantly more susceptible thanthe hatchery-adapted EC population, which is rearedat the same location (p = 0.04). Compared to the LQand QN stocks, the EC and EW populations demon-24Fig. 3. Lethal dose (LD50) values for vari-ous Washington state steelhead trout(Oncorhynchus mykiss)populations andfish ages calculated from the data shownin Fig.2by generalised linear modeling(GLM; bars, with 95% confidence inter-vals), and by the Reed-Muench method(stars) (see ‚Materials and methods: Sta-tistical analysis™). (A) In 2009, tests wereconducted in ‚small™ (sm, solid bars) 3 moold (3 g) and ‚large™ (lg, stippled bars)11mo old (11 g) fish from the LQ and QNpopulations (codes as in Table 3). (B) In2010, tests were conducted using onlysmall fish from the LQ, QN, EW, EC, andSK populations. Differences between bio-logically relevant pairs of GLM LD50val-ues were tested using the Welch-Satterth-waite t-test; p-values shown in matricesbelow each graph, with significant differ-ences (p < 0.05) in bold; nd: not done'"
      ]
     },
     "execution_count": 17,
     "metadata": {},
     "output_type": "execute_result"
    }
   ],
   "source": [
    "page"
   ]
  },
  {
   "cell_type": "code",
   "execution_count": 18,
   "metadata": {},
   "outputs": [],
   "source": [
    "list_pages_lab = [filename for filename in os.listdir('pages_selected_labeled')]"
   ]
  },
  {
   "cell_type": "code",
   "execution_count": 23,
   "metadata": {},
   "outputs": [],
   "source": [
    "with open('pages_selected_labeled/'+'An International Law Analysis of EU Carbon Emissions Reduction Rules in the Aviation Industry.pdf_page_94.json') as file:\n",
    "    page = json.load(file)"
   ]
  },
  {
   "cell_type": "code",
   "execution_count": 24,
   "metadata": {},
   "outputs": [
    {
     "data": {
      "text/plain": [
       "'European Aviation Environmental Report ˜˚˛˝93˘šš˚ ˘: ˛ˇ ˙˚ˇ˙˝˚ˇIntroduction[˛] EC, ˜˚˛, An Aviation Strategy for Europe.[˜] EEA, ˜˚˛˙, Aviation and Shipping˙Œ impacts on Europe™s environment, Transport and Environment Reporting Mechanism (TERM) ˜˚˛˙, EEA Report No ˜˜/˜˚˛˙.[˘] EU, ˜˚˛˘, Decision No ˛ˆˇ˘/˜˚˛ˆ/EU on aGeneral Union Environment Action Programme to ˜˚˜˚ ‚Living well, within the limits of our planet™.[ˇ] EEA, ˜˚˛ˇ, Noise in Europe, EEA Report No ˛˚/˜˚˛ˇ.[] EC, ˛˝˝, Future noise policy, European Commission Green paper, COM ˝ˇ˚).[] EC, ˜˚˚˜, Directive ˜˚˚˜/˝/EC of the European Parliament and of the Council of ˜une ˜˚˚˜ relating to the assessment and management of environmental noise.[˙] EEA, ˜˚˛˚, Good practice guide on noise exposure and potential health eects, EEA Technical report No ˛˛/˜˚˛˚.[ˆ] EU, ˜˚˛ˇ, Regulation (EU)ˇ/˜˚ of the European Parliament and the Council of ˛pril ˜˚˛ˇ on the establishment of rules and procedures with regard to the introduction of noise related operating restrictions at Union airports withialanced Approach and repealing Directive ˜˚˚˜/˘˚/EC.[˝] EU, ˜˚˛ˆ, European Semester˙Œ Europe™s growth strategy and ˜˚˜˚ targets.[˛˚] EEA, ˜˚˛˙, Trends and projections in Europe ˜˚˛, EEA Report No ˛˙/˜˚˛˙.[˛˛] EU, ˜˚˛ˆ, EU climate and energy framework for ˜˚˜˚, ˜˚ˆ˚ and ˜˚˚.[˛˜] EC, ˜˚˛˛, White Paper, Roadmap to a˙Single European Transport Area˙Œ Towards a˙competitive and resource ecient transport system, COM(˜˚˛˛) ˛ˇnal.[˛˘] EEA, ˜˚˛˙, Air quality in Europe˙Œ ˜˚˛eport, EEA Report No ˛˘/˜˚˛˙.[˛ˇ] EC, ˜˚˚ˆ, Directive ˜˚˚˚/EC of the European Parliament and of the Council of ˜˛ May ˜˚˚ˆ on ambient air quality and cleaner air for Europe.[˛] EU, ˜˚˛ Directive (EU) ˜˚˛˘/˜˜ˇ of the European Parliament and of the Council of ˛ˇ December ˜˚˛n the reduction of national emissions of certain atmospheric pollutants, amending Directive ˜˚˚˘/˘/EC and repealing Directive ˜˚˚˛/ˆ˛/EC new National Emission Ceilings Directive ˜˚/˜˜ˆˇ.Overview of Aviation Sector[˛] World Health Organization Europe, ˜˚˛ˆ, Environmental Noise Guidelines for the European Region.[˛˙] EEA, ˜˚˛ˆ, Greenhouse gas˙- data viewer.[˛ˆ] EEA, ˜˚˛˙, Transport and Environment Reporting Mechanism (TERM) ˜˚˛.'"
      ]
     },
     "execution_count": 24,
     "metadata": {},
     "output_type": "execute_result"
    }
   ],
   "source": [
    "page"
   ]
  },
  {
   "cell_type": "code",
   "execution_count": 28,
   "metadata": {},
   "outputs": [
    {
     "data": {
      "text/plain": [
       "'˛ˇ ˙˚ˇ˙˝˚ˇ'"
      ]
     },
     "execution_count": 28,
     "metadata": {},
     "output_type": "execute_result"
    }
   ],
   "source": [
    "page[53:63]"
   ]
  },
  {
   "cell_type": "code",
   "execution_count": 61,
   "metadata": {},
   "outputs": [
    {
     "data": {
      "text/plain": [
       "'ˆˇ˘/˜˚˛ˆ/EU on aGeneral Union Environment Action Programme to ˜˚˜˚ ‚Living well, within the limits o'"
      ]
     },
     "execution_count": 61,
     "metadata": {},
     "output_type": "execute_result"
    }
   ],
   "source": [
    "page[300:400]"
   ]
  },
  {
   "cell_type": "code",
   "execution_count": 63,
   "metadata": {},
   "outputs": [
    {
     "data": {
      "text/plain": [
       "'ˆ'"
      ]
     },
     "execution_count": 63,
     "metadata": {},
     "output_type": "execute_result"
    }
   ],
   "source": [
    "page[300]"
   ]
  },
  {
   "cell_type": "code",
   "execution_count": 67,
   "metadata": {},
   "outputs": [],
   "source": [
    "char_to_remove = [page[39], page[42], page[46], page[50], page[53], page[54], page[56], \n",
    "                  page[57], page[58], page[60], page[300], '/', '[', ']']"
   ]
  },
  {
   "cell_type": "code",
   "execution_count": 68,
   "metadata": {},
   "outputs": [],
   "source": [
    "page_ = page\n",
    "for char in char_to_remove:\n",
    "    page_ = page_.replace(char, '')"
   ]
  },
  {
   "cell_type": "code",
   "execution_count": 69,
   "metadata": {},
   "outputs": [
    {
     "data": {
      "text/plain": [
       "'European Aviation Environmental Report 93 :  Introduction EC, , An Aviation Strategy for Europe. EEA, , Aviation and ShippingŒ impacts on Europe™s environment, Transport and Environment Reporting Mechanism (TERM) , EEA Report No . EU, , Decision No EU on aGeneral Union Environment Action Programme to  ‚Living well, within the limits of our planet™. EEA, , Noise in Europe, EEA Report No . EC, , Future noise policy, European Commission Green paper, COM ). EC, , Directive EC of the European Parliament and of the Council of une  relating to the assessment and management of environmental noise. EEA, , Good practice guide on noise exposure and potential health eects, EEA Technical report No . EU, , Regulation (EU) of the European Parliament and the Council of pril  on the establishment of rules and procedures with regard to the introduction of noise related operating restrictions at Union airports withialanced Approach and repealing Directive EC. EU, , European SemesterŒ Europe™s growth strategy and  targets. EEA, , Trends and projections in Europe , EEA Report No . EU, , EU climate and energy framework for ,  and . EC, , White Paper, Roadmap to aSingle European Transport AreaŒ Towards acompetitive and resource ecient transport system, COM() nal. EEA, , Air quality in EuropeŒ eport, EEA Report No . EC, , Directive EC of the European Parliament and of the Council of  May  on ambient air quality and cleaner air for Europe. EU,  Directive (EU)  of the European Parliament and of the Council of  December n the reduction of national emissions of certain atmospheric pollutants, amending Directive EC and repealing Directive EC new National Emission Ceilings Directive .Overview of Aviation Sector World Health Organization Europe, , Environmental Noise Guidelines for the European Region. EEA, , Greenhouse gas- data viewer. EEA, , Transport and Environment Reporting Mechanism (TERM) .'"
      ]
     },
     "execution_count": 69,
     "metadata": {},
     "output_type": "execute_result"
    }
   ],
   "source": [
    "page_"
   ]
  },
  {
   "cell_type": "code",
   "execution_count": 70,
   "metadata": {},
   "outputs": [],
   "source": [
    "def clean_text(text):\n",
    "    txt = text\n",
    "    for char in char_to_remove:\n",
    "        txt = txt.replace(char, '')\n",
    "    return txt"
   ]
  },
  {
   "cell_type": "code",
   "execution_count": 71,
   "metadata": {},
   "outputs": [],
   "source": [
    "def transform_text(path):\n",
    "    with open(path) as file:\n",
    "         page = json.load(file)\n",
    "    page_cleaned = clean_text(page)\n",
    "    os.remove(path)\n",
    "    with open(path, 'w') as json_file:\n",
    "        json.dump(page_cleaned, json_file)\n",
    "    return"
   ]
  },
  {
   "cell_type": "code",
   "execution_count": 96,
   "metadata": {},
   "outputs": [],
   "source": [
    "list_paths = ['pages_selected_labeled/'+filename for filename in os.listdir('pages_selected_labeled')]"
   ]
  },
  {
   "cell_type": "code",
   "execution_count": 76,
   "metadata": {},
   "outputs": [],
   "source": [
    "path = 'pages_selected_labeled/'+'An International Law Analysis of EU Carbon Emissions Reduction Rules in the Aviation Industry.pdf_page_94.json'\n",
    "transform_text(path)"
   ]
  },
  {
   "cell_type": "code",
   "execution_count": 77,
   "metadata": {},
   "outputs": [],
   "source": [
    "with open('pages_selected_labeled/'+'An International Law Analysis of EU Carbon Emissions Reduction Rules in the Aviation Industry.pdf_page_94.json') as file:\n",
    "    page = json.load(file)"
   ]
  },
  {
   "cell_type": "code",
   "execution_count": 78,
   "metadata": {},
   "outputs": [
    {
     "data": {
      "text/plain": [
       "'European Aviation Environmental Report 93 :  Introduction EC, , An Aviation Strategy for Europe. EEA, , Aviation and ShippingŒ impacts on Europe™s environment, Transport and Environment Reporting Mechanism (TERM) , EEA Report No . EU, , Decision No EU on aGeneral Union Environment Action Programme to  ‚Living well, within the limits of our planet™. EEA, , Noise in Europe, EEA Report No . EC, , Future noise policy, European Commission Green paper, COM ). EC, , Directive EC of the European Parliament and of the Council of une  relating to the assessment and management of environmental noise. EEA, , Good practice guide on noise exposure and potential health eects, EEA Technical report No . EU, , Regulation (EU) of the European Parliament and the Council of pril  on the establishment of rules and procedures with regard to the introduction of noise related operating restrictions at Union airports withialanced Approach and repealing Directive EC. EU, , European SemesterŒ Europe™s growth strategy and  targets. EEA, , Trends and projections in Europe , EEA Report No . EU, , EU climate and energy framework for ,  and . EC, , White Paper, Roadmap to aSingle European Transport AreaŒ Towards acompetitive and resource ecient transport system, COM() nal. EEA, , Air quality in EuropeŒ eport, EEA Report No . EC, , Directive EC of the European Parliament and of the Council of  May  on ambient air quality and cleaner air for Europe. EU,  Directive (EU)  of the European Parliament and of the Council of  December n the reduction of national emissions of certain atmospheric pollutants, amending Directive EC and repealing Directive EC new National Emission Ceilings Directive .Overview of Aviation Sector World Health Organization Europe, , Environmental Noise Guidelines for the European Region. EEA, , Greenhouse gas- data viewer. EEA, , Transport and Environment Reporting Mechanism (TERM) .'"
      ]
     },
     "execution_count": 78,
     "metadata": {},
     "output_type": "execute_result"
    }
   ],
   "source": [
    "page"
   ]
  },
  {
   "cell_type": "markdown",
   "metadata": {},
   "source": [
    "scale it to all file in the folder"
   ]
  },
  {
   "cell_type": "code",
   "execution_count": 80,
   "metadata": {},
   "outputs": [
    {
     "data": {
      "text/plain": [
       "<map at 0x11355b450>"
      ]
     },
     "execution_count": 80,
     "metadata": {},
     "output_type": "execute_result"
    }
   ],
   "source": [
    "map(transform_text, list_paths)"
   ]
  },
  {
   "cell_type": "code",
   "execution_count": 81,
   "metadata": {},
   "outputs": [],
   "source": [
    "path_2 = 'An International Law Analysis of EU Carbon Emissions Reduction Rules in the Aviation Industry.pdf_page_98.json'"
   ]
  },
  {
   "cell_type": "code",
   "execution_count": 82,
   "metadata": {},
   "outputs": [],
   "source": [
    "with open('pages_selected_labeled/'+path_2) as file:\n",
    "    page = json.load(file)"
   ]
  },
  {
   "cell_type": "code",
   "execution_count": 83,
   "metadata": {},
   "outputs": [
    {
     "data": {
      "text/plain": [
       "'European Aviation Environmental Report ˜˚˛˝97[˙˙] EU, ˜˚˛˙, Regulation (EU) ˜˚˛/˜ˆ˝˜ of the European Parliament and of the Council of ˛˘ December ˜˚˛˙ amending Directive ˜˚˚˘/ˆ˙/EC to continue current limitations of scope for aviation activities and to prepare to implement lobal market-based measure from ˜˚˜˛.[˙ˆ] EEA, ˜˚˛ˆ, EU ETS data viewer. Data extracted on ˘˛//˜˚˛ˆ.[˙˝] EEX Group, ˜˚˛ˆ, Market Data˙- Environmental markets.[ˆ˚] EU, ˜˚˛ˆ, Directive (EU) ˜˚˛ˇ/˛˚ of the European Parliament and of the Council of ˛ˇ March ˜˚˛ˆ amending Directive ˜˚˚˘/ˆ˙/EC to enhance cost-eective emission reductions and low-carbon investments, and Decision (EU) ˜˚˛/˛ˆ˛ˇ.[ˆ˛] ICAO, ˜˚˛, Resolution Aˆ˝-ˆ: Consolidated statement of continuing ICAO policies and practices related to environmental protectiolobal Market-based Measure (MBM) scheme.Aviation Environmental Impacts[ˆ˜] Basner M, Babisch W, Davis A, Brink M, Clark C, Janssen S, Stansfeld S., ˜˚˛˘, Auditory and non-auditory eects of noise on health.[ˆ˘] World Health Organization Europe, ˜˚˛˛, Burden of disease from environmental noiseŠ Quantication of healthy life years lost in Europe.[ˆˇ] H.M.E. Miedema, ˜˚˚˙, Annoyance caused by environmental noise: Elements for evidence-based noise policies.[ˆ] H.M.E. Miedema, C.G.M. Oudshoorn, ˜˚˚˛, Annoyance from transportation noise: relationships with exposure metrics DNL and DENL and their condence intervals.[ˆ] Basner M, Clark C, Hansell A, Hileman JI, Janssen S, Shepherd K, et al., ˜˚˛˙, Aviation noise impacts: state of the science.[ˆ˙] Forum Flughafen & Region Umwelt-und Nachbarschaftshaus, ˜˚˛, NORAH Knowledge No. ˛- NORAH Noise Impact Study Overview of Results.[ˆˆ] Guski, R., Klatte, M., Moehler, U., Muller, U., zur Nieden, A., Schreckenberg, D., ˜˚˛, NORAH (Noise Related Annoyance, Cognition and Health): Questions, designs and main results.[ˆ˝] Forum Flughafen & Region Umwelt-und Nachbarschaftshaus, ˜˚˛, NORAH Knowledge No. ˛˚˙- Aircraft noise and nocturnal sleep.[˝˚] Zurich Airport, ˜˚˛˘, Zurich Airport Regional Air Quality Study ˜˚˛ˆ.[˝˛] ACI EUROPE, ˜˚˛ˆ, Ultrane Particles at Airports.[˝˜] Zurich Airport, ˜˚˛˙, Taxi-Emissions at Zurich Airport˙- Calculation Analysis and Opportunities.[˝˘] Zurich Airport, ˜˚˛ˆ, Ultrane Particle Measurements at Zurich Airport.[˝ˇ] Barrett et al., ˜˚˛˚, Global Mortality Attributable to Aircraft Cruise Emissions.[˝] Yim et al., ˜˚˛, Global, regional and local health impacts of civil aviation emissions.[˝] Keuken et al., ˜˚˛, Total and size-resolved particle number and black carbon concentrations in urban areas near Schiphol airport (the Netherlands), Atmospheric Environment ˛˚ˇ (˜˚˛), p. ˛˘˜-˛ˇ˜.[˝˙] Syddansk Universitet et al., ˜˚˛, Helbredsskader og partikelforurening i˙Københavns Lufthavn, Kastrup.'"
      ]
     },
     "execution_count": 83,
     "metadata": {},
     "output_type": "execute_result"
    }
   ],
   "source": [
    "page"
   ]
  },
  {
   "cell_type": "code",
   "execution_count": 89,
   "metadata": {},
   "outputs": [
    {
     "data": {
      "text/plain": [
       "'European Aviation Environmental Report 97[] EU, , Regulation (EU) / of the European Parliament and of the Council of  December  amending Directive //EC to continue current limitations of scope for aviation activities and to prepare to implement lobal market-based measure from .[] EEA, , EU ETS data viewer. Data extracted on //.[] EEX Group, , Market Data- Environmental markets.[] EU, , Directive (EU) / of the European Parliament and of the Council of  March  amending Directive //EC to enhance cost-eective emission reductions and low-carbon investments, and Decision (EU) /.[] ICAO, , Resolution A-: Consolidated statement of continuing ICAO policies and practices related to environmental protectiolobal Market-based Measure (MBM) scheme.Aviation Environmental Impacts[] Basner M, Babisch W, Davis A, Brink M, Clark C, Janssen S, Stansfeld S., , Auditory and non-auditory eects of noise on health.[] World Health Organization Europe, , Burden of disease from environmental noise Quantication of healthy life years lost in Europe.[] H.M.E. Miedema, , Annoyance caused by environmental noise: Elements for evidence-based noise policies.[] H.M.E. Miedema, C.G.M. Oudshoorn, , Annoyance from transportation noise: relationships with exposure metrics DNL and DENL and their condence intervals.[] Basner M, Clark C, Hansell A, Hileman JI, Janssen S, Shepherd K, et al., , Aviation noise impacts: state of the science.[] Forum Flughafen & Region Umwelt-und Nachbarschaftshaus, , NORAH Knowledge No. - NORAH Noise Impact Study Overview of Results.[] Guski, R., Klatte, M., Moehler, U., Muller, U., zur Nieden, A., Schreckenberg, D., , NORAH (Noise Related Annoyance, Cognition and Health): Questions, designs and main results.[] Forum Flughafen & Region Umwelt-und Nachbarschaftshaus, , NORAH Knowledge No. - Aircraft noise and nocturnal sleep.[] Zurich Airport, , Zurich Airport Regional Air Quality Study .[] ACI EUROPE, , Ultrane Particles at Airports.[] Zurich Airport, , Taxi-Emissions at Zurich Airport- Calculation Analysis and Opportunities.[] Zurich Airport, , Ultrane Particle Measurements at Zurich Airport.[] Barrett et al., , Global Mortality Attributable to Aircraft Cruise Emissions.[] Yim et al., , Global, regional and local health impacts of civil aviation emissions.[] Keuken et al., , Total and size-resolved particle number and black carbon concentrations in urban areas near Schiphol airport (the Netherlands), Atmospheric Environment  (), p. -.[] Syddansk Universitet et al., , Helbredsskader og partikelforurening iKbenhavns Lufthavn, Kastrup.'"
      ]
     },
     "execution_count": 89,
     "metadata": {},
     "output_type": "execute_result"
    }
   ],
   "source": [
    "regex = re.compile('[^a-zA-Z0-9\\s!\"#$%&\\'()*+,-./:;<=>?@[\\\\]^_`{|}~]')\n",
    "regex.sub('', page)"
   ]
  },
  {
   "cell_type": "code",
   "execution_count": 98,
   "metadata": {},
   "outputs": [],
   "source": [
    "regex = re.compile('[^a-zA-Z0-9\\s!\"#$%&\\'()*+,-./:;<=>?@[\\\\]^_`{|}~]')\n",
    "def clean_text_2(text):\n",
    "    txt = text\n",
    "    for char in char_to_remove:\n",
    "        txt = regex.sub('', text)\n",
    "        #txt = txt.replace('[', '')\n",
    "        #txt = txt.replace(']', '')\n",
    "    return txt"
   ]
  },
  {
   "cell_type": "code",
   "execution_count": 101,
   "metadata": {},
   "outputs": [],
   "source": [
    "def transform_text_2(path):\n",
    "    with open(path, encoding='windows-1252') as file:\n",
    "         page = json.load(file)\n",
    "    page_cleaned = clean_text_2(page)\n",
    "    os.remove(path)\n",
    "    with open(path, 'w') as json_file:\n",
    "        json.dump(page_cleaned, json_file)\n",
    "    return"
   ]
  },
  {
   "cell_type": "code",
   "execution_count": 102,
   "metadata": {},
   "outputs": [
    {
     "data": {
      "text/plain": [
       "<map at 0x11358a7d0>"
      ]
     },
     "execution_count": 102,
     "metadata": {},
     "output_type": "execute_result"
    }
   ],
   "source": [
    "map(transform_text_2, list_paths)"
   ]
  },
  {
   "cell_type": "code",
   "execution_count": 104,
   "metadata": {},
   "outputs": [
    {
     "name": "stdout",
     "output_type": "stream",
     "text": [
      "pages_selected_labeled/.DS_Store\n"
     ]
    }
   ],
   "source": [
    "for path in list_paths:\n",
    "    try:\n",
    "        transform_text_2(path)\n",
    "    except: print(path)"
   ]
  },
  {
   "cell_type": "code",
   "execution_count": null,
   "metadata": {},
   "outputs": [],
   "source": []
  }
 ],
 "metadata": {
  "kernelspec": {
   "display_name": "Python 3",
   "language": "python",
   "name": "python3"
  },
  "language_info": {
   "codemirror_mode": {
    "name": "ipython",
    "version": 3
   },
   "file_extension": ".py",
   "mimetype": "text/x-python",
   "name": "python",
   "nbconvert_exporter": "python",
   "pygments_lexer": "ipython3",
   "version": "3.7.5"
  }
 },
 "nbformat": 4,
 "nbformat_minor": 2
}
