{
 "cells": [
  {
   "cell_type": "markdown",
   "metadata": {},
   "source": [
    "# Test for webscrapping with scraperapi\n",
    "\n",
    "## Date: Thursday, April 2, 2020"
   ]
  },
  {
   "cell_type": "code",
   "execution_count": 7,
   "metadata": {},
   "outputs": [],
   "source": [
    "import requests\n",
    "import re"
   ]
  },
  {
   "cell_type": "code",
   "execution_count": 15,
   "metadata": {},
   "outputs": [],
   "source": [
    "SEARCH_URL = \"https://google.com/search\"\n",
    "search_filter = 'filetype:pdf'\n",
    "title = 'sarbecovirus lineage responsible for the COVID-19 pandemic'\n",
    "scraper_api = 'http://api.scraperapi.com'\n",
    "url_to_scrape = SEARCH_URL + \"?q=\"+ title"
   ]
  },
  {
   "cell_type": "code",
   "execution_count": 3,
   "metadata": {},
   "outputs": [],
   "source": [
    "full_url = scraper_api + '?api_key=' + api_key +'&url=' + SEARCH_URL + '?q=' + search_filter + ' ' + title"
   ]
  },
  {
   "cell_type": "code",
   "execution_count": 4,
   "metadata": {},
   "outputs": [],
   "source": [
    "r = requests.get(full_url)"
   ]
  },
  {
   "cell_type": "code",
   "execution_count": 5,
   "metadata": {},
   "outputs": [
    {
     "data": {
      "text/plain": [
       "200"
      ]
     },
     "execution_count": 5,
     "metadata": {},
     "output_type": "execute_result"
    }
   ],
   "source": [
    "r.status_code"
   ]
  },
  {
   "cell_type": "code",
   "execution_count": 6,
   "metadata": {},
   "outputs": [],
   "source": [
    "ctt = str(r.content)"
   ]
  },
  {
   "cell_type": "code",
   "execution_count": 9,
   "metadata": {},
   "outputs": [],
   "source": [
    "urls = re.findall(r'href=[\\'\"]?([^\\'\" >]+).pdf', ctt)\n",
    "urls_v2 = [url for url in urls if url.startswith('http')]\n",
    "urls_v3 = [url for url in urls_v2 if 'google' not in url]\n",
    "urls_v4 = [url + '.pdf' for url in urls_v3]"
   ]
  },
  {
   "cell_type": "code",
   "execution_count": 12,
   "metadata": {},
   "outputs": [
    {
     "data": {
      "text/plain": [
       "['https://www.biorxiv.org/content/10.1101/2020.03.30.015008v1.full.pdf',\n",
       " 'https://www.ecdc.europa.eu/sites/default/files/documents/SARS-CoV-2-risk-assessment-14-feb-2020.pdf',\n",
       " 'https://www.ecdc.europa.eu/sites/default/files/documents/RRA-outbreak-novel-coronavirus-disease-2019-increase-transmission-globally-COVID-19.pdf',\n",
       " 'https://journals.lww.com/cmj/Documents/CMJ%202019%20novel%20coronavirus%20disease%20(COVID-19)%20collection.pdf',\n",
       " 'https://www.mdpi.com/1999-4915/12/4/372.pdf',\n",
       " 'https://www.cdc.gov/coronavirus/2019-ncov/downloads/genomic-characterization-of-2019-nCoV-Lancet-1-29-2020.pdf',\n",
       " 'https://www.cureus.com/articles/29459-brief-review-on-covid-19-the-2020-pandemic-caused-by-sars-cov-2.pdf',\n",
       " 'https://academic.oup.com/nsr/advance-article-pdf/doi/10.1093/nsr/nwaa036/32892216/nwaa036.pdf']"
      ]
     },
     "execution_count": 12,
     "metadata": {},
     "output_type": "execute_result"
    }
   ],
   "source": [
    "urls_v4"
   ]
  },
  {
   "cell_type": "code",
   "execution_count": 13,
   "metadata": {},
   "outputs": [],
   "source": [
    "try:\n",
    "    try:\n",
    "        response = requests.get(urls_v4[0])\n",
    "    except:\n",
    "        response = requests.get(urls_v4[1])\n",
    "except: pass"
   ]
  },
  {
   "cell_type": "code",
   "execution_count": 14,
   "metadata": {},
   "outputs": [],
   "source": [
    "with open('test.pdf', 'wb') as f:\n",
    "    f.write(response.content)"
   ]
  },
  {
   "cell_type": "code",
   "execution_count": null,
   "metadata": {},
   "outputs": [],
   "source": []
  }
 ],
 "metadata": {
  "kernelspec": {
   "display_name": "Python 3",
   "language": "python",
   "name": "python3"
  },
  "language_info": {
   "codemirror_mode": {
    "name": "ipython",
    "version": 3
   },
   "file_extension": ".py",
   "mimetype": "text/x-python",
   "name": "python",
   "nbconvert_exporter": "python",
   "pygments_lexer": "ipython3",
   "version": "3.7.4"
  }
 },
 "nbformat": 4,
 "nbformat_minor": 4
}
